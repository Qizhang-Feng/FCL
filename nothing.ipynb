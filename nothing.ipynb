{
 "cells": [
  {
   "cell_type": "code",
   "execution_count": 1,
   "metadata": {},
   "outputs": [],
   "source": [
    "%load_ext autoreload\n",
    "%autoreload 2\n",
    "from data_util import *\n",
    "from metric_util import *\n",
    "from train_util import *\n",
    "from model import *\n",
    "\n",
    "import torch \n",
    "import pickle\n",
    "from torch import nn\n",
    "import torch.nn.functional as F\n",
    "from torch.optim import Adam, SGD\n",
    "import numpy as np\n",
    "from torch.utils.data import Dataset, DataLoader\n",
    "from tqdm import tqdm\n",
    "import os\n",
    "from matplotlib import pyplot as plt\n",
    "from torchvision import transforms\n",
    "from torchvision.models import resnet18\n",
    "#os.environ[\"CUDA_DEVICE_ORDER\"]=\"PCI_BUS_ID\"   # see issue #152\n",
    "#os.environ[\"CUDA_VISIBLE_DEVICES\"]=\"0\"\n",
    "import sys\n",
    "import GCL.losses as L\n",
    "from GCL.models import DualBranchContrast\n",
    "from GCL.eval import get_split, LREvaluator\n",
    "import GCL.augmentors as A\n"
   ]
  },
  {
   "cell_type": "code",
   "execution_count": 2,
   "metadata": {},
   "outputs": [],
   "source": [
    "config = {\n",
    "    # meta config\n",
    "    'dataset_name': 'pokecn',\n",
    "    'sens_name': 'age',\n",
    "    'conditional': True,\n",
    "    'debias': True,\n",
    "    'adversarial': False,\n",
    "    # tunable config\n",
    "    'batch_size': 256 * 16,\n",
    "    'hidden_dim': 240*5,\n",
    "    'drop_prob': 0.2,\n",
    "    'cond_temp': 1.0/800,\n",
    "    'debias_temp': 1.0/80,\n",
    "    'debias_ratio': 80,\n",
    "    'lr': 0.001,\n",
    "    'tau': 0.1,\n",
    "}"
   ]
  },
  {
   "cell_type": "code",
   "execution_count": 3,
   "metadata": {},
   "outputs": [],
   "source": [
    "# some more config setting\n",
    "device = 'cuda:0' if torch.cuda.is_available() else 'cpu'\n",
    "\n",
    "dataset_name = config['dataset_name']\n",
    "sens_name = config['sens_name']\n",
    "sens_num = 2 if sens_name in ['gender', 'region'] else 1 # for adv predic\n",
    "TASK_TYPE = 'regression' if dataset_name=='crimes' else 'classification'"
   ]
  },
  {
   "cell_type": "code",
   "execution_count": 4,
   "metadata": {},
   "outputs": [
    {
     "name": "stdout",
     "output_type": "stream",
     "text": [
      "Loading region_job_2 dataset from /data/qf31/FCL/datasets/pokec\n",
      "self.edge_index:  torch.Size([2, 1100663])\n"
     ]
    }
   ],
   "source": [
    "# load dataset...\n",
    "dataset = get_dataset(dataset_name, sens_name)\n",
    "#x = dataset[:][0]\n",
    "#sens = dataset[:][2]\n",
    "sample_index = None\n",
    "if dataset_name in ['pokecn', 'pokecz']:\n",
    "    g, sens, sample_index = get_samples(dataset, num=5000)\n",
    "else:\n",
    "    g, sens = get_samples(dataset, num=5000)\n",
    "dataloader = DataLoader(dataset, batch_size=config['batch_size'], shuffle=True, num_workers=3)"
   ]
  },
  {
   "cell_type": "code",
   "execution_count": 5,
   "metadata": {},
   "outputs": [],
   "source": [
    "# prepare model config\n",
    "input_dim = dataset.input_dim #dataset[0][0].shape[-1]\n",
    "hidden_dim = config['hidden_dim'] if config['dataset_name'] != 'celeba' else 1000\n",
    "sens_dim = dataset.sens_dim"
   ]
  },
  {
   "cell_type": "code",
   "execution_count": 6,
   "metadata": {},
   "outputs": [],
   "source": [
    "# create model\n",
    "main_encoder = GConv(input_dim=input_dim, hidden_dim=hidden_dim, num_layers=3)\n",
    "sens_encoder = MLP(sens_dim,hidden_dim)\n",
    "adv_model = Adv_sens(sens_num=sens_num, hidden_dim=hidden_dim)\n",
    "\n",
    "#aug = transforms.Compose([transforms.RandomCrop(size=RESIZE), transforms.ColorJitter(),\n",
    "#                         transforms.Grayscale(num_output_channels=3), transforms.RandomHorizontalFlip(),\n",
    "#                         transforms.RandomVerticalFlip()])#FeatureDrop(drop_prob=config['drop_prob'])\n",
    "\n",
    "aug = A.Compose([A.EdgeAdding(0.2), A.EdgeRemoving(0.2), A.FeatureMasking(0.2)])\n",
    "\n",
    "encoder_model = Encoder(main_encoder = main_encoder, augmentor = aug, sens_encoder = sens_encoder, adv_model=adv_model)\n",
    "encoder_model = encoder_model.to(device)"
   ]
  },
  {
   "cell_type": "code",
   "execution_count": 7,
   "metadata": {},
   "outputs": [
    {
     "name": "stderr",
     "output_type": "stream",
     "text": [
      "(T):   1%|          | 1/100 [00:03<06:26,  3.90s/it, loss=422, conditional_loss=5.03, debias_loss=5.21, adv_loss=0]"
     ]
    },
    {
     "name": "stdout",
     "output_type": "stream",
     "text": [
      "{'loss': 421.6158447265625, 'conditional_loss': 5.027059555053711, 'debias_loss': 5.207359790802002, 'adv_loss': 0.0}\n"
     ]
    },
    {
     "name": "stderr",
     "output_type": "stream",
     "text": [
      "(LR): 100%|██████████| 5000/5000 [00:15<00:00, best test F1Mi=0.71, F1Ma=0.709]\n"
     ]
    },
    {
     "name": "stdout",
     "output_type": "stream",
     "text": [
      "performance:  0.7095226221028637\n",
      "hist gdp:  0.09027711999999999\n",
      "max gdp:  1.0\n",
      "kernel gdp:  0.025816705\n"
     ]
    },
    {
     "name": "stderr",
     "output_type": "stream",
     "text": [
      "(T):   2%|▏         | 2/100 [00:21<19:55, 12.20s/it, loss=341, conditional_loss=5.01, debias_loss=4.2, adv_loss=0] "
     ]
    },
    {
     "name": "stdout",
     "output_type": "stream",
     "text": [
      "{'loss': 341.290283203125, 'conditional_loss': 5.014604568481445, 'debias_loss': 4.203445911407471, 'adv_loss': 0.0}\n"
     ]
    },
    {
     "name": "stderr",
     "output_type": "stream",
     "text": [
      "(LR): 100%|██████████| 5000/5000 [00:15<00:00, best test F1Mi=0.705, F1Ma=0.704]\n"
     ]
    },
    {
     "name": "stdout",
     "output_type": "stream",
     "text": [
      "performance:  0.704395058222096\n",
      "hist gdp:  0.0927672\n",
      "max gdp:  1.0\n",
      "kernel gdp:  0.025734905\n"
     ]
    },
    {
     "name": "stderr",
     "output_type": "stream",
     "text": [
      "(T):   3%|▎         | 3/100 [00:40<24:12, 14.98s/it, loss=219, conditional_loss=4.85, debias_loss=2.68, adv_loss=0]"
     ]
    },
    {
     "name": "stdout",
     "output_type": "stream",
     "text": [
      "{'loss': 219.20907592773438, 'conditional_loss': 4.849369049072266, 'debias_loss': 2.6794962882995605, 'adv_loss': 0.0}\n"
     ]
    },
    {
     "name": "stderr",
     "output_type": "stream",
     "text": [
      "(LR): 100%|██████████| 5000/5000 [00:15<00:00, best test F1Mi=0.704, F1Ma=0.704]\n"
     ]
    },
    {
     "name": "stdout",
     "output_type": "stream",
     "text": [
      "performance:  0.7038839064765797\n",
      "hist gdp:  0.08462528\n",
      "max gdp:  1.0\n",
      "kernel gdp:  0.025363209\n"
     ]
    },
    {
     "name": "stderr",
     "output_type": "stream",
     "text": [
      "(T):   4%|▍         | 4/100 [00:58<25:59, 16.24s/it, loss=168, conditional_loss=4.9, debias_loss=2.04, adv_loss=0] "
     ]
    },
    {
     "name": "stdout",
     "output_type": "stream",
     "text": [
      "{'loss': 168.1033172607422, 'conditional_loss': 4.895772933959961, 'debias_loss': 2.0400943756103516, 'adv_loss': 0.0}\n"
     ]
    },
    {
     "name": "stderr",
     "output_type": "stream",
     "text": [
      "(LR): 100%|██████████| 5000/5000 [00:15<00:00, best test F1Mi=0.708, F1Ma=0.708]\n"
     ]
    },
    {
     "name": "stdout",
     "output_type": "stream",
     "text": [
      "performance:  0.7081269819520025\n",
      "hist gdp:  0.09154559999999999\n",
      "max gdp:  1.0\n",
      "kernel gdp:  0.025128277\n"
     ]
    },
    {
     "name": "stderr",
     "output_type": "stream",
     "text": [
      "(T):   5%|▌         | 5/100 [01:16<26:46, 16.91s/it, loss=196, conditional_loss=4.88, debias_loss=2.39, adv_loss=0]"
     ]
    },
    {
     "name": "stdout",
     "output_type": "stream",
     "text": [
      "{'loss': 196.1072540283203, 'conditional_loss': 4.876855850219727, 'debias_loss': 2.3903799057006836, 'adv_loss': 0.0}\n"
     ]
    },
    {
     "name": "stderr",
     "output_type": "stream",
     "text": [
      "(LR): 100%|██████████| 5000/5000 [00:16<00:00, best test F1Mi=0.707, F1Ma=0.707]\n"
     ]
    },
    {
     "name": "stdout",
     "output_type": "stream",
     "text": [
      "performance:  0.7067167264328147\n",
      "hist gdp:  0.08967423999999999\n",
      "max gdp:  1.0\n",
      "kernel gdp:  0.025721513\n"
     ]
    },
    {
     "name": "stderr",
     "output_type": "stream",
     "text": [
      "(T):   6%|▌         | 6/100 [01:34<27:16, 17.41s/it, loss=168, conditional_loss=4.72, debias_loss=2.04, adv_loss=0]"
     ]
    },
    {
     "name": "stdout",
     "output_type": "stream",
     "text": [
      "{'loss': 167.58419799804688, 'conditional_loss': 4.722285270690918, 'debias_loss': 2.035773754119873, 'adv_loss': 0.0}\n"
     ]
    },
    {
     "name": "stderr",
     "output_type": "stream",
     "text": [
      "(LR): 100%|██████████| 5000/5000 [00:16<00:00, best test F1Mi=0.702, F1Ma=0.702]\n"
     ]
    },
    {
     "name": "stdout",
     "output_type": "stream",
     "text": [
      "performance:  0.7020967070055428\n",
      "hist gdp:  0.08485376000000001\n",
      "max gdp:  1.0\n",
      "kernel gdp:  0.027017796\n"
     ]
    },
    {
     "name": "stderr",
     "output_type": "stream",
     "text": [
      "(T):   7%|▋         | 7/100 [01:53<27:32, 17.77s/it, loss=130, conditional_loss=4.48, debias_loss=1.57, adv_loss=0]"
     ]
    },
    {
     "name": "stdout",
     "output_type": "stream",
     "text": [
      "{'loss': 130.16070556640625, 'conditional_loss': 4.475064277648926, 'debias_loss': 1.5710705518722534, 'adv_loss': 0.0}\n"
     ]
    },
    {
     "name": "stderr",
     "output_type": "stream",
     "text": [
      "(LR): 100%|██████████| 5000/5000 [00:15<00:00, best test F1Mi=0.708, F1Ma=0.707]\n"
     ]
    },
    {
     "name": "stdout",
     "output_type": "stream",
     "text": [
      "performance:  0.7074043654643463\n",
      "hist gdp:  0.08391624\n",
      "max gdp:  1.0\n",
      "kernel gdp:  0.02608387\n"
     ]
    },
    {
     "name": "stderr",
     "output_type": "stream",
     "text": [
      "(T):   8%|▊         | 8/100 [02:11<27:29, 17.93s/it, loss=111, conditional_loss=4.88, debias_loss=1.32, adv_loss=0]"
     ]
    },
    {
     "name": "stdout",
     "output_type": "stream",
     "text": [
      "{'loss': 110.51725769042969, 'conditional_loss': 4.875019073486328, 'debias_loss': 1.3205280303955078, 'adv_loss': 0.0}\n"
     ]
    },
    {
     "name": "stderr",
     "output_type": "stream",
     "text": [
      "(LR): 100%|██████████| 5000/5000 [00:15<00:00, best test F1Mi=0.711, F1Ma=0.711]\n"
     ]
    },
    {
     "name": "stdout",
     "output_type": "stream",
     "text": [
      "performance:  0.711172312372737\n",
      "hist gdp:  0.08916280000000003\n",
      "max gdp:  1.0\n",
      "kernel gdp:  0.026623758\n"
     ]
    },
    {
     "name": "stderr",
     "output_type": "stream",
     "text": [
      "(T):   9%|▉         | 9/100 [02:29<27:17, 17.99s/it, loss=69.5, conditional_loss=5.03, debias_loss=0.805, adv_loss=0]"
     ]
    },
    {
     "name": "stdout",
     "output_type": "stream",
     "text": [
      "{'loss': 69.47457885742188, 'conditional_loss': 5.034913063049316, 'debias_loss': 0.8054958581924438, 'adv_loss': 0.0}\n"
     ]
    },
    {
     "name": "stderr",
     "output_type": "stream",
     "text": [
      "(LR): 100%|██████████| 5000/5000 [00:15<00:00, best test F1Mi=0.709, F1Ma=0.709]\n"
     ]
    },
    {
     "name": "stdout",
     "output_type": "stream",
     "text": [
      "performance:  0.7084944227736792\n",
      "hist gdp:  0.08506160000000001\n",
      "max gdp:  1.0\n",
      "kernel gdp:  0.024527665\n"
     ]
    },
    {
     "name": "stderr",
     "output_type": "stream",
     "text": [
      "(T):  10%|█         | 10/100 [02:47<27:05, 18.06s/it, loss=58, conditional_loss=5.01, debias_loss=0.662, adv_loss=0] "
     ]
    },
    {
     "name": "stdout",
     "output_type": "stream",
     "text": [
      "{'loss': 57.98072052001953, 'conditional_loss': 5.005904674530029, 'debias_loss': 0.6621851921081543, 'adv_loss': 0.0}\n"
     ]
    },
    {
     "name": "stderr",
     "output_type": "stream",
     "text": [
      "(LR): 100%|██████████| 5000/5000 [00:16<00:00, best test F1Mi=0.72, F1Ma=0.72]\n"
     ]
    },
    {
     "name": "stdout",
     "output_type": "stream",
     "text": [
      "performance:  0.7195289671937805\n",
      "hist gdp:  0.08415232000000003\n",
      "max gdp:  1.0\n",
      "kernel gdp:  0.024064777\n"
     ]
    },
    {
     "name": "stderr",
     "output_type": "stream",
     "text": [
      "(T):  11%|█         | 11/100 [03:06<26:56, 18.16s/it, loss=44.9, conditional_loss=4.71, debias_loss=0.503, adv_loss=0]"
     ]
    },
    {
     "name": "stdout",
     "output_type": "stream",
     "text": [
      "{'loss': 44.92578887939453, 'conditional_loss': 4.714120864868164, 'debias_loss': 0.5026458501815796, 'adv_loss': 0.0}\n"
     ]
    },
    {
     "name": "stderr",
     "output_type": "stream",
     "text": [
      "(LR): 100%|██████████| 5000/5000 [00:15<00:00, best test F1Mi=0.706, F1Ma=0.706]\n"
     ]
    },
    {
     "name": "stdout",
     "output_type": "stream",
     "text": [
      "performance:  0.7062491074365578\n",
      "hist gdp:  0.08509520000000002\n",
      "max gdp:  1.0\n",
      "kernel gdp:  0.02590443\n"
     ]
    },
    {
     "name": "stderr",
     "output_type": "stream",
     "text": [
      "(T):  12%|█▏        | 12/100 [03:24<26:41, 18.20s/it, loss=45.1, conditional_loss=5.12, debias_loss=0.499, adv_loss=0]"
     ]
    },
    {
     "name": "stdout",
     "output_type": "stream",
     "text": [
      "{'loss': 45.05440902709961, 'conditional_loss': 5.117806911468506, 'debias_loss': 0.4992075562477112, 'adv_loss': 0.0}\n"
     ]
    },
    {
     "name": "stderr",
     "output_type": "stream",
     "text": [
      "(LR): 100%|██████████| 5000/5000 [00:15<00:00, best test F1Mi=0.703, F1Ma=0.702]\n"
     ]
    },
    {
     "name": "stdout",
     "output_type": "stream",
     "text": [
      "performance:  0.7023313127905214\n",
      "hist gdp:  0.08330848\n",
      "max gdp:  1.0\n",
      "kernel gdp:  0.02450058\n"
     ]
    },
    {
     "name": "stderr",
     "output_type": "stream",
     "text": [
      "(T):  13%|█▎        | 13/100 [03:42<26:23, 18.20s/it, loss=33, conditional_loss=4.7, debias_loss=0.354, adv_loss=0]   "
     ]
    },
    {
     "name": "stdout",
     "output_type": "stream",
     "text": [
      "{'loss': 33.00742721557617, 'conditional_loss': 4.70175838470459, 'debias_loss': 0.3538208603858948, 'adv_loss': 0.0}\n"
     ]
    },
    {
     "name": "stderr",
     "output_type": "stream",
     "text": [
      "(LR): 100%|██████████| 5000/5000 [00:16<00:00, best test F1Mi=0.714, F1Ma=0.713]\n"
     ]
    },
    {
     "name": "stdout",
     "output_type": "stream",
     "text": [
      "performance:  0.7131598612945905\n",
      "hist gdp:  0.08508832000000001\n",
      "max gdp:  1.0\n",
      "kernel gdp:  0.025590822\n"
     ]
    },
    {
     "name": "stderr",
     "output_type": "stream",
     "text": [
      "(T):  14%|█▍        | 14/100 [04:01<26:07, 18.23s/it, loss=37.1, conditional_loss=4.89, debias_loss=0.403, adv_loss=0]"
     ]
    },
    {
     "name": "stdout",
     "output_type": "stream",
     "text": [
      "{'loss': 37.09943771362305, 'conditional_loss': 4.890974998474121, 'debias_loss': 0.4026057720184326, 'adv_loss': 0.0}\n"
     ]
    },
    {
     "name": "stderr",
     "output_type": "stream",
     "text": [
      "(LR): 100%|██████████| 5000/5000 [00:15<00:00, best test F1Mi=0.714, F1Ma=0.714]\n"
     ]
    },
    {
     "name": "stdout",
     "output_type": "stream",
     "text": [
      "performance:  0.7138479237826512\n",
      "hist gdp:  0.08544128000000002\n",
      "max gdp:  1.0\n",
      "kernel gdp:  0.026122313\n"
     ]
    },
    {
     "name": "stderr",
     "output_type": "stream",
     "text": [
      "(T):  15%|█▌        | 15/100 [04:19<25:49, 18.23s/it, loss=28.4, conditional_loss=5.79, debias_loss=0.282, adv_loss=0]"
     ]
    },
    {
     "name": "stdout",
     "output_type": "stream",
     "text": [
      "{'loss': 28.361526489257812, 'conditional_loss': 5.791796684265137, 'debias_loss': 0.28212159872055054, 'adv_loss': 0.0}\n"
     ]
    },
    {
     "name": "stderr",
     "output_type": "stream",
     "text": [
      "(LR): 100%|██████████| 5000/5000 [00:15<00:00, best test F1Mi=0.711, F1Ma=0.71]\n"
     ]
    },
    {
     "name": "stdout",
     "output_type": "stream",
     "text": [
      "performance:  0.7103759556166066\n",
      "hist gdp:  0.08265472\n",
      "max gdp:  1.0\n",
      "kernel gdp:  0.025277007\n"
     ]
    },
    {
     "name": "stderr",
     "output_type": "stream",
     "text": [
      "(T):  16%|█▌        | 16/100 [04:37<25:31, 18.24s/it, loss=28.5, conditional_loss=5.59, debias_loss=0.286, adv_loss=0]"
     ]
    },
    {
     "name": "stdout",
     "output_type": "stream",
     "text": [
      "{'loss': 28.505462646484375, 'conditional_loss': 5.592588424682617, 'debias_loss': 0.286410927772522, 'adv_loss': 0.0}\n"
     ]
    },
    {
     "name": "stderr",
     "output_type": "stream",
     "text": [
      "(LR): 100%|██████████| 5000/5000 [00:15<00:00, best test F1Mi=0.711, F1Ma=0.71]\n"
     ]
    },
    {
     "name": "stdout",
     "output_type": "stream",
     "text": [
      "performance:  0.7108742483916857\n",
      "hist gdp:  0.08332416000000001\n",
      "max gdp:  1.0\n",
      "kernel gdp:  0.024761975\n"
     ]
    },
    {
     "name": "stderr",
     "output_type": "stream",
     "text": [
      "(T):  17%|█▋        | 17/100 [04:55<25:07, 18.16s/it, loss=27.4, conditional_loss=5.19, debias_loss=0.278, adv_loss=0]"
     ]
    },
    {
     "name": "stdout",
     "output_type": "stream",
     "text": [
      "{'loss': 27.44562530517578, 'conditional_loss': 5.186161041259766, 'debias_loss': 0.2782433032989502, 'adv_loss': 0.0}\n"
     ]
    },
    {
     "name": "stderr",
     "output_type": "stream",
     "text": [
      "(LR): 100%|██████████| 5000/5000 [00:15<00:00, best test F1Mi=0.712, F1Ma=0.712]\n"
     ]
    },
    {
     "name": "stdout",
     "output_type": "stream",
     "text": [
      "performance:  0.7115742093082229\n",
      "hist gdp:  0.085428\n",
      "max gdp:  1.0\n",
      "kernel gdp:  0.025151746\n"
     ]
    },
    {
     "name": "stderr",
     "output_type": "stream",
     "text": [
      "(T):  18%|█▊        | 18/100 [05:13<24:40, 18.06s/it, loss=19.3, conditional_loss=4.6, debias_loss=0.184, adv_loss=0] "
     ]
    },
    {
     "name": "stdout",
     "output_type": "stream",
     "text": [
      "{'loss': 19.290468215942383, 'conditional_loss': 4.604080677032471, 'debias_loss': 0.18357984721660614, 'adv_loss': 0.0}\n"
     ]
    },
    {
     "name": "stderr",
     "output_type": "stream",
     "text": [
      "(LR): 100%|██████████| 5000/5000 [00:15<00:00, best test F1Mi=0.716, F1Ma=0.716]\n"
     ]
    },
    {
     "name": "stdout",
     "output_type": "stream",
     "text": [
      "performance:  0.7160002413561133\n",
      "hist gdp:  0.08795000000000001\n",
      "max gdp:  1.0\n",
      "kernel gdp:  0.024877427\n"
     ]
    },
    {
     "name": "stderr",
     "output_type": "stream",
     "text": [
      "(T):  19%|█▉        | 19/100 [05:31<24:13, 17.94s/it, loss=21.2, conditional_loss=5.78, debias_loss=0.193, adv_loss=0]"
     ]
    },
    {
     "name": "stdout",
     "output_type": "stream",
     "text": [
      "{'loss': 21.201679229736328, 'conditional_loss': 5.784917831420898, 'debias_loss': 0.19270950555801392, 'adv_loss': 0.0}\n"
     ]
    },
    {
     "name": "stderr",
     "output_type": "stream",
     "text": [
      "(LR): 100%|██████████| 5000/5000 [00:15<00:00, best test F1Mi=0.708, F1Ma=0.707]\n"
     ]
    },
    {
     "name": "stdout",
     "output_type": "stream",
     "text": [
      "performance:  0.7071502886599783\n",
      "hist gdp:  0.08440000000000002\n",
      "max gdp:  1.0\n",
      "kernel gdp:  0.026006699\n"
     ]
    },
    {
     "name": "stderr",
     "output_type": "stream",
     "text": [
      "(T):  20%|██        | 20/100 [05:48<23:52, 17.91s/it, loss=19.5, conditional_loss=4.64, debias_loss=0.185, adv_loss=0]"
     ]
    },
    {
     "name": "stdout",
     "output_type": "stream",
     "text": [
      "{'loss': 19.450403213500977, 'conditional_loss': 4.639420032501221, 'debias_loss': 0.1851373016834259, 'adv_loss': 0.0}\n"
     ]
    },
    {
     "name": "stderr",
     "output_type": "stream",
     "text": [
      "(LR): 100%|██████████| 5000/5000 [00:15<00:00, best test F1Mi=0.703, F1Ma=0.703]\n"
     ]
    },
    {
     "name": "stdout",
     "output_type": "stream",
     "text": [
      "performance:  0.7029205970818021\n",
      "hist gdp:  0.08586680000000002\n",
      "max gdp:  1.0\n",
      "kernel gdp:  0.025161084\n"
     ]
    },
    {
     "name": "stderr",
     "output_type": "stream",
     "text": [
      "(T):  21%|██        | 21/100 [06:06<23:28, 17.83s/it, loss=16.3, conditional_loss=5.57, debias_loss=0.134, adv_loss=0]"
     ]
    },
    {
     "name": "stdout",
     "output_type": "stream",
     "text": [
      "{'loss': 16.285232543945312, 'conditional_loss': 5.571357250213623, 'debias_loss': 0.13392344117164612, 'adv_loss': 0.0}\n"
     ]
    },
    {
     "name": "stderr",
     "output_type": "stream",
     "text": [
      "(LR): 100%|██████████| 5000/5000 [00:15<00:00, best test F1Mi=0.71, F1Ma=0.71]\n"
     ]
    },
    {
     "name": "stdout",
     "output_type": "stream",
     "text": [
      "performance:  0.7096916970527214\n",
      "hist gdp:  0.08514944000000002\n",
      "max gdp:  1.0\n",
      "kernel gdp:  0.0252541\n"
     ]
    },
    {
     "name": "stderr",
     "output_type": "stream",
     "text": [
      "(T):  22%|██▏       | 22/100 [06:24<23:10, 17.82s/it, loss=15.5, conditional_loss=4.71, debias_loss=0.135, adv_loss=0]"
     ]
    },
    {
     "name": "stdout",
     "output_type": "stream",
     "text": [
      "{'loss': 15.467759132385254, 'conditional_loss': 4.70711612701416, 'debias_loss': 0.13450804352760315, 'adv_loss': 0.0}\n"
     ]
    },
    {
     "name": "stderr",
     "output_type": "stream",
     "text": [
      "(LR): 100%|██████████| 5000/5000 [00:15<00:00, best test F1Mi=0.716, F1Ma=0.715]\n"
     ]
    },
    {
     "name": "stdout",
     "output_type": "stream",
     "text": [
      "performance:  0.7152310485173627\n",
      "hist gdp:  0.08562672000000002\n",
      "max gdp:  1.0\n",
      "kernel gdp:  0.025293974\n"
     ]
    },
    {
     "name": "stderr",
     "output_type": "stream",
     "text": [
      "(T):  23%|██▎       | 23/100 [06:42<22:50, 17.80s/it, loss=16.7, conditional_loss=4.96, debias_loss=0.147, adv_loss=0]"
     ]
    },
    {
     "name": "stdout",
     "output_type": "stream",
     "text": [
      "{'loss': 16.71355628967285, 'conditional_loss': 4.9638519287109375, 'debias_loss': 0.14687129855155945, 'adv_loss': 0.0}\n"
     ]
    },
    {
     "name": "stderr",
     "output_type": "stream",
     "text": [
      "(LR): 100%|██████████| 5000/5000 [00:15<00:00, best test F1Mi=0.71, F1Ma=0.71]\n"
     ]
    },
    {
     "name": "stdout",
     "output_type": "stream",
     "text": [
      "performance:  0.7101182537544173\n",
      "hist gdp:  0.08630000000000003\n",
      "max gdp:  1.0\n",
      "kernel gdp:  0.025042715\n"
     ]
    },
    {
     "name": "stderr",
     "output_type": "stream",
     "text": [
      "(T):  24%|██▍       | 24/100 [06:59<22:33, 17.81s/it, loss=13.8, conditional_loss=4.97, debias_loss=0.11, adv_loss=0] "
     ]
    },
    {
     "name": "stdout",
     "output_type": "stream",
     "text": [
      "{'loss': 13.753801345825195, 'conditional_loss': 4.970794200897217, 'debias_loss': 0.10978759080171585, 'adv_loss': 0.0}\n"
     ]
    },
    {
     "name": "stderr",
     "output_type": "stream",
     "text": [
      "(LR): 100%|██████████| 5000/5000 [00:15<00:00, best test F1Mi=0.712, F1Ma=0.712]\n"
     ]
    },
    {
     "name": "stdout",
     "output_type": "stream",
     "text": [
      "performance:  0.7115837909417704\n",
      "hist gdp:  0.08222639999999999\n",
      "max gdp:  1.0\n",
      "kernel gdp:  0.024004387\n"
     ]
    },
    {
     "name": "stderr",
     "output_type": "stream",
     "text": [
      "(T):  25%|██▌       | 25/100 [07:17<22:14, 17.79s/it, loss=13.6, conditional_loss=5.4, debias_loss=0.103, adv_loss=0]"
     ]
    },
    {
     "name": "stdout",
     "output_type": "stream",
     "text": [
      "{'loss': 13.611981391906738, 'conditional_loss': 5.400469779968262, 'debias_loss': 0.10264389216899872, 'adv_loss': 0.0}\n"
     ]
    },
    {
     "name": "stderr",
     "output_type": "stream",
     "text": [
      "(LR): 100%|██████████| 5000/5000 [00:15<00:00, best test F1Mi=0.711, F1Ma=0.71]\n"
     ]
    },
    {
     "name": "stdout",
     "output_type": "stream",
     "text": [
      "performance:  0.7106084262768962\n",
      "hist gdp:  0.08415000000000002\n",
      "max gdp:  1.0\n",
      "kernel gdp:  0.024447536\n"
     ]
    },
    {
     "name": "stderr",
     "output_type": "stream",
     "text": [
      "(T):  26%|██▌       | 26/100 [07:35<21:54, 17.76s/it, loss=12.6, conditional_loss=4.79, debias_loss=0.0979, adv_loss=0]"
     ]
    },
    {
     "name": "stdout",
     "output_type": "stream",
     "text": [
      "{'loss': 12.624848365783691, 'conditional_loss': 4.790748119354248, 'debias_loss': 0.09792625159025192, 'adv_loss': 0.0}\n"
     ]
    },
    {
     "name": "stderr",
     "output_type": "stream",
     "text": [
      "(LR): 100%|██████████| 5000/5000 [00:15<00:00, best test F1Mi=0.717, F1Ma=0.717]\n"
     ]
    },
    {
     "name": "stdout",
     "output_type": "stream",
     "text": [
      "performance:  0.7173302241217967\n",
      "hist gdp:  0.08792640000000002\n",
      "max gdp:  1.0\n",
      "kernel gdp:  0.025624065\n"
     ]
    },
    {
     "name": "stderr",
     "output_type": "stream",
     "text": [
      "(T):  27%|██▋       | 27/100 [07:53<21:36, 17.76s/it, loss=12.8, conditional_loss=4.86, debias_loss=0.0987, adv_loss=0]"
     ]
    },
    {
     "name": "stdout",
     "output_type": "stream",
     "text": [
      "{'loss': 12.753997802734375, 'conditional_loss': 4.860448837280273, 'debias_loss': 0.09866935759782791, 'adv_loss': 0.0}\n"
     ]
    },
    {
     "name": "stderr",
     "output_type": "stream",
     "text": [
      "(LR): 100%|██████████| 5000/5000 [00:15<00:00, best test F1Mi=0.713, F1Ma=0.713]\n"
     ]
    },
    {
     "name": "stdout",
     "output_type": "stream",
     "text": [
      "performance:  0.7132777302290713\n",
      "hist gdp:  0.08944408000000004\n",
      "max gdp:  1.0\n",
      "kernel gdp:  0.02524705\n"
     ]
    },
    {
     "name": "stderr",
     "output_type": "stream",
     "text": [
      "(T):  28%|██▊       | 28/100 [08:11<21:22, 17.82s/it, loss=13.1, conditional_loss=5.16, debias_loss=0.0989, adv_loss=0]"
     ]
    },
    {
     "name": "stdout",
     "output_type": "stream",
     "text": [
      "{'loss': 13.071462631225586, 'conditional_loss': 5.159753799438477, 'debias_loss': 0.09889635443687439, 'adv_loss': 0.0}\n"
     ]
    },
    {
     "name": "stderr",
     "output_type": "stream",
     "text": [
      "(LR): 100%|██████████| 5000/5000 [00:15<00:00, best test F1Mi=0.711, F1Ma=0.711]\n"
     ]
    },
    {
     "name": "stdout",
     "output_type": "stream",
     "text": [
      "performance:  0.7108970572248874\n",
      "hist gdp:  0.08460759999999999\n",
      "max gdp:  1.0\n",
      "kernel gdp:  0.025045559\n"
     ]
    },
    {
     "name": "stderr",
     "output_type": "stream",
     "text": [
      "(T):  29%|██▉       | 29/100 [08:28<21:06, 17.84s/it, loss=11.8, conditional_loss=5.35, debias_loss=0.0806, adv_loss=0]"
     ]
    },
    {
     "name": "stdout",
     "output_type": "stream",
     "text": [
      "{'loss': 11.796106338500977, 'conditional_loss': 5.345510482788086, 'debias_loss': 0.08063244819641113, 'adv_loss': 0.0}\n"
     ]
    },
    {
     "name": "stderr",
     "output_type": "stream",
     "text": [
      "(LR): 100%|██████████| 5000/5000 [00:15<00:00, best test F1Mi=0.715, F1Ma=0.715]\n"
     ]
    },
    {
     "name": "stdout",
     "output_type": "stream",
     "text": [
      "performance:  0.7148506504876626\n",
      "hist gdp:  0.08779448000000001\n",
      "max gdp:  1.0\n",
      "kernel gdp:  0.026072219\n"
     ]
    },
    {
     "name": "stderr",
     "output_type": "stream",
     "text": [
      "(T):  30%|███       | 30/100 [08:46<20:47, 17.82s/it, loss=10.9, conditional_loss=4.89, debias_loss=0.0756, adv_loss=0]"
     ]
    },
    {
     "name": "stdout",
     "output_type": "stream",
     "text": [
      "{'loss': 10.935030937194824, 'conditional_loss': 4.88726806640625, 'debias_loss': 0.07559703290462494, 'adv_loss': 0.0}\n"
     ]
    },
    {
     "name": "stderr",
     "output_type": "stream",
     "text": [
      "(LR): 100%|██████████| 5000/5000 [00:15<00:00, best test F1Mi=0.71, F1Ma=0.71]\n"
     ]
    },
    {
     "name": "stdout",
     "output_type": "stream",
     "text": [
      "performance:  0.7102214482507876\n",
      "hist gdp:  0.08760704000000002\n",
      "max gdp:  1.0\n",
      "kernel gdp:  0.024547162\n"
     ]
    },
    {
     "name": "stderr",
     "output_type": "stream",
     "text": [
      "(T):  31%|███       | 31/100 [09:04<20:29, 17.82s/it, loss=12.2, conditional_loss=6.13, debias_loss=0.0756, adv_loss=0]"
     ]
    },
    {
     "name": "stdout",
     "output_type": "stream",
     "text": [
      "{'loss': 12.185466766357422, 'conditional_loss': 6.133700847625732, 'debias_loss': 0.07564707100391388, 'adv_loss': 0.0}\n"
     ]
    },
    {
     "name": "stderr",
     "output_type": "stream",
     "text": [
      "(LR): 100%|██████████| 5000/5000 [00:15<00:00, best test F1Mi=0.72, F1Ma=0.719]\n"
     ]
    },
    {
     "name": "stdout",
     "output_type": "stream",
     "text": [
      "performance:  0.7190929369127591\n",
      "hist gdp:  0.08848256\n",
      "max gdp:  1.0\n",
      "kernel gdp:  0.024916107\n"
     ]
    },
    {
     "name": "stderr",
     "output_type": "stream",
     "text": [
      "(T):  32%|███▏      | 32/100 [09:22<20:12, 17.83s/it, loss=11.5, conditional_loss=5.55, debias_loss=0.074, adv_loss=0] "
     ]
    },
    {
     "name": "stdout",
     "output_type": "stream",
     "text": [
      "{'loss': 11.465937614440918, 'conditional_loss': 5.5463361740112305, 'debias_loss': 0.07399501651525497, 'adv_loss': 0.0}\n"
     ]
    },
    {
     "name": "stderr",
     "output_type": "stream",
     "text": [
      "(LR): 100%|██████████| 5000/5000 [00:15<00:00, best test F1Mi=0.713, F1Ma=0.713]\n"
     ]
    },
    {
     "name": "stdout",
     "output_type": "stream",
     "text": [
      "performance:  0.7125863079363185\n",
      "hist gdp:  0.08336512000000001\n",
      "max gdp:  1.0\n",
      "kernel gdp:  0.024069097\n"
     ]
    },
    {
     "name": "stderr",
     "output_type": "stream",
     "text": [
      "(T):  33%|███▎      | 33/100 [09:40<19:53, 17.82s/it, loss=11.5, conditional_loss=5.98, debias_loss=0.0694, adv_loss=0]"
     ]
    },
    {
     "name": "stdout",
     "output_type": "stream",
     "text": [
      "{'loss': 11.533473014831543, 'conditional_loss': 5.983745574951172, 'debias_loss': 0.06937159597873688, 'adv_loss': 0.0}\n"
     ]
    },
    {
     "name": "stderr",
     "output_type": "stream",
     "text": []
    }
   ],
   "source": [
    "contrast_model = DualBranchContrast(loss=L.FairInfoNCE(tau=config['tau']), mode='G2G').to(device)\n",
    "optim = Adam(encoder_model.parameters(), lr=config['lr'])\n",
    "\n",
    "performance_list = []\n",
    "gdp_hist_list = []\n",
    "gdp_max_list = []\n",
    "gdp_kernel_list = []\n",
    "\n",
    "epoch = 100\n",
    "with tqdm(total=epoch, desc='(T)') as pbar:\n",
    "    for epoch in range(1, epoch+1):\n",
    "        encoder_model = encoder_model.to(device)\n",
    "        loss_result = train(encoder_model = encoder_model, contrast_model=contrast_model,\n",
    "                                         dataloader=dataloader, optimizer = optim,\n",
    "                                         conditional=config['conditional'],debias=config['debias'], adversarial=config['adversarial'] if epoch%5==0 else False,\n",
    "                                         cond_temp = config['cond_temp'],\n",
    "                                         debias_temp = config['debias_temp'],\n",
    "                                         debias_ratio = config['debias_ratio'])\n",
    "        pbar.set_postfix({'loss': loss_result['loss'], \n",
    "                          'conditional_loss':loss_result['conditional_loss'], \n",
    "                          'debias_loss': loss_result['debias_loss'],\n",
    "                          'adv_loss': loss_result['adv_loss']})\n",
    "        pbar.update()\n",
    "\n",
    "        if epoch % 1 == 0:\n",
    "            print(loss_result)\n",
    "            result, evaluator = test(encoder_model, dataloader, evaluator=LREvaluator(task=TASK_TYPE))\n",
    "            classifier = result['classifier']\n",
    "            \n",
    "            # performance \n",
    "            performance = result['mae'] if dataset_name=='crimes' else result['auc']\n",
    "            print('performance: ', performance)\n",
    "            performance_list.append(performance)\n",
    "        \n",
    "            # fairness\n",
    "            gdp_hist, gdp_kernel, gdp_max = gdp(g=g, sens=sens, sample_index=sample_index, task=TASK_TYPE, hist_num=1000, encoder_model=encoder_model, classifier=classifier)\n",
    "            print('hist gdp: ', gdp_hist)\n",
    "            gdp_hist_list.append(gdp_hist)\n",
    "            print('max gdp: ', gdp_max)\n",
    "            gdp_max_list.append(gdp_max)\n",
    "            print('kernel gdp: ', gdp_kernel)\n",
    "            gdp_kernel_list.append(gdp_kernel)\n",
    "\n",
    "        \n",
    "        "
   ]
  },
  {
   "cell_type": "markdown",
   "metadata": {},
   "source": [
    "# graph data draft"
   ]
  },
  {
   "cell_type": "code",
   "execution_count": 19,
   "metadata": {},
   "outputs": [],
   "source": [
    "from torch_geometric.datasets import Planetoid"
   ]
  },
  {
   "cell_type": "code",
   "execution_count": 20,
   "metadata": {},
   "outputs": [],
   "source": [
    "dataset = Planetoid(root='./datasets', name='Cora', split='random')"
   ]
  },
  {
   "cell_type": "code",
   "execution_count": 22,
   "metadata": {},
   "outputs": [
    {
     "data": {
      "text/plain": [
       "tensor([[   0,    0,    0,  ..., 2707, 2707, 2707],\n",
       "        [ 633, 1862, 2582,  ...,  598, 1473, 2706]])"
      ]
     },
     "execution_count": 22,
     "metadata": {},
     "output_type": "execute_result"
    }
   ],
   "source": [
    "(dataset[0].edge_index)"
   ]
  },
  {
   "cell_type": "code",
   "execution_count": 42,
   "metadata": {},
   "outputs": [
    {
     "name": "stdout",
     "output_type": "stream",
     "text": [
      "Loading region_job dataset from ./datasets/pokec/\n"
     ]
    }
   ],
   "source": [
    "dataset = 'region_job'\n",
    "sens_attr = 'region' #'AGE'\n",
    "predict_attr = 'spoken_languages_indicator'#'I_am_working_in_field'(negative value in) 'spoken_languages_indicator'\n",
    "path=\"./datasets/pokec/\"\n",
    "sens_number=500\n",
    "seed=19\n",
    "test_idx=False\n",
    "import scipy.sparse as sp\n",
    "print('Loading {} dataset from {}'.format(dataset,path))\n",
    "\n",
    "idx_features_labels = pd.read_csv(os.path.join(path,\"{}.csv\".format(dataset)))\n",
    "header = list(idx_features_labels.columns)\n",
    "header.remove(\"user_id\")\n",
    "\n",
    "header.remove(sens_attr)\n",
    "header.remove(predict_attr)\n",
    "\n",
    "\n",
    "features = sp.csr_matrix(idx_features_labels[header], dtype=np.float32)\n",
    "labels = idx_features_labels[predict_attr].values\n",
    "labels[np.where(labels > 0)] = 1 # transfer I_am_working_in_field into binary task\n",
    "\n",
    "\n",
    "# build graph\n",
    "idx = np.array(idx_features_labels[\"user_id\"], dtype=int)\n",
    "idx_map = {j: i for i, j in enumerate(idx)}\n",
    "edges_unordered = np.genfromtxt(os.path.join(path,\"{}_relationship.txt\".format(dataset)), dtype=int)\n",
    "\n",
    "edges = np.array(list(map(idx_map.get, edges_unordered.flatten())),\n",
    "                    dtype=int).reshape(edges_unordered.shape)\n",
    "adj = sp.coo_matrix((np.ones(edges.shape[0]), (edges[:, 0], edges[:, 1])),\n",
    "                    shape=(labels.shape[0], labels.shape[0]),\n",
    "                    dtype=np.float32)\n",
    "# build symmetric adjacency matrix\n",
    "adj = adj + adj.T.multiply(adj.T > adj) - adj.multiply(adj.T > adj)\n",
    "\n",
    "# features = normalize(features)\n",
    "adj = adj + sp.eye(adj.shape[0])\n",
    "\n",
    "features = (np.array(features.todense()))\n",
    "#labels = torch.LongTensor(labels)\n",
    "# adj = sparse_mx_to_torch_sparse_tensor(adj)\n",
    "\n",
    "import random\n",
    "random.seed(seed)\n",
    "label_idx = np.where(labels>=0)[0] # some label is -1 null\n",
    "random.shuffle(label_idx)\n",
    "\n",
    "idx_train = label_idx[:int(0.5 * len(label_idx))]\n",
    "idx_val = label_idx[int(0.5 * len(label_idx)):int(0.75 * len(label_idx))]\n",
    "if test_idx:\n",
    "    idx_test = label_idx[int(0.5 * len(label_idx)):]\n",
    "    idx_val = idx_test\n",
    "else:\n",
    "    idx_test = label_idx[int(0.75 * len(label_idx)):]\n",
    "\n",
    "sens = idx_features_labels[sens_attr].values\n",
    "\n",
    "sens_idx = set(np.where(sens >= 0)[0])\n",
    "idx_test = np.asarray(list(sens_idx & set(idx_test)))\n",
    "#sens = torch.FloatTensor(sens)\n",
    "idx_sens_train = list(sens_idx - set(idx_val) - set(idx_test))\n",
    "random.seed(seed)\n",
    "random.shuffle(idx_sens_train)\n",
    "idx_sens_train = torch.LongTensor(idx_sens_train[:sens_number])\n",
    "\n",
    "# random.shuffle(sens_idx)\n",
    "#return adj, features, labels, sens, idx_train, idx_val, idx_val"
   ]
  },
  {
   "cell_type": "code",
   "execution_count": 48,
   "metadata": {},
   "outputs": [
    {
     "data": {
      "text/plain": [
       "(57534, 276)"
      ]
     },
     "execution_count": 48,
     "metadata": {},
     "output_type": "execute_result"
    }
   ],
   "source": [
    "features[np.where(features < 0)[0]].shape"
   ]
  },
  {
   "cell_type": "code",
   "execution_count": 45,
   "metadata": {},
   "outputs": [
    {
     "data": {
      "text/plain": [
       "-1.0"
      ]
     },
     "execution_count": 45,
     "metadata": {},
     "output_type": "execute_result"
    }
   ],
   "source": [
    "features[0, 4]"
   ]
  },
  {
   "cell_type": "code",
   "execution_count": 64,
   "metadata": {},
   "outputs": [
    {
     "data": {
      "text/plain": [
       "67796"
      ]
     },
     "execution_count": 64,
     "metadata": {},
     "output_type": "execute_result"
    }
   ],
   "source": [
    "len(idx_train) + len(idx_val) + len(idx_test)"
   ]
  },
  {
   "cell_type": "code",
   "execution_count": 43,
   "metadata": {},
   "outputs": [
    {
     "data": {
      "text/plain": [
       "(67796, 1)"
      ]
     },
     "execution_count": 43,
     "metadata": {},
     "output_type": "execute_result"
    }
   ],
   "source": [
    "np.expand_dims(sens, axis=1)"
   ]
  },
  {
   "cell_type": "code",
   "execution_count": 44,
   "metadata": {},
   "outputs": [
    {
     "data": {
      "text/plain": [
       "array([[0.],\n",
       "       [1.],\n",
       "       [0.],\n",
       "       ...,\n",
       "       [1.],\n",
       "       [0.],\n",
       "       [1.]])"
      ]
     },
     "execution_count": 44,
     "metadata": {},
     "output_type": "execute_result"
    }
   ],
   "source": [
    "MinMaxScaler().fit_transform(StandardScaler().fit_transform(np.expand_dims(sens, axis=1)))"
   ]
  },
  {
   "cell_type": "code",
   "execution_count": 33,
   "metadata": {},
   "outputs": [
    {
     "data": {
      "text/plain": [
       "array([[0., 0., 0., ..., 0., 0., 0.]])"
      ]
     },
     "execution_count": 33,
     "metadata": {},
     "output_type": "execute_result"
    }
   ],
   "source": [
    "MinMaxScaler().fit_transform(StandardScaler().fit_transform([features[:, 1]]))"
   ]
  },
  {
   "cell_type": "code",
   "execution_count": 55,
   "metadata": {},
   "outputs": [
    {
     "data": {
      "text/plain": [
       "array([[    0,     3],\n",
       "       [    0,     2],\n",
       "       [    0,    11],\n",
       "       ...,\n",
       "       [35254, 33604],\n",
       "       [35275, 44261],\n",
       "       [35336, 34505]])"
      ]
     },
     "execution_count": 55,
     "metadata": {},
     "output_type": "execute_result"
    }
   ],
   "source": [
    "edges"
   ]
  },
  {
   "cell_type": "code",
   "execution_count": 86,
   "metadata": {},
   "outputs": [
    {
     "data": {
      "text/plain": [
       "tensor([[    0,     0,     0,  ..., 67795, 67795, 67795],\n",
       "        [    0,     2,     3,  ..., 57955, 61427, 67795]])"
      ]
     },
     "execution_count": 86,
     "metadata": {},
     "output_type": "execute_result"
    }
   ],
   "source": [
    "torch.from_numpy(np.stack([adj.tocoo().row, adj.tocoo().col], axis=0)).long()"
   ]
  },
  {
   "cell_type": "code",
   "execution_count": 70,
   "metadata": {},
   "outputs": [
    {
     "name": "stdout",
     "output_type": "stream",
     "text": [
      "\u001b[0;31mType:\u001b[0m        Tensor\n",
      "\u001b[0;31mString form:\u001b[0m tensor([0., 1., 0.,  ..., 1., 0., 1.])\n",
      "\u001b[0;31mLength:\u001b[0m      67796\n",
      "\u001b[0;31mFile:\u001b[0m        ~/anaconda3/envs/graph2/lib/python3.9/site-packages/torch/__init__.py\n",
      "\u001b[0;31mDocstring:\u001b[0m   <no docstring>\n"
     ]
    }
   ],
   "source": [
    "sens?"
   ]
  },
  {
   "cell_type": "code",
   "execution_count": 13,
   "metadata": {},
   "outputs": [
    {
     "name": "stdout",
     "output_type": "stream",
     "text": [
      "\u001b[0;31mType:\u001b[0m        Tensor\n",
      "\u001b[0;31mString form:\u001b[0m tensor([-1, -1,  1,  ..., -1,  1, -1])\n",
      "\u001b[0;31mLength:\u001b[0m      67796\n",
      "\u001b[0;31mFile:\u001b[0m        ~/anaconda3/envs/graph2/lib/python3.9/site-packages/torch/__init__.py\n",
      "\u001b[0;31mDocstring:\u001b[0m   <no docstring>\n"
     ]
    }
   ],
   "source": [
    "labels?"
   ]
  },
  {
   "cell_type": "code",
   "execution_count": 14,
   "metadata": {},
   "outputs": [
    {
     "data": {
      "text/plain": [
       "tensor([-1,  0,  1])"
      ]
     },
     "execution_count": 14,
     "metadata": {},
     "output_type": "execute_result"
    }
   ],
   "source": [
    "torch.unique(labels)"
   ]
  },
  {
   "cell_type": "code",
   "execution_count": 13,
   "metadata": {},
   "outputs": [
    {
     "data": {
      "text/plain": [
       "(array([2.1264e+04, 1.9968e+04, 1.8102e+04, 5.6090e+03, 1.3430e+03,\n",
       "        2.1700e+02, 1.5000e+01, 6.0000e+00, 1.3000e+01, 3.2000e+01]),\n",
       " array([0. , 0.1, 0.2, 0.3, 0.4, 0.5, 0.6, 0.7, 0.8, 0.9, 1. ],\n",
       "       dtype=float32),\n",
       " <BarContainer object of 10 artists>)"
      ]
     },
     "execution_count": 13,
     "metadata": {},
     "output_type": "execute_result"
    },
    {
     "data": {
      "image/png": "[encoded data removed]",
      "text/plain": [
       "<Figure size 432x288 with 1 Axes>"
      ]
     },
     "metadata": {
      "needs_background": "light"
     },
     "output_type": "display_data"
    }
   ],
   "source": [
    "from matplotlib import pyplot as plt\n",
    "plt.hist(sens.numpy())"
   ]
  },
  {
   "cell_type": "code",
   "execution_count": 41,
   "metadata": {},
   "outputs": [
    {
     "ename": "ModuleNotFoundError",
     "evalue": "No module named 'dgl'",
     "output_type": "error",
     "traceback": [
      "\u001b[0;31m---------------------------------------------------------------------------\u001b[0m",
      "\u001b[0;31mModuleNotFoundError\u001b[0m                       Traceback (most recent call last)",
      "\u001b[1;32m/data/qf31/FCL/nothing.ipynb Cell 12'\u001b[0m in \u001b[0;36m<cell line: 1>\u001b[0;34m()\u001b[0m\n\u001b[0;32m----> <a href='vscode-notebook-cell://ssh-remote%2Bdatalab2/data/qf31/FCL/nothing.ipynb#ch0000014vscode-remote?line=0'>1</a>\u001b[0m \u001b[39mimport\u001b[39;00m \u001b[39mdgl\u001b[39;00m\n\u001b[1;32m      <a href='vscode-notebook-cell://ssh-remote%2Bdatalab2/data/qf31/FCL/nothing.ipynb#ch0000014vscode-remote?line=1'>2</a>\u001b[0m \u001b[39mfrom\u001b[39;00m \u001b[39mutils\u001b[39;00m \u001b[39mimport\u001b[39;00m feature_norm\n\u001b[1;32m      <a href='vscode-notebook-cell://ssh-remote%2Bdatalab2/data/qf31/FCL/nothing.ipynb#ch0000014vscode-remote?line=2'>3</a>\u001b[0m \u001b[39m# g = dgl.DGLGraph()\u001b[39;00m\n",
      "\u001b[0;31mModuleNotFoundError\u001b[0m: No module named 'dgl'"
     ]
    }
   ],
   "source": [
    "import dgl\n",
    "from utils import feature_norm\n",
    "# g = dgl.DGLGraph()\n",
    "g = dgl.from_scipy(adj)\n",
    "g = g.to(device)"
   ]
  },
  {
   "cell_type": "code",
   "execution_count": 28,
   "metadata": {},
   "outputs": [
    {
     "name": "stdout",
     "output_type": "stream",
     "text": [
      "\u001b[0;31mType:\u001b[0m        ndarray\n",
      "\u001b[0;31mString form:\u001b[0m [15836 41916  8624 ... 67042 15818  5669]\n",
      "\u001b[0;31mLength:\u001b[0m      67796\n",
      "\u001b[0;31mFile:\u001b[0m        /data/qf31/anaconda3/envs/graph/lib/python3.9/site-packages/numpy/__init__.py\n",
      "\u001b[0;31mDocstring:\u001b[0m  \n",
      "ndarray(shape, dtype=float, buffer=None, offset=0,\n",
      "        strides=None, order=None)\n",
      "\n",
      "An array object represents a multidimensional, homogeneous array\n",
      "of fixed-size items.  An associated data-type object describes the\n",
      "format of each element in the array (its byte-order, how many bytes it\n",
      "occupies in memory, whether it is an integer, a floating point number,\n",
      "or something else, etc.)\n",
      "\n",
      "Arrays should be constructed using `array`, `zeros` or `empty` (refer\n",
      "to the See Also section below).  The parameters given here refer to\n",
      "a low-level method (`ndarray(...)`) for instantiating an array.\n",
      "\n",
      "For more information, refer to the `numpy` module and examine the\n",
      "methods and attributes of an array.\n",
      "\n",
      "Parameters\n",
      "----------\n",
      "(for the __new__ method; see Notes below)\n",
      "\n",
      "shape : tuple of ints\n",
      "    Shape of created array.\n",
      "dtype : data-type, optional\n",
      "    Any object that can be interpreted as a numpy data type.\n",
      "buffer : object exposing buffer interface, optional\n",
      "    Used to fill the array with data.\n",
      "offset : int, optional\n",
      "    Offset of array data in buffer.\n",
      "strides : tuple of ints, optional\n",
      "    Strides of data in memory.\n",
      "order : {'C', 'F'}, optional\n",
      "    Row-major (C-style) or column-major (Fortran-style) order.\n",
      "\n",
      "Attributes\n",
      "----------\n",
      "T : ndarray\n",
      "    Transpose of the array.\n",
      "data : buffer\n",
      "    The array's elements, in memory.\n",
      "dtype : dtype object\n",
      "    Describes the format of the elements in the array.\n",
      "flags : dict\n",
      "    Dictionary containing information related to memory use, e.g.,\n",
      "    'C_CONTIGUOUS', 'OWNDATA', 'WRITEABLE', etc.\n",
      "flat : numpy.flatiter object\n",
      "    Flattened version of the array as an iterator.  The iterator\n",
      "    allows assignments, e.g., ``x.flat = 3`` (See `ndarray.flat` for\n",
      "    assignment examples; TODO).\n",
      "imag : ndarray\n",
      "    Imaginary part of the array.\n",
      "real : ndarray\n",
      "    Real part of the array.\n",
      "size : int\n",
      "    Number of elements in the array.\n",
      "itemsize : int\n",
      "    The memory use of each array element in bytes.\n",
      "nbytes : int\n",
      "    The total number of bytes required to store the array data,\n",
      "    i.e., ``itemsize * size``.\n",
      "ndim : int\n",
      "    The array's number of dimensions.\n",
      "shape : tuple of ints\n",
      "    Shape of the array.\n",
      "strides : tuple of ints\n",
      "    The step-size required to move from one element to the next in\n",
      "    memory. For example, a contiguous ``(3, 4)`` array of type\n",
      "    ``int16`` in C-order has strides ``(8, 2)``.  This implies that\n",
      "    to move from element to element in memory requires jumps of 2 bytes.\n",
      "    To move from row-to-row, one needs to jump 8 bytes at a time\n",
      "    (``2 * 4``).\n",
      "ctypes : ctypes object\n",
      "    Class containing properties of the array needed for interaction\n",
      "    with ctypes.\n",
      "base : ndarray\n",
      "    If the array is a view into another array, that array is its `base`\n",
      "    (unless that array is also a view).  The `base` array is where the\n",
      "    array data is actually stored.\n",
      "\n",
      "See Also\n",
      "--------\n",
      "array : Construct an array.\n",
      "zeros : Create an array, each element of which is zero.\n",
      "empty : Create an array, but leave its allocated memory unchanged (i.e.,\n",
      "        it contains \"garbage\").\n",
      "dtype : Create a data-type.\n",
      "numpy.typing.NDArray : A :term:`generic <generic type>` version\n",
      "                       of ndarray.\n",
      "\n",
      "Notes\n",
      "-----\n",
      "There are two modes of creating an array using ``__new__``:\n",
      "\n",
      "1. If `buffer` is None, then only `shape`, `dtype`, and `order`\n",
      "   are used.\n",
      "2. If `buffer` is an object exposing the buffer interface, then\n",
      "   all keywords are interpreted.\n",
      "\n",
      "No ``__init__`` method is needed because the array is fully initialized\n",
      "after the ``__new__`` method.\n",
      "\n",
      "Examples\n",
      "--------\n",
      "These examples illustrate the low-level `ndarray` constructor.  Refer\n",
      "to the `See Also` section above for easier ways of constructing an\n",
      "ndarray.\n",
      "\n",
      "First mode, `buffer` is None:\n",
      "\n",
      ">>> np.ndarray(shape=(2,2), dtype=float, order='F')\n",
      "array([[0.0e+000, 0.0e+000], # random\n",
      "       [     nan, 2.5e-323]])\n",
      "\n",
      "Second mode:\n",
      "\n",
      ">>> np.ndarray((2,), buffer=np.array([1,2,3]),\n",
      "...            offset=np.int_().itemsize,\n",
      "...            dtype=int) # offset = 1*itemsize, i.e. skip first element\n",
      "array([2, 3])\n"
     ]
    }
   ],
   "source": [
    "label_idx?"
   ]
  },
  {
   "cell_type": "code",
   "execution_count": 9,
   "metadata": {},
   "outputs": [
    {
     "name": "stdout",
     "output_type": "stream",
     "text": [
      "\u001b[0;31mType:\u001b[0m        Tensor\n",
      "\u001b[0;31mString form:\u001b[0m tensor([1, 1, 1,  ..., 0, 0, 0])\n",
      "\u001b[0;31mLength:\u001b[0m      67796\n",
      "\u001b[0;31mFile:\u001b[0m        /data/qf31/anaconda3/envs/graph/lib/python3.9/site-packages/torch/__init__.py\n",
      "\u001b[0;31mDocstring:\u001b[0m   <no docstring>\n"
     ]
    }
   ],
   "source": [
    "labels?"
   ]
  },
  {
   "cell_type": "code",
   "execution_count": 14,
   "metadata": {},
   "outputs": [
    {
     "name": "stdout",
     "output_type": "stream",
     "text": [
      "\u001b[0;31mType:\u001b[0m        ndarray\n",
      "\u001b[0;31mString form:\u001b[0m [      1  131075       5 ... 1572853 1572859  393212]\n",
      "\u001b[0;31mLength:\u001b[0m      67796\n",
      "\u001b[0;31mFile:\u001b[0m        /data/qf31/anaconda3/envs/graph/lib/python3.9/site-packages/numpy/__init__.py\n",
      "\u001b[0;31mDocstring:\u001b[0m  \n",
      "ndarray(shape, dtype=float, buffer=None, offset=0,\n",
      "        strides=None, order=None)\n",
      "\n",
      "An array object represents a multidimensional, homogeneous array\n",
      "of fixed-size items.  An associated data-type object describes the\n",
      "format of each element in the array (its byte-order, how many bytes it\n",
      "occupies in memory, whether it is an integer, a floating point number,\n",
      "or something else, etc.)\n",
      "\n",
      "Arrays should be constructed using `array`, `zeros` or `empty` (refer\n",
      "to the See Also section below).  The parameters given here refer to\n",
      "a low-level method (`ndarray(...)`) for instantiating an array.\n",
      "\n",
      "For more information, refer to the `numpy` module and examine the\n",
      "methods and attributes of an array.\n",
      "\n",
      "Parameters\n",
      "----------\n",
      "(for the __new__ method; see Notes below)\n",
      "\n",
      "shape : tuple of ints\n",
      "    Shape of created array.\n",
      "dtype : data-type, optional\n",
      "    Any object that can be interpreted as a numpy data type.\n",
      "buffer : object exposing buffer interface, optional\n",
      "    Used to fill the array with data.\n",
      "offset : int, optional\n",
      "    Offset of array data in buffer.\n",
      "strides : tuple of ints, optional\n",
      "    Strides of data in memory.\n",
      "order : {'C', 'F'}, optional\n",
      "    Row-major (C-style) or column-major (Fortran-style) order.\n",
      "\n",
      "Attributes\n",
      "----------\n",
      "T : ndarray\n",
      "    Transpose of the array.\n",
      "data : buffer\n",
      "    The array's elements, in memory.\n",
      "dtype : dtype object\n",
      "    Describes the format of the elements in the array.\n",
      "flags : dict\n",
      "    Dictionary containing information related to memory use, e.g.,\n",
      "    'C_CONTIGUOUS', 'OWNDATA', 'WRITEABLE', etc.\n",
      "flat : numpy.flatiter object\n",
      "    Flattened version of the array as an iterator.  The iterator\n",
      "    allows assignments, e.g., ``x.flat = 3`` (See `ndarray.flat` for\n",
      "    assignment examples; TODO).\n",
      "imag : ndarray\n",
      "    Imaginary part of the array.\n",
      "real : ndarray\n",
      "    Real part of the array.\n",
      "size : int\n",
      "    Number of elements in the array.\n",
      "itemsize : int\n",
      "    The memory use of each array element in bytes.\n",
      "nbytes : int\n",
      "    The total number of bytes required to store the array data,\n",
      "    i.e., ``itemsize * size``.\n",
      "ndim : int\n",
      "    The array's number of dimensions.\n",
      "shape : tuple of ints\n",
      "    Shape of the array.\n",
      "strides : tuple of ints\n",
      "    The step-size required to move from one element to the next in\n",
      "    memory. For example, a contiguous ``(3, 4)`` array of type\n",
      "    ``int16`` in C-order has strides ``(8, 2)``.  This implies that\n",
      "    to move from element to element in memory requires jumps of 2 bytes.\n",
      "    To move from row-to-row, one needs to jump 8 bytes at a time\n",
      "    (``2 * 4``).\n",
      "ctypes : ctypes object\n",
      "    Class containing properties of the array needed for interaction\n",
      "    with ctypes.\n",
      "base : ndarray\n",
      "    If the array is a view into another array, that array is its `base`\n",
      "    (unless that array is also a view).  The `base` array is where the\n",
      "    array data is actually stored.\n",
      "\n",
      "See Also\n",
      "--------\n",
      "array : Construct an array.\n",
      "zeros : Create an array, each element of which is zero.\n",
      "empty : Create an array, but leave its allocated memory unchanged (i.e.,\n",
      "        it contains \"garbage\").\n",
      "dtype : Create a data-type.\n",
      "numpy.typing.NDArray : A :term:`generic <generic type>` version\n",
      "                       of ndarray.\n",
      "\n",
      "Notes\n",
      "-----\n",
      "There are two modes of creating an array using ``__new__``:\n",
      "\n",
      "1. If `buffer` is None, then only `shape`, `dtype`, and `order`\n",
      "   are used.\n",
      "2. If `buffer` is an object exposing the buffer interface, then\n",
      "   all keywords are interpreted.\n",
      "\n",
      "No ``__init__`` method is needed because the array is fully initialized\n",
      "after the ``__new__`` method.\n",
      "\n",
      "Examples\n",
      "--------\n",
      "These examples illustrate the low-level `ndarray` constructor.  Refer\n",
      "to the `See Also` section above for easier ways of constructing an\n",
      "ndarray.\n",
      "\n",
      "First mode, `buffer` is None:\n",
      "\n",
      ">>> np.ndarray(shape=(2,2), dtype=float, order='F')\n",
      "array([[0.0e+000, 0.0e+000], # random\n",
      "       [     nan, 2.5e-323]])\n",
      "\n",
      "Second mode:\n",
      "\n",
      ">>> np.ndarray((2,), buffer=np.array([1,2,3]),\n",
      "...            offset=np.int_().itemsize,\n",
      "...            dtype=int) # offset = 1*itemsize, i.e. skip first element\n",
      "array([2, 3])\n"
     ]
    }
   ],
   "source": [
    "idx?"
   ]
  },
  {
   "cell_type": "code",
   "execution_count": null,
   "metadata": {},
   "outputs": [],
   "source": []
  }
 ],
 "metadata": {
  "interpreter": {
   "hash": "54976a293a9bcbfaee28faa97ac3376d28e29c6227e3d729148e483d8b424bf4"
  },
  "kernelspec": {
   "display_name": "Python 3.9.12 ('graph2')",
   "language": "python",
   "name": "python3"
  },
  "language_info": {
   "codemirror_mode": {
    "name": "ipython",
    "version": 3
   },
   "file_extension": ".py",
   "mimetype": "text/x-python",
   "name": "python",
   "nbconvert_exporter": "python",
   "pygments_lexer": "ipython3",
   "version": "3.9.12"
  },
  "orig_nbformat": 4
 },
 "nbformat": 4,
 "nbformat_minor": 2
}
