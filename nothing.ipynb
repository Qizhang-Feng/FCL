{
 "cells": [
  {
   "cell_type": "code",
   "execution_count": 8,
   "metadata": {},
   "outputs": [
    {
     "name": "stdout",
     "output_type": "stream",
     "text": [
      "The autoreload extension is already loaded. To reload it, use:\n",
      "  %reload_ext autoreload\n"
     ]
    }
   ],
   "source": [
    "%load_ext autoreload\n",
    "%autoreload 2\n",
    "from data_util import *\n",
    "from metric_util import *\n",
    "from train_util import *\n",
    "from model import *\n",
    "\n",
    "import torch \n",
    "import pickle\n",
    "from torch import nn\n",
    "import torch.nn.functional as F\n",
    "from torch.optim import Adam, SGD\n",
    "import numpy as np\n",
    "from torch.utils.data import Dataset, DataLoader\n",
    "from tqdm import tqdm\n",
    "import os\n",
    "from matplotlib import pyplot as plt\n",
    "from torchvision import transforms\n",
    "from torchvision.models import resnet18\n",
    "#os.environ[\"CUDA_DEVICE_ORDER\"]=\"PCI_BUS_ID\"   # see issue #152\n",
    "#os.environ[\"CUDA_VISIBLE_DEVICES\"]=\"0\"\n",
    "import sys\n",
    "sys.path.append('./PyGCL')\n",
    "import GCL.losses as L\n",
    "from GCL.models import DualBranchContrast\n",
    "from GCL.eval import get_split, LREvaluator\n"
   ]
  },
  {
   "cell_type": "code",
   "execution_count": 9,
   "metadata": {},
   "outputs": [],
   "source": [
    "config = {\n",
    "    # meta config\n",
    "    'dataset_name': 'celeba',\n",
    "    'sens_name': 'gender',\n",
    "    'conditional': False,\n",
    "    'debias': False,\n",
    "    'adversarial': False,\n",
    "    # tunable config\n",
    "    'batch_size': 256 * 2,\n",
    "    'hidden_dim': 240,\n",
    "    'drop_prob': 0.2,\n",
    "    'cond_temp': 1.0/200,\n",
    "    'debias_temp': 1.0/30,\n",
    "    'debias_ratio': 4,\n",
    "    'lr': 0.00005,\n",
    "    'tau': 0.1,\n",
    "}"
   ]
  },
  {
   "cell_type": "code",
   "execution_count": 10,
   "metadata": {},
   "outputs": [],
   "source": [
    "# some more config setting\n",
    "device = 'cuda:0' if torch.cuda.is_available() else 'cpu'\n",
    "\n",
    "dataset_name = config['dataset_name']\n",
    "sens_name = config['sens_name']\n",
    "sens_num = 2 if sens_name=='gender' else 1\n",
    "TASK_TYPE = 'regression' if dataset_name=='crimes' else 'classification'"
   ]
  },
  {
   "cell_type": "code",
   "execution_count": 11,
   "metadata": {},
   "outputs": [],
   "source": [
    "# load dataset...\n",
    "dataset = get_dataset(dataset_name, sens_name)\n",
    "#x = dataset[:][0]\n",
    "#sens = dataset[:][2]\n",
    "x, sens = get_samples(dataset, num=1000)\n",
    "dataloader = DataLoader(dataset, batch_size=config['batch_size'], shuffle=True, num_workers=4)"
   ]
  },
  {
   "cell_type": "code",
   "execution_count": 12,
   "metadata": {},
   "outputs": [],
   "source": [
    "# prepare model config\n",
    "#input_dim = dataset[0][0].shape[-1]\n",
    "hidden_dim = config['hidden_dim'] if config['dataset_name'] != 'celeba' else 1000\n",
    "sens_dim = dataset.sens_dim"
   ]
  },
  {
   "cell_type": "code",
   "execution_count": 13,
   "metadata": {},
   "outputs": [],
   "source": [
    "# create model\n",
    "main_encoder = RES()\n",
    "sens_encoder = MLP(sens_dim,hidden_dim)\n",
    "adv_model = Adv_sens(sens_num=sens_num, hidden_dim=hidden_dim)\n",
    "\n",
    "aug = transforms.Compose([transforms.RandomCrop(size=RESIZE), transforms.ColorJitter(),\n",
    "                         transforms.Grayscale(num_output_channels=3), transforms.RandomHorizontalFlip(),\n",
    "                         transforms.RandomVerticalFlip()])#FeatureDrop(drop_prob=config['drop_prob'])\n",
    "\n",
    "encoder_model = Encoder(main_encoder = main_encoder, augmentor = aug, sens_encoder = sens_encoder, adv_model=adv_model)\n",
    "encoder_model = encoder_model.to(device)"
   ]
  },
  {
   "cell_type": "code",
   "execution_count": 14,
   "metadata": {},
   "outputs": [
    {
     "name": "stderr",
     "output_type": "stream",
     "text": [
      "(T):   0%|          | 0/100 [00:00<?, ?it/s]"
     ]
    }
   ],
   "source": [
    "contrast_model = DualBranchContrast(loss=L.FairInfoNCE(tau=config['tau']), mode='G2G').to(device)\n",
    "optim = Adam(encoder_model.parameters(), lr=config['lr'])\n",
    "\n",
    "performance_list = []\n",
    "hist_gdp_list = []\n",
    "max_gdp_list = []\n",
    "kernel_gdp_list = []\n",
    "\n",
    "epoch = 100\n",
    "with tqdm(total=epoch, desc='(T)') as pbar:\n",
    "    for epoch in range(1, epoch+1):\n",
    "        encoder_model = encoder_model.to(device)\n",
    "        loss_result = train(encoder_model = encoder_model, contrast_model=contrast_model,\n",
    "                                         dataloader=dataloader, optimizer = optim,\n",
    "                                         conditional=config['conditional'],debias=config['debias'], adversarial=config['adversarial'] if epoch%5==0 else False,\n",
    "                                         cond_temp = config['cond_temp'],\n",
    "                                         debias_temp = config['debias_temp'],\n",
    "                                         debias_ratio = config['debias_ratio'])\n",
    "        pbar.set_postfix({'loss': loss_result['loss'], \n",
    "                          'conditional_loss':loss_result['conditional_loss'], \n",
    "                          'debias_loss': loss_result['debias_loss'],\n",
    "                          'adv_loss': loss_result['adv_loss']})\n",
    "        pbar.update()\n",
    "        \n",
    "        if epoch % 1 == 0:\n",
    "            print(loss_result)\n",
    "            result, evaluator = test(encoder_model, dataloader, evaluator=LREvaluator(task=TASK_TYPE))\n",
    "            classifier = result['classifier']\n",
    "            \n",
    "            # performance \n",
    "            performance = result['mae'] if dataset_name=='crimes' else result['auc']\n",
    "            print('performance: ', performance)\n",
    "            performance_list.append(performance)\n",
    "\n",
    "            # fairness\n",
    "            hist_gdp = gdp(mode='hist', task=TASK_TYPE, hist_num=1000, x = x, sens = sens, encoder_model = encoder_model, classifier = classifier)\n",
    "            print('hist gdp: ', hist_gdp)\n",
    "            hist_gdp_list.append(hist_gdp)\n",
    "            max_gdp = gdp(mode='max', task=TASK_TYPE, hist_num=1000, x = x, sens = sens, encoder_model = encoder_model, classifier = classifier)\n",
    "            print('max gdp: ', max_gdp)\n",
    "            max_gdp_list.append(max_gdp)\n",
    "            kernel_gdp = gdp(mode='kernel', task=TASK_TYPE, hist_num=1000, x = x, sens = sens, encoder_model = encoder_model, classifier = classifier)\n",
    "            print('kernel gdp: ', kernel_gdp)\n",
    "            kernel_gdp_list.append(kernel_gdp)\n",
    "            #print(' auc: ', result['auc'], ' dp: ', dp)\n",
    "        "
   ]
  },
  {
   "cell_type": "code",
   "execution_count": 7,
   "metadata": {},
   "outputs": [
    {
     "name": "stderr",
     "output_type": "stream",
     "text": [
      "(T):   1%|          | 1/100 [03:00<4:57:30, 180.31s/it, loss=0.642, conditional_loss=0.642, debias_loss=0, adv_loss=0]"
     ]
    },
    {
     "name": "stdout",
     "output_type": "stream",
     "text": [
      "{'loss': 0.6419667425044115, 'conditional_loss': 0.6419667425044115, 'debias_loss': 0.0, 'adv_loss': 0.0}\n"
     ]
    },
    {
     "name": "stderr",
     "output_type": "stream",
     "text": [
      "(LR): 100%|██████████| 500/500 [00:04<00:00, best test F1Mi=0.731, F1Ma=0.643]\n"
     ]
    },
    {
     "name": "stdout",
     "output_type": "stream",
     "text": [
      "performance:  0.6345626258763142\n",
      "hist gdp:  0.09972800000000001\n",
      "max gdp:  0.2055365946150929\n",
      "kernel gdp:  0.087692186\n"
     ]
    },
    {
     "name": "stderr",
     "output_type": "stream",
     "text": [
      "(T):   2%|▏         | 2/100 [06:54<5:46:41, 212.26s/it, loss=0.0736, conditional_loss=0.0736, debias_loss=0, adv_loss=0]"
     ]
    },
    {
     "name": "stdout",
     "output_type": "stream",
     "text": [
      "{'loss': 0.07356313332540435, 'conditional_loss': 0.07356313332540435, 'debias_loss': 0.0, 'adv_loss': 0.0}\n"
     ]
    },
    {
     "name": "stderr",
     "output_type": "stream",
     "text": [
      "(LR): 100%|██████████| 500/500 [00:04<00:00, best test F1Mi=0.725, F1Ma=0.631]\n"
     ]
    },
    {
     "name": "stdout",
     "output_type": "stream",
     "text": [
      "performance:  0.6238862334309304\n",
      "hist gdp:  0.102008\n",
      "max gdp:  0.2102356102949663\n",
      "kernel gdp:  0.089697026\n"
     ]
    },
    {
     "name": "stderr",
     "output_type": "stream",
     "text": [
      "(T):   3%|▎         | 3/100 [10:50<6:00:29, 222.98s/it, loss=0.0544, conditional_loss=0.0544, debias_loss=0, adv_loss=0]"
     ]
    },
    {
     "name": "stdout",
     "output_type": "stream",
     "text": [
      "{'loss': 0.054353300259454444, 'conditional_loss': 0.054353300259454444, 'debias_loss': 0.0, 'adv_loss': 0.0}\n"
     ]
    },
    {
     "name": "stderr",
     "output_type": "stream",
     "text": [
      "(LR): 100%|██████████| 500/500 [00:04<00:00, best test F1Mi=0.725, F1Ma=0.63]\n"
     ]
    },
    {
     "name": "stdout",
     "output_type": "stream",
     "text": [
      "performance:  0.6231381176116194\n",
      "hist gdp:  0.09635200000000001\n",
      "max gdp:  0.19857875385401727\n",
      "kernel gdp:  0.08472363\n"
     ]
    },
    {
     "name": "stderr",
     "output_type": "stream",
     "text": [
      "(T):   4%|▍         | 4/100 [14:44<6:03:46, 227.36s/it, loss=0.0478, conditional_loss=0.0478, debias_loss=0, adv_loss=0]"
     ]
    },
    {
     "name": "stdout",
     "output_type": "stream",
     "text": [
      "{'loss': 0.047750510638521156, 'conditional_loss': 0.047750510638521156, 'debias_loss': 0.0, 'adv_loss': 0.0}\n"
     ]
    },
    {
     "name": "stderr",
     "output_type": "stream",
     "text": [
      "(LR): 100%|██████████| 500/500 [00:04<00:00, best test F1Mi=0.726, F1Ma=0.635]\n"
     ]
    },
    {
     "name": "stdout",
     "output_type": "stream",
     "text": [
      "performance:  0.6270269867205733\n",
      "hist gdp:  0.10283600000000001\n",
      "max gdp:  0.21194209493660449\n",
      "kernel gdp:  0.0904251\n"
     ]
    },
    {
     "name": "stderr",
     "output_type": "stream",
     "text": [
      "(T):   5%|▌         | 5/100 [18:39<6:04:00, 229.90s/it, loss=0.0429, conditional_loss=0.0429, debias_loss=0, adv_loss=0]"
     ]
    },
    {
     "name": "stdout",
     "output_type": "stream",
     "text": [
      "{'loss': 0.042856269240754204, 'conditional_loss': 0.042856269240754204, 'debias_loss': 0.0, 'adv_loss': 0.0}\n"
     ]
    },
    {
     "name": "stderr",
     "output_type": "stream",
     "text": [
      "(LR): 100%|██████████| 500/500 [00:04<00:00, best test F1Mi=0.73, F1Ma=0.637]\n"
     ]
    },
    {
     "name": "stdout",
     "output_type": "stream",
     "text": [
      "performance:  0.6292773642022135\n",
      "hist gdp:  0.10946000000000002\n",
      "max gdp:  0.22559397206971032\n",
      "kernel gdp:  0.09624967\n"
     ]
    },
    {
     "name": "stderr",
     "output_type": "stream",
     "text": [
      "(T):   6%|▌         | 6/100 [22:33<6:02:34, 231.44s/it, loss=0.0401, conditional_loss=0.0401, debias_loss=0, adv_loss=0]"
     ]
    },
    {
     "name": "stdout",
     "output_type": "stream",
     "text": [
      "{'loss': 0.04007712656151761, 'conditional_loss': 0.04007712656151761, 'debias_loss': 0.0, 'adv_loss': 0.0}\n"
     ]
    },
    {
     "name": "stderr",
     "output_type": "stream",
     "text": [
      "(LR): 100%|██████████| 500/500 [00:04<00:00, best test F1Mi=0.72, F1Ma=0.628]\n"
     ]
    },
    {
     "name": "stdout",
     "output_type": "stream",
     "text": [
      "performance:  0.6216384521635266\n",
      "hist gdp:  0.10911600000000002\n",
      "max gdp:  0.22488499777415044\n",
      "kernel gdp:  0.09594718\n"
     ]
    },
    {
     "name": "stderr",
     "output_type": "stream",
     "text": [
      "(T):   7%|▋         | 7/100 [26:27<6:00:13, 232.41s/it, loss=0.0378, conditional_loss=0.0378, debias_loss=0, adv_loss=0]"
     ]
    },
    {
     "name": "stdout",
     "output_type": "stream",
     "text": [
      "{'loss': 0.03775195900421097, 'conditional_loss': 0.03775195900421097, 'debias_loss': 0.0, 'adv_loss': 0.0}\n"
     ]
    },
    {
     "name": "stderr",
     "output_type": "stream",
     "text": [
      "(LR): 100%|██████████| 500/500 [00:04<00:00, best test F1Mi=0.72, F1Ma=0.626]\n"
     ]
    },
    {
     "name": "stdout",
     "output_type": "stream",
     "text": [
      "performance:  0.6199792751238548\n",
      "hist gdp:  0.10780400000000002\n",
      "max gdp:  0.22218100278643388\n",
      "kernel gdp:  0.09479352\n"
     ]
    },
    {
     "name": "stderr",
     "output_type": "stream",
     "text": [
      "(T):   8%|▊         | 8/100 [30:22<5:57:23, 233.08s/it, loss=0.0362, conditional_loss=0.0362, debias_loss=0, adv_loss=0]"
     ]
    },
    {
     "name": "stdout",
     "output_type": "stream",
     "text": [
      "{'loss': 0.03617247288355475, 'conditional_loss': 0.03617247288355475, 'debias_loss': 0.0, 'adv_loss': 0.0}\n"
     ]
    },
    {
     "name": "stderr",
     "output_type": "stream",
     "text": [
      "(LR): 100%|██████████| 500/500 [00:04<00:00, best test F1Mi=0.721, F1Ma=0.626]\n"
     ]
    },
    {
     "name": "stdout",
     "output_type": "stream",
     "text": [
      "performance:  0.6199317599780478\n",
      "hist gdp:  0.10318\n",
      "max gdp:  0.21265106923216437\n",
      "kernel gdp:  0.090727575\n"
     ]
    },
    {
     "name": "stderr",
     "output_type": "stream",
     "text": [
      "(T):   9%|▉         | 9/100 [34:16<5:54:06, 233.48s/it, loss=0.0352, conditional_loss=0.0352, debias_loss=0, adv_loss=0]"
     ]
    },
    {
     "name": "stdout",
     "output_type": "stream",
     "text": [
      "{'loss': 0.03521631581931369, 'conditional_loss': 0.03521631581931369, 'debias_loss': 0.0, 'adv_loss': 0.0}\n"
     ]
    },
    {
     "name": "stderr",
     "output_type": "stream",
     "text": [
      "(LR): 100%|██████████| 500/500 [00:04<00:00, best test F1Mi=0.726, F1Ma=0.633]\n"
     ]
    },
    {
     "name": "stdout",
     "output_type": "stream",
     "text": [
      "performance:  0.6260286716383043\n",
      "hist gdp:  0.097244\n",
      "max gdp:  0.2004171406901782\n",
      "kernel gdp:  0.085507974\n"
     ]
    },
    {
     "name": "stderr",
     "output_type": "stream",
     "text": [
      "(T):  10%|█         | 10/100 [38:11<5:50:43, 233.81s/it, loss=0.0344, conditional_loss=0.0344, debias_loss=0, adv_loss=0]"
     ]
    },
    {
     "name": "stdout",
     "output_type": "stream",
     "text": [
      "{'loss': 0.03437289359551743, 'conditional_loss': 0.03437289359551743, 'debias_loss': 0.0, 'adv_loss': 0.0}\n"
     ]
    },
    {
     "name": "stderr",
     "output_type": "stream",
     "text": [
      "(LR): 100%|██████████| 500/500 [00:04<00:00, best test F1Mi=0.724, F1Ma=0.629]\n"
     ]
    },
    {
     "name": "stdout",
     "output_type": "stream",
     "text": [
      "performance:  0.6224505002236373\n",
      "hist gdp:  0.103524\n",
      "max gdp:  0.21336004352772417\n",
      "kernel gdp:  0.09103006\n"
     ]
    },
    {
     "name": "stderr",
     "output_type": "stream",
     "text": [
      "(T):  11%|█         | 11/100 [42:06<5:47:16, 234.12s/it, loss=0.0332, conditional_loss=0.0332, debias_loss=0, adv_loss=0]"
     ]
    },
    {
     "name": "stdout",
     "output_type": "stream",
     "text": [
      "{'loss': 0.03317140449283633, 'conditional_loss': 0.03317140449283633, 'debias_loss': 0.0, 'adv_loss': 0.0}\n"
     ]
    },
    {
     "name": "stderr",
     "output_type": "stream",
     "text": [
      "(LR): 100%|██████████| 500/500 [00:04<00:00, best test F1Mi=0.723, F1Ma=0.63]\n"
     ]
    },
    {
     "name": "stdout",
     "output_type": "stream",
     "text": [
      "performance:  0.6232843476311217\n",
      "hist gdp:  0.100556\n",
      "max gdp:  0.20724307925673116\n",
      "kernel gdp:  0.08842026\n"
     ]
    },
    {
     "name": "stderr",
     "output_type": "stream",
     "text": [
      "(T):  12%|█▏        | 12/100 [46:00<5:43:34, 234.25s/it, loss=0.0326, conditional_loss=0.0326, debias_loss=0, adv_loss=0]"
     ]
    },
    {
     "name": "stdout",
     "output_type": "stream",
     "text": [
      "{'loss': 0.032616274407918346, 'conditional_loss': 0.032616274407918346, 'debias_loss': 0.0, 'adv_loss': 0.0}\n"
     ]
    },
    {
     "name": "stderr",
     "output_type": "stream",
     "text": [
      "(LR): 100%|██████████| 500/500 [00:04<00:00, best test F1Mi=0.719, F1Ma=0.621]\n"
     ]
    },
    {
     "name": "stdout",
     "output_type": "stream",
     "text": [
      "performance:  0.6160576490216115\n",
      "hist gdp:  0.098416\n",
      "max gdp:  0.20283259962737626\n",
      "kernel gdp:  0.08653853\n"
     ]
    },
    {
     "name": "stderr",
     "output_type": "stream",
     "text": [
      "(T):  13%|█▎        | 13/100 [49:55<5:39:56, 234.44s/it, loss=0.032, conditional_loss=0.032, debias_loss=0, adv_loss=0]  "
     ]
    },
    {
     "name": "stdout",
     "output_type": "stream",
     "text": [
      "{'loss': 0.032023709454813844, 'conditional_loss': 0.032023709454813844, 'debias_loss': 0.0, 'adv_loss': 0.0}\n"
     ]
    },
    {
     "name": "stderr",
     "output_type": "stream",
     "text": [
      "(LR): 100%|██████████| 500/500 [00:04<00:00, best test F1Mi=0.72, F1Ma=0.631]\n"
     ]
    },
    {
     "name": "stdout",
     "output_type": "stream",
     "text": [
      "performance:  0.6244641794653158\n",
      "hist gdp:  0.102072\n",
      "max gdp:  0.21036751248948904\n",
      "kernel gdp:  0.0897533\n"
     ]
    },
    {
     "name": "stderr",
     "output_type": "stream",
     "text": [
      "(T):  14%|█▍        | 14/100 [53:50<5:36:00, 234.42s/it, loss=0.0314, conditional_loss=0.0314, debias_loss=0, adv_loss=0]"
     ]
    },
    {
     "name": "stdout",
     "output_type": "stream",
     "text": [
      "{'loss': 0.031432784426043615, 'conditional_loss': 0.031432784426043615, 'debias_loss': 0.0, 'adv_loss': 0.0}\n"
     ]
    },
    {
     "name": "stderr",
     "output_type": "stream",
     "text": [
      "(LR): 100%|██████████| 500/500 [00:04<00:00, best test F1Mi=0.722, F1Ma=0.627]\n"
     ]
    },
    {
     "name": "stdout",
     "output_type": "stream",
     "text": [
      "performance:  0.6201128149864011\n",
      "hist gdp:  0.099244\n",
      "max gdp:  0.20453908426901452\n",
      "kernel gdp:  0.0872666\n"
     ]
    },
    {
     "name": "stderr",
     "output_type": "stream",
     "text": [
      "(T):  15%|█▌        | 15/100 [57:45<5:32:33, 234.74s/it, loss=0.0309, conditional_loss=0.0309, debias_loss=0, adv_loss=0]"
     ]
    },
    {
     "name": "stdout",
     "output_type": "stream",
     "text": [
      "{'loss': 0.030886147305978544, 'conditional_loss': 0.030886147305978544, 'debias_loss': 0.0, 'adv_loss': 0.0}\n"
     ]
    },
    {
     "name": "stderr",
     "output_type": "stream",
     "text": [
      "(LR): 100%|██████████| 500/500 [00:04<00:00, best test F1Mi=0.725, F1Ma=0.636]\n"
     ]
    },
    {
     "name": "stdout",
     "output_type": "stream",
     "text": [
      "performance:  0.6289900008124942\n",
      "hist gdp:  0.10986800000000001\n",
      "max gdp:  0.2264348485597929\n",
      "kernel gdp:  0.09660842\n"
     ]
    },
    {
     "name": "stderr",
     "output_type": "stream",
     "text": [
      "(T):  16%|█▌        | 16/100 [1:01:40<5:28:33, 234.68s/it, loss=0.0305, conditional_loss=0.0305, debias_loss=0, adv_loss=0]"
     ]
    },
    {
     "name": "stdout",
     "output_type": "stream",
     "text": [
      "{'loss': 0.030499808267696098, 'conditional_loss': 0.030499808267696098, 'debias_loss': 0.0, 'adv_loss': 0.0}\n"
     ]
    },
    {
     "name": "stderr",
     "output_type": "stream",
     "text": [
      "(LR): 100%|██████████| 500/500 [00:04<00:00, best test F1Mi=0.727, F1Ma=0.631]\n"
     ]
    },
    {
     "name": "stdout",
     "output_type": "stream",
     "text": [
      "performance:  0.623555266749205\n",
      "hist gdp:  0.103932\n",
      "max gdp:  0.2142009200178068\n",
      "kernel gdp:  0.09138882\n"
     ]
    },
    {
     "name": "stderr",
     "output_type": "stream",
     "text": [
      "(T):  17%|█▋        | 17/100 [1:05:34<5:24:38, 234.68s/it, loss=0.0302, conditional_loss=0.0302, debias_loss=0, adv_loss=0]"
     ]
    },
    {
     "name": "stdout",
     "output_type": "stream",
     "text": [
      "{'loss': 0.030191128101176436, 'conditional_loss': 0.030191128101176436, 'debias_loss': 0.0, 'adv_loss': 0.0}\n"
     ]
    },
    {
     "name": "stderr",
     "output_type": "stream",
     "text": [
      "(LR): 100%|██████████| 500/500 [00:04<00:00, best test F1Mi=0.719, F1Ma=0.625]\n"
     ]
    },
    {
     "name": "stdout",
     "output_type": "stream",
     "text": [
      "performance:  0.6193855314566479\n",
      "hist gdp:  0.10904\n",
      "max gdp:  0.2247283639181547\n",
      "kernel gdp:  0.09588035\n"
     ]
    },
    {
     "name": "stderr",
     "output_type": "stream",
     "text": [
      "(T):  18%|█▊        | 18/100 [1:09:29<5:20:48, 234.74s/it, loss=0.0299, conditional_loss=0.0299, debias_loss=0, adv_loss=0]"
     ]
    },
    {
     "name": "stdout",
     "output_type": "stream",
     "text": [
      "{'loss': 0.02990869219479321, 'conditional_loss': 0.02990869219479321, 'debias_loss': 0.0, 'adv_loss': 0.0}\n"
     ]
    },
    {
     "name": "stderr",
     "output_type": "stream",
     "text": [
      "(LR): 100%|██████████| 500/500 [00:04<00:00, best test F1Mi=0.723, F1Ma=0.624]\n"
     ]
    },
    {
     "name": "stdout",
     "output_type": "stream",
     "text": [
      "performance:  0.6182473169254863\n",
      "hist gdp:  0.09944799999999998\n",
      "max gdp:  0.20495952251405583\n",
      "kernel gdp:  0.087445974\n"
     ]
    }
   ],
   "source": [
    "# F F F\n",
    "contrast_model = DualBranchContrast(loss=L.FairInfoNCE(tau=config['tau']), mode='G2G').to(device)\n",
    "optim = Adam(encoder_model.parameters(), lr=config['lr'])\n",
    "\n",
    "performance_list = []\n",
    "hist_gdp_list = []\n",
    "max_gdp_list = []\n",
    "kernel_gdp_list = []\n",
    "\n",
    "epoch = 100\n",
    "with tqdm(total=epoch, desc='(T)') as pbar:\n",
    "    for epoch in range(1, epoch+1):\n",
    "        encoder_model = encoder_model.to(device)\n",
    "        loss_result = train(encoder_model = encoder_model, contrast_model=contrast_model,\n",
    "                                         dataloader=dataloader, optimizer = optim,\n",
    "                                         conditional=config['conditional'],debias=config['debias'], adversarial=config['adversarial'] if epoch%5==0 else False,\n",
    "                                         cond_temp = config['cond_temp'],\n",
    "                                         debias_temp = config['debias_temp'],\n",
    "                                         debias_ratio = config['debias_ratio'])\n",
    "        pbar.set_postfix({'loss': loss_result['loss'], \n",
    "                          'conditional_loss':loss_result['conditional_loss'], \n",
    "                          'debias_loss': loss_result['debias_loss'],\n",
    "                          'adv_loss': loss_result['adv_loss']})\n",
    "        pbar.update()\n",
    "        \n",
    "        if epoch % 1 == 0:\n",
    "            print(loss_result)\n",
    "            result, evaluator = test(encoder_model, dataloader, evaluator=LREvaluator(task=TASK_TYPE))\n",
    "            classifier = result['classifier']\n",
    "            \n",
    "            # performance \n",
    "            performance = result['mae'] if dataset_name=='crimes' else result['auc']\n",
    "            print('performance: ', performance)\n",
    "            performance_list.append(performance)\n",
    "\n",
    "            # fairness\n",
    "            hist_gdp = gdp(mode='hist', task=TASK_TYPE, hist_num=1000, x = x, sens = sens, encoder_model = encoder_model, classifier = classifier)\n",
    "            print('hist gdp: ', hist_gdp)\n",
    "            hist_gdp_list.append(hist_gdp)\n",
    "            max_gdp = gdp(mode='max', task=TASK_TYPE, hist_num=1000, x = x, sens = sens, encoder_model = encoder_model, classifier = classifier)\n",
    "            print('max gdp: ', max_gdp)\n",
    "            max_gdp_list.append(max_gdp)\n",
    "            kernel_gdp = gdp(mode='kernel', task=TASK_TYPE, hist_num=1000, x = x, sens = sens, encoder_model = encoder_model, classifier = classifier)\n",
    "            print('kernel gdp: ', kernel_gdp)\n",
    "            kernel_gdp_list.append(kernel_gdp)\n",
    "            #print(' auc: ', result['auc'], ' dp: ', dp)"
   ]
  },
  {
   "cell_type": "code",
   "execution_count": null,
   "metadata": {},
   "outputs": [],
   "source": []
  }
 ],
 "metadata": {
  "interpreter": {
   "hash": "54976a293a9bcbfaee28faa97ac3376d28e29c6227e3d729148e483d8b424bf4"
  },
  "kernelspec": {
   "display_name": "Python 3.7.7 ('graph2')",
   "language": "python",
   "name": "python3"
  },
  "language_info": {
   "codemirror_mode": {
    "name": "ipython",
    "version": 3
   },
   "file_extension": ".py",
   "mimetype": "text/x-python",
   "name": "python",
   "nbconvert_exporter": "python",
   "pygments_lexer": "ipython3",
   "version": "3.7.7"
  },
  "orig_nbformat": 4
 },
 "nbformat": 4,
 "nbformat_minor": 2
}
