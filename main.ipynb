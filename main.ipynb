{
 "cells": [
  {
   "cell_type": "code",
   "execution_count": 1,
   "metadata": {},
   "outputs": [],
   "source": [
    "%load_ext autoreload\n",
    "%autoreload 2\n",
    "from data_util import *\n",
    "from metric_util import *\n",
    "from train_util import *\n",
    "from model import *\n",
    "\n",
    "import torch \n",
    "import pickle\n",
    "from torch import nn\n",
    "import torch.nn.functional as F\n",
    "from torch.optim import Adam, SGD\n",
    "import numpy as np\n",
    "from torch.utils.data import Dataset, DataLoader\n",
    "from tqdm import tqdm\n",
    "import os\n",
    "from matplotlib import pyplot as plt\n",
    "from torchvision import transforms\n",
    "from torchvision.models import resnet18\n",
    "#os.environ[\"CUDA_DEVICE_ORDER\"]=\"PCI_BUS_ID\"   # see issue #152\n",
    "#os.environ[\"CUDA_VISIBLE_DEVICES\"]=\"0\"\n",
    "import GCL.losses as L\n",
    "from GCL.models import DualBranchContrast\n",
    "from GCL.eval import get_split, LREvaluator\n",
    "import GCL.augmentors as A\n",
    "\n"
   ]
  },
  {
   "cell_type": "code",
   "execution_count": 2,
   "metadata": {},
   "outputs": [],
   "source": [
    "'''\n",
    "config = {\n",
    "    # meta config\n",
    "    'dataset_name': 'adult',\n",
    "    'sens_name': 'gender',\n",
    "    'conditional': False,\n",
    "    'debias': False,\n",
    "    'adversarial': False,\n",
    "    # tunable config\n",
    "    'batch_size': 1024*7,\n",
    "    'hidden_dim': 240,\n",
    "    'drop_prob': 0.2,\n",
    "    'cond_temp': 1.0/200,\n",
    "    'debias_temp': 1.0/30,\n",
    "    'debias_ratio': 4,\n",
    "    'lr': 0.00005,\n",
    "    'tau': 0.1,\n",
    "}\n",
    "'''\n",
    "config = {\n",
    "    # meta config\n",
    "    'dataset_name': 'adult',\n",
    "    'sens_name': 'gender',\n",
    "    'conditional': True,\n",
    "    'debias': True,\n",
    "    'adversarial': False,\n",
    "    # tunable config\n",
    "    'batch_size': 256 * 8,\n",
    "    'hidden_dim': 240*5,\n",
    "    'drop_prob': 0.2,\n",
    "    'cond_temp': 1.0/80,\n",
    "    'debias_temp': 1.0/80,\n",
    "    'debias_ratio': 8,\n",
    "    'lr': 0.0001,\n",
    "    'tau': 0.1,\n",
    "}\n"
   ]
  },
  {
   "cell_type": "code",
   "execution_count": 2,
   "metadata": {},
   "outputs": [],
   "source": [
    "# config from ray trial\n",
    "config = {'dataset_name': 'adult',\n",
    " 'sens_name': 'gender',\n",
    " 'conditional': True,\n",
    " 'debias': True,\n",
    " 'adversarial': False,\n",
    " 'batch_size': 5120,\n",
    " 'hidden_dim': 220,\n",
    " 'drop_prob': 0.23526761349095193,\n",
    " 'cond_temp': 1/400,\n",
    " 'debias_temp': 0.05464262537638573,\n",
    " 'debias_ratio': 3.5787353988820394,\n",
    " 'lr': 6.778680409743423e-06,\n",
    " 'tau': 0.1}"
   ]
  },
  {
   "cell_type": "code",
   "execution_count": 4,
   "metadata": {},
   "outputs": [],
   "source": [
    "# config for celeba gender from ray\n",
    "config = {'dataset_name': 'celeba', 'sens_name': 'gender', 'conditional': False, 'debias': False, 'adversarial': False, 'batch_size': 1024, 'hidden_dim': 200, 'drop_prob': 0.21933711406450526, 'cond_temp': 0.004580936862279113, 'debias_temp': 0.014837335160686837, 'debias_ratio': 5.895037428868658, 'lr': 0.00020992489648128816, 'tau': 0.050515329052622834}"
   ]
  },
  {
   "cell_type": "code",
   "execution_count": 3,
   "metadata": {},
   "outputs": [],
   "source": [
    "# some more config setting\n",
    "device = 'cuda:1' if torch.cuda.is_available() else 'cpu'\n",
    "\n",
    "dataset_name = config['dataset_name']\n",
    "sens_name = config['sens_name']\n",
    "sens_num = 2 if sens_name=='gender' else 1\n",
    "TASK_TYPE = 'regression' if dataset_name=='crimes' else 'classification'"
   ]
  },
  {
   "cell_type": "code",
   "execution_count": 4,
   "metadata": {},
   "outputs": [],
   "source": [
    "# load dataset...\n",
    "dataset = get_dataset(dataset_name, sens_name)\n",
    "#x = dataset[:][0]\n",
    "#sens = dataset[:][2]\n",
    "sample_index = None\n",
    "if dataset_name in ['pokecn', 'pokecz']:\n",
    "    g, sens, sample_index = get_samples(dataset, num=5000)\n",
    "else:\n",
    "    g, sens = get_samples(dataset, num=5000)\n",
    "dataloader = DataLoader(dataset, batch_size=config['batch_size'], shuffle=True, num_workers=3)"
   ]
  },
  {
   "cell_type": "code",
   "execution_count": 5,
   "metadata": {},
   "outputs": [],
   "source": [
    "# prepare model config\n",
    "input_dim = dataset.input_dim #dataset[0][0].shape[-1]\n",
    "hidden_dim = config['hidden_dim'] if dataset_name != 'celeba' else 1000\n",
    "sens_dim = dataset.sens_dim"
   ]
  },
  {
   "cell_type": "code",
   "execution_count": 6,
   "metadata": {},
   "outputs": [],
   "source": [
    "# create model\n",
    "model_switcher = {\n",
    "    'adult': MLP(input_dim, hidden_dim),\n",
    "    'crimes': MLP(input_dim, hidden_dim),\n",
    "    'celeba': RES(),\n",
    "    'pokecn': GConv(input_dim=input_dim, hidden_dim=hidden_dim, num_layers=3),\n",
    "    'pokecz': GConv(input_dim=input_dim, hidden_dim=hidden_dim, num_layers=3),\n",
    "}\n",
    "main_encoder = model_switcher[dataset_name]\n",
    "sens_encoder = MLP(sens_dim,hidden_dim)\n",
    "adv_model = Adv_sens(sens_num=sens_num, hidden_dim=hidden_dim)\n",
    "\n",
    "aug_switcher = {\n",
    "    'adult': FeatureDrop(drop_prob=config['drop_prob']),\n",
    "    'crimes': FeatureDrop(drop_prob=config['drop_prob']),\n",
    "    'celeba': transforms.Compose([transforms.RandomCrop(size=RESIZE), transforms.ColorJitter(),\n",
    "                         transforms.Grayscale(num_output_channels=3), transforms.RandomHorizontalFlip(),\n",
    "                         transforms.RandomVerticalFlip(), transforms.Normalize((0.5, 0.5, 0.5), (0.5, 0.5, 0.5))]),\n",
    "    'pokecn': A.Compose([A.EdgeAdding(config['drop_prob']), A.EdgeRemoving(config['drop_prob']), A.FeatureMasking(config['drop_prob'])]),\n",
    "    'pokecz': A.Compose([A.EdgeAdding(config['drop_prob']), A.EdgeRemoving(config['drop_prob']), A.FeatureMasking(config['drop_prob'])]),\n",
    "}\n",
    "aug = aug_switcher[dataset_name]\n",
    "\n",
    "encoder_model = Encoder(main_encoder = main_encoder, augmentor = aug, sens_encoder = sens_encoder, adv_model=adv_model)\n",
    "encoder_model = encoder_model.to(device)"
   ]
  },
  {
   "cell_type": "code",
   "execution_count": 8,
   "metadata": {},
   "outputs": [
    {
     "name": "stderr",
     "output_type": "stream",
     "text": [
      "(T):  10%|█         | 50/500 [00:59<08:53,  1.19s/it, loss=1.66, conditional_loss=1.63, debias_loss=0.00384, adv_loss=0]"
     ]
    },
    {
     "name": "stdout",
     "output_type": "stream",
     "text": [
      "{'loss': 1.6589776458947554, 'conditional_loss': 1.628242534139882, 'debias_loss': 0.003841889621900902, 'adv_loss': 0.0}\n"
     ]
    },
    {
     "name": "stderr",
     "output_type": "stream",
     "text": [
      "(LR): 100%|██████████| 5000/5000 [00:11<00:00, best test F1Mi=0.847, F1Ma=0.787]\n"
     ]
    },
    {
     "name": "stdout",
     "output_type": "stream",
     "text": [
      "performance:  0.770897655803316\n",
      "hist gdp:  0.06108199999999997\n",
      "max gdp:  0.13590751115837996\n",
      "kernel gdp:  0.053698458\n"
     ]
    },
    {
     "name": "stderr",
     "output_type": "stream",
     "text": [
      "(T):  20%|██        | 100/500 [02:12<08:06,  1.22s/it, loss=1.55, conditional_loss=1.53, debias_loss=0.0032, adv_loss=0]"
     ]
    },
    {
     "name": "stdout",
     "output_type": "stream",
     "text": [
      "{'loss': 1.5519660296647444, 'conditional_loss': 1.5264058890550032, 'debias_loss': 0.003195017365887116, 'adv_loss': 0.0}\n"
     ]
    },
    {
     "name": "stderr",
     "output_type": "stream",
     "text": [
      "(LR): 100%|██████████| 5000/5000 [00:10<00:00, best test F1Mi=0.851, F1Ma=0.786]"
     ]
    },
    {
     "name": "stdout",
     "output_type": "stream",
     "text": [
      "performance:  0.7698691280984573\n",
      "hist gdp:  0.06508199999999997\n",
      "max gdp:  0.14480751516338186\n",
      "kernel gdp:  0.05721494\n"
     ]
    },
    {
     "name": "stderr",
     "output_type": "stream",
     "text": [
      "\n",
      "(T):  30%|███       | 150/500 [03:24<07:03,  1.21s/it, loss=1.47, conditional_loss=1.44, debias_loss=0.0032, adv_loss=0] "
     ]
    },
    {
     "name": "stdout",
     "output_type": "stream",
     "text": [
      "{'loss': 1.4673312345276708, 'conditional_loss': 1.4417235799457715, 'debias_loss': 0.0032009561695553637, 'adv_loss': 0.0}\n"
     ]
    },
    {
     "name": "stderr",
     "output_type": "stream",
     "text": [
      "(LR): 100%|██████████| 5000/5000 [00:11<00:00, best test F1Mi=0.843, F1Ma=0.771]"
     ]
    },
    {
     "name": "stdout",
     "output_type": "stream",
     "text": [
      "performance:  0.7512791980455349\n",
      "hist gdp:  0.06244600000000006\n",
      "max gdp:  0.13894241252408568\n",
      "kernel gdp:  0.05489759\n"
     ]
    },
    {
     "name": "stderr",
     "output_type": "stream",
     "text": [
      "\n",
      "(T):  40%|████      | 200/500 [04:37<06:11,  1.24s/it, loss=1.42, conditional_loss=1.4, debias_loss=0.00277, adv_loss=0] "
     ]
    },
    {
     "name": "stdout",
     "output_type": "stream",
     "text": [
      "{'loss': 1.421138557402984, 'conditional_loss': 1.3989576412283855, 'debias_loss': 0.002772615577154995, 'adv_loss': 0.0}\n"
     ]
    },
    {
     "name": "stderr",
     "output_type": "stream",
     "text": [
      "(LR): 100%|██████████| 5000/5000 [00:11<00:00, best test F1Mi=0.835, F1Ma=0.766]"
     ]
    },
    {
     "name": "stdout",
     "output_type": "stream",
     "text": [
      "performance:  0.747437046747537\n",
      "hist gdp:  0.06298999999999999\n",
      "max gdp:  0.1401528130687658\n",
      "kernel gdp:  0.055375837\n"
     ]
    },
    {
     "name": "stderr",
     "output_type": "stream",
     "text": [
      "\n",
      "(T):  50%|█████     | 250/500 [05:50<04:57,  1.19s/it, loss=1.37, conditional_loss=1.35, debias_loss=0.00219, adv_loss=0]"
     ]
    },
    {
     "name": "stdout",
     "output_type": "stream",
     "text": [
      "{'loss': 1.3678033960902172, 'conditional_loss': 1.3503180198047473, 'debias_loss': 0.0021856730318078285, 'adv_loss': 0.0}\n"
     ]
    },
    {
     "name": "stderr",
     "output_type": "stream",
     "text": [
      "(LR): 100%|██████████| 5000/5000 [00:10<00:00, best test F1Mi=0.848, F1Ma=0.78]"
     ]
    },
    {
     "name": "stdout",
     "output_type": "stream",
     "text": [
      "performance:  0.7609763039755635\n",
      "hist gdp:  0.054169999999999996\n",
      "max gdp:  0.12052830423773686\n",
      "kernel gdp:  0.047621988\n"
     ]
    },
    {
     "name": "stderr",
     "output_type": "stream",
     "text": [
      "\n",
      "(T):  60%|██████    | 300/500 [07:01<03:52,  1.16s/it, loss=1.34, conditional_loss=1.32, debias_loss=0.00239, adv_loss=0]"
     ]
    },
    {
     "name": "stdout",
     "output_type": "stream",
     "text": [
      "{'loss': 1.3424101977244667, 'conditional_loss': 1.3232687335947286, 'debias_loss': 0.002392683191831212, 'adv_loss': 0.0}\n"
     ]
    },
    {
     "name": "stderr",
     "output_type": "stream",
     "text": [
      "(LR): 100%|██████████| 5000/5000 [00:10<00:00, best test F1Mi=0.851, F1Ma=0.789]"
     ]
    },
    {
     "name": "stdout",
     "output_type": "stream",
     "text": [
      "performance:  0.7708447169773137\n",
      "hist gdp:  0.05362600000000006\n",
      "max gdp:  0.11931790369305662\n",
      "kernel gdp:  0.04714374\n"
     ]
    },
    {
     "name": "stderr",
     "output_type": "stream",
     "text": [
      "\n",
      "(T):  70%|███████   | 350/500 [08:13<02:58,  1.19s/it, loss=1.32, conditional_loss=1.3, debias_loss=0.00247, adv_loss=0] "
     ]
    },
    {
     "name": "stdout",
     "output_type": "stream",
     "text": [
      "{'loss': 1.3176306434299634, 'conditional_loss': 1.2978351712226868, 'debias_loss': 0.00247443417772724, 'adv_loss': 0.0}\n"
     ]
    },
    {
     "name": "stderr",
     "output_type": "stream",
     "text": [
      "(LR): 100%|██████████| 5000/5000 [00:11<00:00, best test F1Mi=0.854, F1Ma=0.78]"
     ]
    },
    {
     "name": "stdout",
     "output_type": "stream",
     "text": [
      "performance:  0.7596357245257384\n",
      "hist gdp:  0.055580000000000074\n",
      "max gdp:  0.12366555564949999\n",
      "kernel gdp:  0.04886155\n"
     ]
    },
    {
     "name": "stderr",
     "output_type": "stream",
     "text": [
      "\n",
      "(T):  80%|████████  | 400/500 [09:26<02:05,  1.25s/it, loss=1.27, conditional_loss=1.26, debias_loss=0.00194, adv_loss=0]"
     ]
    },
    {
     "name": "stdout",
     "output_type": "stream",
     "text": [
      "{'loss': 1.2717168914235157, 'conditional_loss': 1.256165369697239, 'debias_loss': 0.0019439408877825253, 'adv_loss': 0.0}\n"
     ]
    },
    {
     "name": "stderr",
     "output_type": "stream",
     "text": [
      "(LR): 100%|██████████| 5000/5000 [00:10<00:00, best test F1Mi=0.847, F1Ma=0.776]"
     ]
    },
    {
     "name": "stdout",
     "output_type": "stream",
     "text": [
      "performance:  0.7543013996873353\n",
      "hist gdp:  0.05167200000000005\n",
      "max gdp:  0.11497025173661324\n",
      "kernel gdp:  0.045425933\n"
     ]
    },
    {
     "name": "stderr",
     "output_type": "stream",
     "text": [
      "\n",
      "(T):  90%|█████████ | 450/500 [10:38<01:02,  1.25s/it, loss=1.26, conditional_loss=1.25, debias_loss=0.0014, adv_loss=0] "
     ]
    },
    {
     "name": "stdout",
     "output_type": "stream",
     "text": [
      "{'loss': 1.2647836713687233, 'conditional_loss': 1.2535590270291204, 'debias_loss': 0.001403081257735202, 'adv_loss': 0.0}\n"
     ]
    },
    {
     "name": "stderr",
     "output_type": "stream",
     "text": [
      "(LR): 100%|██████████| 5000/5000 [00:11<00:00, best test F1Mi=0.85, F1Ma=0.778]"
     ]
    },
    {
     "name": "stdout",
     "output_type": "stream",
     "text": [
      "performance:  0.7583734682297149\n",
      "hist gdp:  0.05007800000000001\n",
      "max gdp:  0.11142360014062003\n",
      "kernel gdp:  0.04402462\n"
     ]
    },
    {
     "name": "stderr",
     "output_type": "stream",
     "text": [
      "\n",
      "(T): 100%|██████████| 500/500 [11:51<00:00,  1.20s/it, loss=1.25, conditional_loss=1.24, debias_loss=0.00205, adv_loss=0]"
     ]
    },
    {
     "name": "stdout",
     "output_type": "stream",
     "text": [
      "{'loss': 1.2516298734623452, 'conditional_loss': 1.2352505054162897, 'debias_loss': 0.002047421606919846, 'adv_loss': 0.0}\n"
     ]
    },
    {
     "name": "stderr",
     "output_type": "stream",
     "text": [
      "(LR): 100%|██████████| 5000/5000 [00:10<00:00, best test F1Mi=0.848, F1Ma=0.774]\n",
      "(T): 100%|██████████| 500/500 [12:02<00:00,  1.45s/it, loss=1.25, conditional_loss=1.24, debias_loss=0.00205, adv_loss=0]"
     ]
    },
    {
     "name": "stdout",
     "output_type": "stream",
     "text": [
      "performance:  0.7508149560081028\n",
      "hist gdp:  0.05016999999999999\n",
      "max gdp:  0.11162830023273507\n",
      "kernel gdp:  0.044105504\n"
     ]
    },
    {
     "name": "stderr",
     "output_type": "stream",
     "text": [
      "\n"
     ]
    }
   ],
   "source": [
    "contrast_model = DualBranchContrast(loss=L.FairInfoNCE(tau=config['tau']), mode='G2G').to(device)\n",
    "optim = Adam(encoder_model.parameters(), lr=config['lr'])\n",
    "\n",
    "performance_list = []\n",
    "hist_gdp_list = []\n",
    "max_gdp_list = []\n",
    "kernel_gdp_list = []\n",
    "\n",
    "(epoch_num,interval) = (500,50) if dataset_name!='celeba' else (10,1)\n",
    "\n",
    "with tqdm(total=epoch_num, desc='(T)') as pbar:\n",
    "    for epoch in range(1, epoch_num+1):\n",
    "        encoder_model = encoder_model.to(device)\n",
    "        loss_result = train(encoder_model = encoder_model, contrast_model=contrast_model,\n",
    "                                         dataloader=dataloader, optimizer = optim,\n",
    "                                         conditional=config['conditional'],debias=config['debias'], adversarial=config['adversarial'] if epoch%5==0 else False,\n",
    "                                         cond_temp = config['cond_temp'],\n",
    "                                         debias_temp = config['debias_temp'],\n",
    "                                         debias_ratio = config['debias_ratio'])\n",
    "        pbar.set_postfix({'loss': loss_result['loss'], \n",
    "                          'conditional_loss':loss_result['conditional_loss'], \n",
    "                          'debias_loss': loss_result['debias_loss'],\n",
    "                          'adv_loss': loss_result['adv_loss']})\n",
    "        pbar.update()\n",
    "\n",
    "        if epoch % interval == 0:\n",
    "            print(loss_result)\n",
    "            result, evaluator = test(encoder_model, dataloader, evaluator=LREvaluator(task=TASK_TYPE))\n",
    "            #result, evaluator = test(encoder_model, dataloader, evaluator=SVMEvaluator())\n",
    "            classifier = result['classifier']\n",
    "            \n",
    "            # performance \n",
    "            performance = result['mae'] if dataset_name=='crimes' else result['auc']\n",
    "            print('performance: ', performance)\n",
    "            performance_list.append(performance)\n",
    "\n",
    "            # fairness\n",
    "            gdp_hist, gdp_kernel, gdp_max = gdp(g=g, sens=sens, sample_index=sample_index, task=TASK_TYPE, hist_num=1000, encoder_model=encoder_model, classifier=classifier)\n",
    "            print('hist gdp: ', gdp_hist)\n",
    "            hist_gdp_list.append(gdp_hist)\n",
    "            print('max gdp: ', gdp_max)\n",
    "            max_gdp_list.append(gdp_max)\n",
    "            print('kernel gdp: ', gdp_kernel)\n",
    "            kernel_gdp_list.append(gdp_kernel)\n",
    "            #print(' auc: ', result['auc'], ' dp: ', dp)"
   ]
  },
  {
   "cell_type": "code",
   "execution_count": 9,
   "metadata": {},
   "outputs": [],
   "source": [
    "ray_result = torch.load('adult_age_ray_config_result')"
   ]
  },
  {
   "cell_type": "code",
   "execution_count": 10,
   "metadata": {},
   "outputs": [],
   "source": [
    "x, sens = get_samples(dataset, num=5000)"
   ]
  },
  {
   "cell_type": "code",
   "execution_count": 11,
   "metadata": {},
   "outputs": [
    {
     "data": {
      "text/plain": [
       "array([104], dtype=uint8)"
      ]
     },
     "execution_count": 11,
     "metadata": {},
     "output_type": "execute_result"
    }
   ],
   "source": [
    "sum(sens.numpy())"
   ]
  },
  {
   "cell_type": "code",
   "execution_count": 12,
   "metadata": {},
   "outputs": [
    {
     "data": {
      "text/plain": [
       "<matplotlib.collections.PathCollection at 0x7febcfb831c0>"
      ]
     },
     "execution_count": 12,
     "metadata": {},
     "output_type": "execute_result"
    },
    {
     "data": {
      "image/png": "[encoded data removed]",
      "text/plain": [
       "<Figure size 432x288 with 1 Axes>"
      ]
     },
     "metadata": {
      "needs_background": "light"
     },
     "output_type": "display_data"
    }
   ],
   "source": [
    "plt.scatter(kernel_gdp_list, performance_list, color = 'red')\n",
    "plt.scatter(ray_result['kernel_gdp_list'], ray_result['performance_list'], color = 'blue')"
   ]
  },
  {
   "cell_type": "code",
   "execution_count": null,
   "metadata": {},
   "outputs": [],
   "source": [
    "(T):  10%|█         | 1/10 [02:56<26:26, 176.33s/it, loss=3.31, conditional_loss=3.31, debias_loss=0, adv_loss=0]{'loss': 3.3105884914128287, 'conditional_loss': 3.3105884914128287, 'debias_loss': 0.0, 'adv_loss': 0.0}\n",
    "(LR): 100%|██████████| 500/500 [00:04<00:00, best test F1Mi=0.722, F1Ma=0.627]\n",
    "performance:  0.6215321238170274\n",
    "hist gdp:  0.017824879999999987\n",
    "max gdp:  0.036591183832224816\n",
    "kernel gdp:  0.01747832\n",
    "(T):  20%|██        | 2/10 [06:49<27:58, 209.78s/it, loss=1.2, conditional_loss=1.2, debias_loss=0, adv_loss=0]  {'loss': 1.2037508939422152, 'conditional_loss': 1.2037508939422152, 'debias_loss': 0.0, 'adv_loss': 0.0}\n",
    "(LR): 100%|██████████| 500/500 [00:04<00:00, best test F1Mi=0.724, F1Ma=0.626]\n",
    "performance:  0.6197896351154141\n",
    "hist gdp:  0.003113199999999927\n",
    "max gdp:  0.006390824146164431\n",
    "kernel gdp:  0.0030526735\n",
    "(T):  30%|███       | 3/10 [10:41<25:40, 220.06s/it, loss=0.602, conditional_loss=0.602, debias_loss=0, adv_loss=0]{'loss': 0.6021230984596336, 'conditional_loss': 0.6021230984596336, 'debias_loss': 0.0, 'adv_loss': 0.0}\n",
    "(LR): 100%|██████████| 500/500 [00:04<00:00, best test F1Mi=0.723, F1Ma=0.629]\n",
    "performance:  0.6226530693897584\n",
    "hist gdp:  0.00046783999999994164\n",
    "max gdp:  0.0009603890429594752\n",
    "kernel gdp:  0.00045875457\n",
    "(T):  40%|████      | 4/10 [14:34<22:30, 225.06s/it, loss=0.365, conditional_loss=0.365, debias_loss=0, adv_loss=0]{'loss': 0.3646215566861554, 'conditional_loss': 0.3646215566861554, 'debias_loss': 0.0, 'adv_loss': 0.0}\n",
    "(LR): 100%|██████████| 500/500 [00:04<00:00, best test F1Mi=0.721, F1Ma=0.609]\n",
    "performance:  0.607438862026335\n",
    "hist gdp:  0.004117119999999974\n",
    "max gdp:  0.00845168633838378\n",
    "kernel gdp:  0.0040370813\n",
    "(T):  50%|█████     | 5/10 [18:28<19:01, 228.29s/it, loss=0.247, conditional_loss=0.247, debias_loss=0, adv_loss=0]{'loss': 0.24697424630698916, 'conditional_loss': 0.24697424630698916, 'debias_loss': 0.0, 'adv_loss': 0.0}\n",
    "(LR): 100%|██████████| 500/500 [00:04<00:00, best test F1Mi=0.726, F1Ma=0.64]\n",
    "performance:  0.6320688959634982\n",
    "hist gdp:  0.017640800000000012\n",
    "max gdp:  0.03621330161816033\n",
    "kernel gdp:  0.017297806\n",
    "(T):  60%|██████    | 6/10 [22:26<15:25, 231.41s/it, loss=0.195, conditional_loss=0.195, debias_loss=0, adv_loss=0]{'loss': 0.19505906526772482, 'conditional_loss': 0.19505906526772482, 'debias_loss': 0.0, 'adv_loss': 0.0}\n",
    "(LR): 100%|██████████| 500/500 [00:04<00:00, best test F1Mi=0.719, F1Ma=0.602]\n",
    "performance:  0.6024729446223019\n",
    "hist gdp:  0.021214320000000023\n",
    "max gdp:  0.04354907763730498\n",
    "kernel gdp:  0.020801848\n",
    "(T):  70%|███████   | 7/10 [26:19<11:36, 232.03s/it, loss=0.156, conditional_loss=0.156, debias_loss=0, adv_loss=0]{'loss': 0.15644739872816973, 'conditional_loss': 0.15644739872816973, 'debias_loss': 0.0, 'adv_loss': 0.0}\n",
    "(LR): 100%|██████████| 500/500 [00:04<00:00, best test F1Mi=0.719, F1Ma=0.596]\n",
    "performance:  0.5965043916591223\n",
    "hist gdp:  0.010264080000000002\n",
    "max gdp:  0.02107025899465595\n",
    "kernel gdp:  0.010064515\n",
    "(T):  80%|████████  | 8/10 [30:11<07:44, 232.18s/it, loss=0.141, conditional_loss=0.141, debias_loss=0, adv_loss=0]{'loss': 0.1410486141465745, 'conditional_loss': 0.1410486141465745, 'debias_loss': 0.0, 'adv_loss': 0.0}\n",
    "(LR): 100%|██████████| 500/500 [00:04<00:00, best test F1Mi=0.716, F1Ma=0.59]\n",
    "performance:  0.5926175157903203\n",
    "hist gdp:  0.013655040000000007\n",
    "max gdp:  0.0280312730787744\n",
    "kernel gdp:  0.013389545\n",
    "(T):  90%|█████████ | 9/10 [34:04<03:52, 232.49s/it, loss=0.122, conditional_loss=0.122, debias_loss=0, adv_loss=0]{'loss': 0.1224909244843249, 'conditional_loss': 0.1224909244843249, 'debias_loss': 0.0, 'adv_loss': 0.0}\n",
    "(LR): 100%|██████████| 500/500 [00:04<00:00, best test F1Mi=0.714, F1Ma=0.588]\n",
    "performance:  0.5909408460459336\n",
    "hist gdp:  0.027953040000000012\n",
    "max gdp:  0.057382424190767944\n",
    "kernel gdp:  0.027409546\n",
    "(T): 100%|██████████| 10/10 [37:59<00:00, 233.14s/it, loss=0.111, conditional_loss=0.111, debias_loss=0, adv_loss=0]{'loss': 0.11095712408892014, 'conditional_loss': 0.11095712408892014, 'debias_loss': 0.0, 'adv_loss': 0.0}\n",
    "(LR): 100%|██████████| 500/500 [00:04<00:00, best test F1Mi=0.715, F1Ma=0.588]\n",
    "performance:  0.5911484300807217\n",
    "hist gdp:  0.010051999999999998\n",
    "max gdp:  0.0206348979562008\n",
    "(T): 100%|██████████| 10/10 [38:56<00:00, 233.64s/it, loss=0.111, conditional_loss=0.111, debias_loss=0, adv_loss=0]kernel gdp:  0.0098565575"
   ]
  }
 ],
 "metadata": {
  "interpreter": {
   "hash": "54976a293a9bcbfaee28faa97ac3376d28e29c6227e3d729148e483d8b424bf4"
  },
  "kernelspec": {
   "display_name": "Python 3.9.12 ('graph2')",
   "language": "python",
   "name": "python3"
  },
  "language_info": {
   "codemirror_mode": {
    "name": "ipython",
    "version": 3
   },
   "file_extension": ".py",
   "mimetype": "text/x-python",
   "name": "python",
   "nbconvert_exporter": "python",
   "pygments_lexer": "ipython3",
   "version": "3.9.12"
  },
  "orig_nbformat": 4
 },
 "nbformat": 4,
 "nbformat_minor": 2
}
