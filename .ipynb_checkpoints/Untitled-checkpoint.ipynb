{
 "cells": [
  {
   "cell_type": "code",
   "execution_count": 1,
   "id": "81b03d23",
   "metadata": {},
   "outputs": [],
   "source": [
    "%load_ext autoreload\n",
    "%autoreload 2\n",
    "\n",
    "import torch \n",
    "import pickle\n",
    "from torch import nn\n",
    "import torch.nn.functional as F\n",
    "from torch.optim import Adam\n",
    "import numpy as np\n",
    "from torch.utils.data import Dataset, DataLoader\n",
    "from tqdm import tqdm\n",
    "import os\n",
    "os.environ[\"CUDA_DEVICE_ORDER\"]=\"PCI_BUS_ID\"   # see issue #152\n",
    "os.environ[\"CUDA_VISIBLE_DEVICES\"]=\"0\"\n",
    "\n",
    "\n",
    "device = 'cuda' if torch.cuda.is_available() else 'cpu'"
   ]
  },
  {
   "cell_type": "code",
   "execution_count": 2,
   "id": "c376252a",
   "metadata": {},
   "outputs": [],
   "source": [
    "import sys\n",
    "sys.path.append('./PyGCL')\n",
    "import GCL.losses as L\n",
    "from GCL.models import DualBranchContrast\n",
    "from GCL.eval import get_split, SVMEvaluator"
   ]
  },
  {
   "cell_type": "code",
   "execution_count": 3,
   "id": "37d40615",
   "metadata": {},
   "outputs": [],
   "source": [
    "with open('./datasets/adult/X_train', 'rb') as f:\n",
    "    X_train = pickle.load(f)\n",
    "    \n",
    "with open('./datasets/adult/y_train', 'rb') as f:\n",
    "    y_train = pickle.load(f)"
   ]
  },
  {
   "cell_type": "code",
   "execution_count": 4,
   "id": "6e1777a5",
   "metadata": {},
   "outputs": [],
   "source": [
    "# custom dataset\n",
    "\n",
    "class Adult(Dataset):\n",
    "    def __init__(self, file_path):\n",
    "        super(Adult, self).__init__()\n",
    "        with open(os.path.join(file_path, 'X_train'), 'rb') as f:\n",
    "            self.X_train = pickle.load(f)\n",
    "            self.X_train = np.array(X_train)\n",
    "        with open(os.path.join(file_path, 'y_train'), 'rb') as f:   \n",
    "            self.y_train = np.array(pickle.load(f))\n",
    "            \n",
    "    def __len__(self):\n",
    "        return self.X_train.shape[0]\n",
    "    \n",
    "    def __getitem__(self, idx):\n",
    "        return (torch.from_numpy(self.X_train[idx]), torch.tensor(self.y_train[idx]))\n",
    "    \n",
    "    def reset_data(self, X, y):\n",
    "        self.X_train = np.array(X)\n",
    "        self.y_train = np.array(y)\n",
    "        "
   ]
  },
  {
   "cell_type": "code",
   "execution_count": 5,
   "id": "6a4dd98b",
   "metadata": {},
   "outputs": [],
   "source": [
    "# from aug to embedd to project\n",
    "\n",
    "def make_conv(in_dim, out_dim):\n",
    "    return nn.Sequential(nn.Linear(in_dim, out_dim), nn.ReLU(), nn.Linear(out_dim, out_dim))\n",
    "\n",
    "# data augmented before feed in MLP\n",
    "class MLP(nn.Module):\n",
    "    def __init__(self, input_dim, hidden_dim):\n",
    "        super(MLP, self).__init__()\n",
    "        self.layers = nn.Sequential(\n",
    "            make_conv(input_dim, hidden_dim),\n",
    "            nn.BatchNorm1d(hidden_dim),\n",
    "            make_conv(hidden_dim, hidden_dim),\n",
    "            nn.BatchNorm1d(hidden_dim)\n",
    "        )\n",
    "        \n",
    "        \n",
    "        self.project_head = nn.Sequential(\n",
    "            nn.Linear(hidden_dim, hidden_dim),\n",
    "            nn.ReLU(inplace=True),\n",
    "            nn.Linear(hidden_dim, hidden_dim)\n",
    "        )\n",
    "        \n",
    "    def forward(self, x):\n",
    "        return self.layers(x)\n",
    "    \n",
    "    def project(self, z):\n",
    "        return self.project_head(z)\n",
    "        \n",
    "    def encode_project(self, x):\n",
    "        return self.project_head(self.layers(x))"
   ]
  },
  {
   "cell_type": "code",
   "execution_count": 6,
   "id": "142f4bbd",
   "metadata": {},
   "outputs": [],
   "source": [
    "# augment func\n",
    "def drop_feature(x: torch.Tensor, drop_prob: float) -> torch.Tensor:\n",
    "    return F.dropout(x, drop_prob) * (1 - drop_prob)\n",
    "\n",
    "class FeatureDrop(nn.Module):\n",
    "    def __init__(self, drop_prob):\n",
    "        super(FeatureDrop, self).__init__()\n",
    "        self.drop_prob = drop_prob\n",
    "    \n",
    "    def forward(self, x):\n",
    "        return drop_feature(x, self.drop_prob)\n",
    "    "
   ]
  },
  {
   "cell_type": "code",
   "execution_count": 7,
   "id": "58697778",
   "metadata": {},
   "outputs": [],
   "source": [
    "class Encoder(nn.Module):\n",
    "    def __init__(self, main_encoder, sub_encoder, augmentor):\n",
    "        super(Encoder, self).__init__()\n",
    "        self.main_encoder = main_encoder\n",
    "        self.sub_encoder = sub_encoder\n",
    "        self.augmentor = augmentor\n",
    "        \n",
    "    def forward(self, x):\n",
    "        x1 = self.augmentor(x)\n",
    "        x2 = self.augmentor(x)\n",
    "        g, g1, g2 = self.main_encoder.encode_project(x), self.main_encoder.encode_project(x1), self.main_encoder.encode_project(x2)\n",
    "        return (g, g1, g2)\n",
    "    \n",
    "    def sub_forward(self,u):       \n",
    "        return self.sub_encoder.encode_project(u)\n",
    "        \n",
    "        "
   ]
  },
  {
   "cell_type": "code",
   "execution_count": 8,
   "id": "05b04a0f",
   "metadata": {},
   "outputs": [],
   "source": [
    "def train(encoder_model, contrast_model, dataloader, optimizer, train=True, conditional=False, debias=False):\n",
    "    device = 'cuda' if torch.cuda.is_available() else 'cpu'\n",
    "    encoder_model.to(device)\n",
    "    encoder_model.train()\n",
    "    total_loss = 0.0\n",
    "    for batch_idx, data_batch in enumerate(dataloader):\n",
    "        #print('batch_idx: ', batch_idx)\n",
    "        data, label = data_batch\n",
    "        data = data.to(device)\n",
    "        optimizer.zero_grad()\n",
    "        g, g1, g2 = encoder_model(data)\n",
    "        \n",
    "        if not conditional:\n",
    "            \n",
    "            #optimizer.zero_grad()\n",
    "\n",
    "            #g, g1, g2 = encoder_model(data)\n",
    "            #print(g1.shape)\n",
    "            #print(g2.shape)\n",
    "\n",
    "            loss = contrast_model(g1=g1, g2=g2)\n",
    "        else:\n",
    "            \n",
    "            idx_0 = np.where(data[:, 40:41] == 0)[0]\n",
    "            idx_1 = np.where(data[:, 40:41] == 1)[0]\n",
    "            #data_0 = data[np.where(data[:, 40:41] == 0)[0]].to(device)\n",
    "            #data_0[:, 40:41] = 0 # remove sa\n",
    "            #data_1 = data[np.where(data[:, 40:41] == 1)[0]].to(device)\n",
    "            #data_1[:, 40:41] = 0 # remove sa\n",
    "            #print('data_0:', data_0.shape)\n",
    "            #print('data_1:', data_1.shape)\n",
    "            #ratio_0 = data_0.shape[0] / data.shape[0]\n",
    "            #ratio_1 = data_1.shape[0] / data.shape[0]\n",
    "            ratio_0 = len(idx_0) / (len(idx_0) + len(idx_1))\n",
    "            ratio_1 = 1 - ratio_0\n",
    "            \n",
    "            #optimizer.zero_grad()\n",
    "            #_, g1, g2 = encoder_model(data_0)\n",
    "            #loss = ratio_0 * contrast_model(g1=g1, g2=g2)\n",
    "            \n",
    "            #_, g1, g2 = encoder_model(data_1)\n",
    "            #loss += ratio_1 * contrast_model(g1=g1, g2=g2)\n",
    "            \n",
    "            #g, g1, g2 = encoder_model(data)\n",
    "            loss =  ratio_0 * contrast_model(g1=g1[idx_0], g2=g2[idx_0]) + ratio_1 * contrast_model(g1=g1[idx_1], g2=g2[idx_1])\n",
    "            \n",
    "        if debias:\n",
    "            beta = 20.0\n",
    "            #fair_sim = torch.exp(L.infonce._similarity(g,g) * beta)\n",
    "            fair_sim = torch.sigmoid((L.infonce._similarity(g,g)-0.2) * beta)\n",
    "            \n",
    "            \n",
    "            num_nodes = data.size(0)\n",
    "            pos_mask = torch.eye(num_nodes, dtype=torch.float32, device=device)\n",
    "            neg_mask = 1. - pos_mask\n",
    "            pos_mask *= fair_sim\n",
    "            neg_mask *= fair_sim\n",
    "            pos_col = torch.sum(pos_mask, dim=1, keepdim = True)\n",
    "            extra_pos_mask = pos_mask/pos_col\n",
    "            extra_neg_mask = neg_mask/pos_col\n",
    "            #print(extra_pos_mask,extra_neg_mask)\n",
    "        \n",
    "            u = encoder_model.sub_forward(data[:, 40:41])\n",
    "            debias_loss = contrast_model(g1 = g, g2 = u, extra_pos_mask = extra_pos_mask, extra_neg_mask = extra_neg_mask)\n",
    "            debias_loss.backward()\n",
    "            print('debias loss\\n', debias_loss)\n",
    "            \n",
    "            \n",
    "        #print(loss)\n",
    "        loss.backward()\n",
    "        optimizer.step()\n",
    "        \n",
    "        total_loss += loss.item()\n",
    "    return total_loss\n",
    "        \n",
    "        "
   ]
  },
  {
   "cell_type": "code",
   "execution_count": 9,
   "id": "91a8a117",
   "metadata": {},
   "outputs": [
    {
     "data": {
      "text/plain": [
       "tensor(0., device='cuda:0')"
      ]
     },
     "execution_count": 9,
     "metadata": {},
     "output_type": "execute_result"
    }
   ],
   "source": [
    "torch.tensor(0.0).to(device)"
   ]
  },
  {
   "cell_type": "markdown",
   "id": "f8e2b3bf",
   "metadata": {},
   "source": [
    "max I(x,z|u) # u: gender"
   ]
  },
  {
   "cell_type": "code",
   "execution_count": 10,
   "id": "6d824d0d",
   "metadata": {},
   "outputs": [],
   "source": [
    "#evaluator = None\n",
    "def test(encoder_model, dataloader, evaluator=None):\n",
    "    encoder_model.eval()\n",
    "    x = []\n",
    "    y = []\n",
    "    for data_batch in dataloader:\n",
    "        data, label = data_batch\n",
    "        data = data.to(device)\n",
    "        label = label.to(device)\n",
    "        g = encoder_model.encoder(data)\n",
    "        x.append(g)\n",
    "        y.append(label)\n",
    "    x = torch.cat(x, dim=0)\n",
    "    y = torch.cat(y, dim=0)\n",
    "    print(x.shape)\n",
    "    print(y.shape)\n",
    "    split = get_split(num_samples=x.size()[0], train_ratio=0.8, test_ratio=0.1)\n",
    "    evaluator = SVMEvaluator(linear=True) if evaluator is None else evaluator\n",
    "    result = evaluator(x, y, split)\n",
    "    \n",
    "    return result, evaluator"
   ]
  },
  {
   "cell_type": "code",
   "execution_count": 11,
   "id": "c23a442e",
   "metadata": {},
   "outputs": [],
   "source": [
    "def pr(predictions):\n",
    "    return sum(predictions)/len(predictions) "
   ]
  },
  {
   "cell_type": "code",
   "execution_count": 12,
   "id": "c672b5d2",
   "metadata": {},
   "outputs": [],
   "source": [
    "import torch.nn.functional as F\n",
    "import torch\n",
    "def sng_dis(Z):\n",
    "    h = F.normalize(Z)\n",
    "    return torch.sum(torch.exp(h@h.T) * (1 - torch.eye(h.size(0), dtype=torch.float32, device=h.device)))/(h.size(0)*(h.size(0)-1))\n",
    "\n",
    "def dua_dis(z1, z2):\n",
    "    return torch.mean(torch.exp(F.normalize(z1) @ F.normalize(z2).T))\n",
    "\n",
    "def dis_dist(Z, n):\n",
    "    h = F.normalize(Z)\n",
    "    anchor = h[n,:]\n",
    "    dis = h @ anchor\n",
    "    return dis\n",
    "    \n",
    "    "
   ]
  },
  {
   "cell_type": "code",
   "execution_count": 13,
   "id": "ba9428e3",
   "metadata": {},
   "outputs": [],
   "source": [
    "dataset_adult = Adult('./datasets/adult')\n",
    "dataloader = DataLoader(dataset_adult, batch_size=2048*6, shuffle=True, num_workers=4)#2048*6"
   ]
  },
  {
   "cell_type": "code",
   "execution_count": 14,
   "id": "5c203ef2",
   "metadata": {},
   "outputs": [],
   "source": [
    "mlp_adult = MLP(57, 120)\n",
    "mlp_sens = MLP(1, 120)\n",
    "aug = FeatureDrop(drop_prob=0.2)\n",
    "encoder_model = Encoder(main_encoder = mlp_adult, sub_encoder = mlp_sens, augmentor = aug)"
   ]
  },
  {
   "cell_type": "code",
   "execution_count": 15,
   "id": "b3e07f33",
   "metadata": {},
   "outputs": [],
   "source": [
    "contrast_model = DualBranchContrast(loss=L.InfoNCE(tau=0.1), mode='G2G').to(device)\n",
    "optim = Adam(encoder_model.parameters(), lr=0.005)"
   ]
  },
  {
   "cell_type": "code",
   "execution_count": 16,
   "id": "7ebb0d16",
   "metadata": {
    "scrolled": true
   },
   "outputs": [
    {
     "name": "stderr",
     "output_type": "stream",
     "text": [
      "(T): 100%|██████████| 100/100 [01:28<00:00,  1.13it/s, loss=7.81]\n"
     ]
    }
   ],
   "source": [
    "epoch = 100\n",
    "with tqdm(total=epoch, desc='(T)') as pbar:\n",
    "    for epoch in range(1, epoch+1):\n",
    "        loss = train(encoder_model = encoder_model, contrast_model=contrast_model, dataloader=dataloader, optimizer = optim, debias=False)\n",
    "        pbar.set_postfix({'loss': loss})\n",
    "        pbar.update()"
   ]
  },
  {
   "cell_type": "code",
   "execution_count": 17,
   "id": "74d4434f",
   "metadata": {
    "scrolled": true
   },
   "outputs": [
    {
     "name": "stderr",
     "output_type": "stream",
     "text": [
      "\r",
      "(T):   0%|          | 0/10 [00:00<?, ?it/s]"
     ]
    },
    {
     "name": "stdout",
     "output_type": "stream",
     "text": [
      "debias loss\n",
      " tensor(8.0451, device='cuda:0', grad_fn=<MulBackward0>)\n",
      "debias loss\n",
      " tensor(7.3280, device='cuda:0', grad_fn=<MulBackward0>)\n"
     ]
    },
    {
     "name": "stderr",
     "output_type": "stream",
     "text": [
      "(T):  10%|█         | 1/10 [00:01<00:14,  1.63s/it, loss=7.93]"
     ]
    },
    {
     "name": "stdout",
     "output_type": "stream",
     "text": [
      "debias loss\n",
      " tensor(7.4032, device='cuda:0', grad_fn=<MulBackward0>)\n",
      "debias loss\n",
      " tensor(7.0320, device='cuda:0', grad_fn=<MulBackward0>)\n"
     ]
    },
    {
     "name": "stderr",
     "output_type": "stream",
     "text": [
      "(T):  20%|██        | 2/10 [00:02<00:10,  1.34s/it, loss=7.9] "
     ]
    },
    {
     "name": "stdout",
     "output_type": "stream",
     "text": [
      "debias loss\n",
      " tensor(7.2471, device='cuda:0', grad_fn=<MulBackward0>)\n",
      "debias loss\n",
      " tensor(6.9469, device='cuda:0', grad_fn=<MulBackward0>)\n"
     ]
    },
    {
     "name": "stderr",
     "output_type": "stream",
     "text": [
      "(T):  30%|███       | 3/10 [00:03<00:08,  1.23s/it, loss=7.9]"
     ]
    },
    {
     "name": "stdout",
     "output_type": "stream",
     "text": [
      "debias loss\n",
      " tensor(7.1553, device='cuda:0', grad_fn=<MulBackward0>)\n",
      "debias loss\n",
      " tensor(6.8422, device='cuda:0', grad_fn=<MulBackward0>)\n"
     ]
    },
    {
     "name": "stderr",
     "output_type": "stream",
     "text": [
      "(T):  40%|████      | 4/10 [00:05<00:07,  1.22s/it, loss=7.87]"
     ]
    },
    {
     "name": "stdout",
     "output_type": "stream",
     "text": [
      "debias loss\n",
      " tensor(7.0903, device='cuda:0', grad_fn=<MulBackward0>)\n",
      "debias loss\n",
      " tensor(6.8055, device='cuda:0', grad_fn=<MulBackward0>)\n"
     ]
    },
    {
     "name": "stderr",
     "output_type": "stream",
     "text": [
      "(T):  50%|█████     | 5/10 [00:06<00:05,  1.20s/it, loss=7.89]"
     ]
    },
    {
     "name": "stdout",
     "output_type": "stream",
     "text": [
      "debias loss\n",
      " tensor(7.0574, device='cuda:0', grad_fn=<MulBackward0>)\n",
      "debias loss\n",
      " tensor(6.7737, device='cuda:0', grad_fn=<MulBackward0>)\n"
     ]
    },
    {
     "name": "stderr",
     "output_type": "stream",
     "text": [
      "(T):  60%|██████    | 6/10 [00:07<00:04,  1.21s/it, loss=7.87]"
     ]
    },
    {
     "name": "stdout",
     "output_type": "stream",
     "text": [
      "debias loss\n",
      " tensor(7.0358, device='cuda:0', grad_fn=<MulBackward0>)\n",
      "debias loss\n",
      " tensor(6.7691, device='cuda:0', grad_fn=<MulBackward0>)\n"
     ]
    },
    {
     "name": "stderr",
     "output_type": "stream",
     "text": [
      "(T):  70%|███████   | 7/10 [00:08<00:03,  1.22s/it, loss=7.9] "
     ]
    },
    {
     "name": "stdout",
     "output_type": "stream",
     "text": [
      "debias loss\n",
      " tensor(7.0185, device='cuda:0', grad_fn=<MulBackward0>)\n",
      "debias loss\n",
      " tensor(6.7384, device='cuda:0', grad_fn=<MulBackward0>)\n"
     ]
    },
    {
     "name": "stderr",
     "output_type": "stream",
     "text": [
      "(T):  80%|████████  | 8/10 [00:09<00:02,  1.22s/it, loss=7.89]"
     ]
    },
    {
     "name": "stdout",
     "output_type": "stream",
     "text": [
      "debias loss\n",
      " tensor(6.9984, device='cuda:0', grad_fn=<MulBackward0>)\n",
      "debias loss\n",
      " tensor(6.7279, device='cuda:0', grad_fn=<MulBackward0>)\n"
     ]
    },
    {
     "name": "stderr",
     "output_type": "stream",
     "text": [
      "(T):  90%|█████████ | 9/10 [00:11<00:01,  1.20s/it, loss=7.85]"
     ]
    },
    {
     "name": "stdout",
     "output_type": "stream",
     "text": [
      "debias loss\n",
      " tensor(6.9871, device='cuda:0', grad_fn=<MulBackward0>)\n",
      "debias loss\n",
      " tensor(6.7163, device='cuda:0', grad_fn=<MulBackward0>)\n"
     ]
    },
    {
     "name": "stderr",
     "output_type": "stream",
     "text": [
      "(T): 100%|██████████| 10/10 [00:12<00:00,  1.22s/it, loss=7.82]\n"
     ]
    }
   ],
   "source": [
    "epoch = 10\n",
    "optim = Adam(encoder_model.parameters(), lr=0.001)\n",
    "with tqdm(total=epoch, desc='(T)') as pbar:\n",
    "    for epoch in range(1, epoch+1):\n",
    "        loss = train(encoder_model = encoder_model, contrast_model=contrast_model, dataloader=dataloader, optimizer = optim, debias=True)\n",
    "        pbar.set_postfix({'loss': loss})\n",
    "        pbar.update()"
   ]
  },
  {
   "cell_type": "code",
   "execution_count": 62,
   "id": "21a8964a",
   "metadata": {},
   "outputs": [
    {
     "ename": "ModuleAttributeError",
     "evalue": "'Encoder' object has no attribute 'encoder'",
     "output_type": "error",
     "traceback": [
      "\u001b[0;31m-------------------------------------\u001b[0m",
      "\u001b[0;31mModuleAttributeError\u001b[0mTraceback (most recent call last)",
      "\u001b[0;32m<ipython-input-62-bee1c21a69d5>\u001b[0m in \u001b[0;36m<module>\u001b[0;34m\u001b[0m\n\u001b[0;32m----> 1\u001b[0;31m \u001b[0mtest_result\u001b[0m\u001b[0;34m,\u001b[0m \u001b[0mtest_evaluator\u001b[0m \u001b[0;34m=\u001b[0m \u001b[0mtest\u001b[0m\u001b[0;34m(\u001b[0m\u001b[0mencoder_model\u001b[0m\u001b[0;34m,\u001b[0m \u001b[0mdataloader\u001b[0m\u001b[0;34m)\u001b[0m\u001b[0;34m\u001b[0m\u001b[0;34m\u001b[0m\u001b[0m\n\u001b[0m\u001b[1;32m      2\u001b[0m \u001b[0mprint\u001b[0m\u001b[0;34m(\u001b[0m\u001b[0;34mf'(E): Best test F1Mi={test_result[\"micro_f1\"]:.4f}, F1Ma={test_result[\"macro_f1\"]:.4f} Acc={test_result[\"acc\"]:.4f}'\u001b[0m\u001b[0;34m)\u001b[0m\u001b[0;34m\u001b[0m\u001b[0;34m\u001b[0m\u001b[0m\n",
      "\u001b[0;32m<ipython-input-55-06238939d9d9>\u001b[0m in \u001b[0;36mtest\u001b[0;34m(encoder_model, dataloader, evaluator)\u001b[0m\n\u001b[1;32m      8\u001b[0m         \u001b[0mdata\u001b[0m \u001b[0;34m=\u001b[0m \u001b[0mdata\u001b[0m\u001b[0;34m.\u001b[0m\u001b[0mto\u001b[0m\u001b[0;34m(\u001b[0m\u001b[0mdevice\u001b[0m\u001b[0;34m)\u001b[0m\u001b[0;34m\u001b[0m\u001b[0;34m\u001b[0m\u001b[0m\n\u001b[1;32m      9\u001b[0m         \u001b[0mlabel\u001b[0m \u001b[0;34m=\u001b[0m \u001b[0mlabel\u001b[0m\u001b[0;34m.\u001b[0m\u001b[0mto\u001b[0m\u001b[0;34m(\u001b[0m\u001b[0mdevice\u001b[0m\u001b[0;34m)\u001b[0m\u001b[0;34m\u001b[0m\u001b[0;34m\u001b[0m\u001b[0m\n\u001b[0;32m---> 10\u001b[0;31m         \u001b[0mg\u001b[0m \u001b[0;34m=\u001b[0m \u001b[0mencoder_model\u001b[0m\u001b[0;34m.\u001b[0m\u001b[0mencoder\u001b[0m\u001b[0;34m(\u001b[0m\u001b[0mdata\u001b[0m\u001b[0;34m)\u001b[0m\u001b[0;34m\u001b[0m\u001b[0;34m\u001b[0m\u001b[0m\n\u001b[0m\u001b[1;32m     11\u001b[0m         \u001b[0mx\u001b[0m\u001b[0;34m.\u001b[0m\u001b[0mappend\u001b[0m\u001b[0;34m(\u001b[0m\u001b[0mg\u001b[0m\u001b[0;34m)\u001b[0m\u001b[0;34m\u001b[0m\u001b[0;34m\u001b[0m\u001b[0m\n\u001b[1;32m     12\u001b[0m         \u001b[0my\u001b[0m\u001b[0;34m.\u001b[0m\u001b[0mappend\u001b[0m\u001b[0;34m(\u001b[0m\u001b[0mlabel\u001b[0m\u001b[0;34m)\u001b[0m\u001b[0;34m\u001b[0m\u001b[0;34m\u001b[0m\u001b[0m\n",
      "\u001b[0;32m~/anaconda3/envs/graph/lib/python3.7/site-packages/torch/nn/modules/module.py\u001b[0m in \u001b[0;36m__getattr__\u001b[0;34m(self, name)\u001b[0m\n\u001b[1;32m    777\u001b[0m                 \u001b[0;32mreturn\u001b[0m \u001b[0mmodules\u001b[0m\u001b[0;34m[\u001b[0m\u001b[0mname\u001b[0m\u001b[0;34m]\u001b[0m\u001b[0;34m\u001b[0m\u001b[0;34m\u001b[0m\u001b[0m\n\u001b[1;32m    778\u001b[0m         raise ModuleAttributeError(\"'{}' object has no attribute '{}'\".format(\n\u001b[0;32m--> 779\u001b[0;31m             type(self).__name__, name))\n\u001b[0m\u001b[1;32m    780\u001b[0m \u001b[0;34m\u001b[0m\u001b[0m\n\u001b[1;32m    781\u001b[0m     \u001b[0;32mdef\u001b[0m \u001b[0m__setattr__\u001b[0m\u001b[0;34m(\u001b[0m\u001b[0mself\u001b[0m\u001b[0;34m,\u001b[0m \u001b[0mname\u001b[0m\u001b[0;34m:\u001b[0m \u001b[0mstr\u001b[0m\u001b[0;34m,\u001b[0m \u001b[0mvalue\u001b[0m\u001b[0;34m:\u001b[0m \u001b[0mUnion\u001b[0m\u001b[0;34m[\u001b[0m\u001b[0mTensor\u001b[0m\u001b[0;34m,\u001b[0m \u001b[0;34m'Module'\u001b[0m\u001b[0;34m]\u001b[0m\u001b[0;34m)\u001b[0m \u001b[0;34m->\u001b[0m \u001b[0;32mNone\u001b[0m\u001b[0;34m:\u001b[0m\u001b[0;34m\u001b[0m\u001b[0;34m\u001b[0m\u001b[0m\n",
      "\u001b[0;31mModuleAttributeError\u001b[0m: 'Encoder' object has no attribute 'encoder'"
     ]
    }
   ],
   "source": [
    "test_result, test_evaluator = test(encoder_model, dataloader)\n",
    "print(f'(E): Best test F1Mi={test_result[\"micro_f1\"]:.4f}, F1Ma={test_result[\"macro_f1\"]:.4f} Acc={test_result[\"acc\"]:.4f}')"
   ]
  },
  {
   "cell_type": "code",
   "execution_count": 17,
   "id": "fb2707bd",
   "metadata": {
    "collapsed": true
   },
   "outputs": [
    {
     "ename": "NameError",
     "evalue": "name 'test_result' is not defined",
     "output_type": "error",
     "traceback": [
      "\u001b[0;31m------------\u001b[0m",
      "\u001b[0;31mNameError\u001b[0mTraceback (most recent call last)",
      "\u001b[0;32m<ipython-input-17-d29cf9959caf>\u001b[0m in \u001b[0;36m<module>\u001b[0;34m\u001b[0m\n\u001b[0;32m----> 1\u001b[0;31m \u001b[0mpr\u001b[0m\u001b[0;34m(\u001b[0m\u001b[0mtest_result\u001b[0m\u001b[0;34m[\u001b[0m\u001b[0;34m'predictions'\u001b[0m\u001b[0;34m]\u001b[0m\u001b[0;34m)\u001b[0m\u001b[0;34m\u001b[0m\u001b[0;34m\u001b[0m\u001b[0m\n\u001b[0m",
      "\u001b[0;31mNameError\u001b[0m: name 'test_result' is not defined"
     ]
    }
   ],
   "source": [
    "pr(test_result['predictions'])"
   ]
  },
  {
   "cell_type": "code",
   "execution_count": 18,
   "id": "8cfd2287",
   "metadata": {
    "scrolled": true
   },
   "outputs": [],
   "source": [
    "from sklearn.manifold import TSNE\n",
    "from matplotlib import pyplot as plt\n",
    "\n",
    "dataset_adult = Adult('./datasets/adult')\n",
    "X, y = dataset_adult[:]\n",
    "gender = X[:, 40:41].T\n",
    "gender = gender.reshape(-1).clone().detach()\n",
    "#X[:, 40:41] = 1\n",
    "encoder_model.to('cpu')\n",
    "Z = encoder_model.main_encoder.encode_project(X.to('cpu'))\n",
    "#Z_emb = TSNE(n_components=2).fit_transform(X)\n",
    "#plt.figure(figsize=(6, 5))\n",
    "#colors = ['r','g']\n",
    "#for i in range(2):\n",
    "#    plt.scatter(Z_emb[gender==i, 0], Z_emb[gender==i, 1], c=colors[i])"
   ]
  },
  {
   "cell_type": "code",
   "execution_count": 24,
   "id": "a2de45c7",
   "metadata": {},
   "outputs": [
    {
     "data": {
      "text/plain": [
       "tensor(1.0164, grad_fn=<DivBackward0>)"
      ]
     },
     "execution_count": 24,
     "metadata": {},
     "output_type": "execute_result"
    }
   ],
   "source": [
    "sng_dis(Z)"
   ]
  },
  {
   "cell_type": "markdown",
   "id": "7d612cbf",
   "metadata": {},
   "source": [
    "## Male"
   ]
  },
  {
   "cell_type": "code",
   "execution_count": 25,
   "id": "4b8d8412",
   "metadata": {},
   "outputs": [],
   "source": [
    "gender_idx = np.where(X_train[:, 40:41] == 0)[0]\n",
    "dataset_adult.reset_data(X=X_train[gender_idx], y=y_train[gender_idx])\n",
    "\n",
    "dataloader = DataLoader(dataset_adult, batch_size=2048*6, shuffle=True, num_workers=4)"
   ]
  },
  {
   "cell_type": "code",
   "execution_count": 21,
   "id": "7380e66c",
   "metadata": {
    "scrolled": true
   },
   "outputs": [
    {
     "ename": "NameError",
     "evalue": "name 'test_evaluator' is not defined",
     "output_type": "error",
     "traceback": [
      "\u001b[0;31m-----------------------------------------\u001b[0m",
      "\u001b[0;31mNameError\u001b[0mTraceback (most recent call last)",
      "\u001b[0;32m<ipython-input-21-84500bd6da29>\u001b[0m in \u001b[0;36m<module>\u001b[0;34m\u001b[0m\n\u001b[1;32m      1\u001b[0m \u001b[0mencoder_model\u001b[0m\u001b[0;34m.\u001b[0m\u001b[0mto\u001b[0m\u001b[0;34m(\u001b[0m\u001b[0;34m'cuda'\u001b[0m\u001b[0;34m)\u001b[0m\u001b[0;34m\u001b[0m\u001b[0;34m\u001b[0m\u001b[0m\n\u001b[0;32m----> 2\u001b[0;31m \u001b[0mtest_result\u001b[0m\u001b[0;34m,\u001b[0m \u001b[0m_\u001b[0m \u001b[0;34m=\u001b[0m \u001b[0mtest\u001b[0m\u001b[0;34m(\u001b[0m\u001b[0mencoder_model\u001b[0m\u001b[0;34m,\u001b[0m \u001b[0mdataloader\u001b[0m\u001b[0;34m,\u001b[0m \u001b[0mevaluator\u001b[0m\u001b[0;34m=\u001b[0m\u001b[0mtest_evaluator\u001b[0m\u001b[0;34m)\u001b[0m\u001b[0;34m\u001b[0m\u001b[0;34m\u001b[0m\u001b[0m\n\u001b[0m\u001b[1;32m      3\u001b[0m \u001b[0mprint\u001b[0m\u001b[0;34m(\u001b[0m\u001b[0;34mf'(E): Best test F1Mi={test_result[\"micro_f1\"]:.4f}, F1Ma={test_result[\"macro_f1\"]:.4f} Acc={test_result[\"acc\"]:.4f}'\u001b[0m\u001b[0;34m)\u001b[0m\u001b[0;34m\u001b[0m\u001b[0;34m\u001b[0m\u001b[0m\n",
      "\u001b[0;31mNameError\u001b[0m: name 'test_evaluator' is not defined"
     ]
    }
   ],
   "source": [
    "encoder_model.to('cuda')\n",
    "test_result, _ = test(encoder_model, dataloader, evaluator=test_evaluator)\n",
    "print(f'(E): Best test F1Mi={test_result[\"micro_f1\"]:.4f}, F1Ma={test_result[\"macro_f1\"]:.4f} Acc={test_result[\"acc\"]:.4f}')"
   ]
  },
  {
   "cell_type": "code",
   "execution_count": 26,
   "id": "0c22ee50",
   "metadata": {},
   "outputs": [
    {
     "ename": "NameError",
     "evalue": "name 'test_result' is not defined",
     "output_type": "error",
     "traceback": [
      "\u001b[0;31m-----------------------------------------\u001b[0m",
      "\u001b[0;31mNameError\u001b[0mTraceback (most recent call last)",
      "\u001b[0;32m<ipython-input-26-d29cf9959caf>\u001b[0m in \u001b[0;36m<module>\u001b[0;34m\u001b[0m\n\u001b[0;32m----> 1\u001b[0;31m \u001b[0mpr\u001b[0m\u001b[0;34m(\u001b[0m\u001b[0mtest_result\u001b[0m\u001b[0;34m[\u001b[0m\u001b[0;34m'predictions'\u001b[0m\u001b[0;34m]\u001b[0m\u001b[0;34m)\u001b[0m\u001b[0;34m\u001b[0m\u001b[0;34m\u001b[0m\u001b[0m\n\u001b[0m",
      "\u001b[0;31mNameError\u001b[0m: name 'test_result' is not defined"
     ]
    }
   ],
   "source": [
    "pr(test_result['predictions'])"
   ]
  },
  {
   "cell_type": "code",
   "execution_count": 27,
   "id": "875d67bb",
   "metadata": {},
   "outputs": [],
   "source": [
    "male_X, male_y = dataset_adult[:]\n",
    "encoder_model.to('cpu')\n",
    "male_Z = encoder_model.main_encoder.encode_project(male_X.to('cpu'))"
   ]
  },
  {
   "cell_type": "code",
   "execution_count": 28,
   "id": "268122f0",
   "metadata": {
    "scrolled": true
   },
   "outputs": [
    {
     "data": {
      "text/plain": [
       "tensor(1.0398, grad_fn=<DivBackward0>)"
      ]
     },
     "execution_count": 28,
     "metadata": {},
     "output_type": "execute_result"
    }
   ],
   "source": [
    "sng_dis(male_Z)"
   ]
  },
  {
   "cell_type": "markdown",
   "id": "4d9b91c2",
   "metadata": {},
   "source": [
    "## Female"
   ]
  },
  {
   "cell_type": "code",
   "execution_count": 29,
   "id": "f416c7c0",
   "metadata": {},
   "outputs": [],
   "source": [
    "gender_idx = np.where(X_train[:, 40:41] == 1)[0]\n",
    "dataset_adult.reset_data(X=X_train[gender_idx], y=y_train[gender_idx])\n",
    "dataloader = DataLoader(dataset_adult, batch_size=2048*6, shuffle=True, num_workers=4)"
   ]
  },
  {
   "cell_type": "code",
   "execution_count": 47,
   "id": "e35511f6",
   "metadata": {},
   "outputs": [
    {
     "ename": "NameError",
     "evalue": "name 'test_evaluator' is not defined",
     "output_type": "error",
     "traceback": [
      "\u001b[0;31m-----------------------------------------\u001b[0m",
      "\u001b[0;31mNameError\u001b[0mTraceback (most recent call last)",
      "\u001b[0;32m<ipython-input-47-1146e5156bc8>\u001b[0m in \u001b[0;36m<module>\u001b[0;34m\u001b[0m\n\u001b[0;32m----> 1\u001b[0;31m \u001b[0mtest_result\u001b[0m\u001b[0;34m,\u001b[0m\u001b[0m_\u001b[0m \u001b[0;34m=\u001b[0m \u001b[0mtest\u001b[0m\u001b[0;34m(\u001b[0m\u001b[0mencoder_model\u001b[0m\u001b[0;34m,\u001b[0m \u001b[0mdataloader\u001b[0m\u001b[0;34m,\u001b[0m \u001b[0mevaluator\u001b[0m\u001b[0;34m=\u001b[0m\u001b[0mtest_evaluator\u001b[0m\u001b[0;34m)\u001b[0m\u001b[0;34m\u001b[0m\u001b[0;34m\u001b[0m\u001b[0m\n\u001b[0m\u001b[1;32m      2\u001b[0m \u001b[0mprint\u001b[0m\u001b[0;34m(\u001b[0m\u001b[0;34mf'(E): Best test F1Mi={test_result[\"micro_f1\"]:.4f}, F1Ma={test_result[\"macro_f1\"]:.4f} Acc={test_result[\"acc\"]:.4f}'\u001b[0m\u001b[0;34m)\u001b[0m\u001b[0;34m\u001b[0m\u001b[0;34m\u001b[0m\u001b[0m\n",
      "\u001b[0;31mNameError\u001b[0m: name 'test_evaluator' is not defined"
     ]
    }
   ],
   "source": [
    "test_result,_ = test(encoder_model, dataloader, evaluator=test_evaluator)\n",
    "print(f'(E): Best test F1Mi={test_result[\"micro_f1\"]:.4f}, F1Ma={test_result[\"macro_f1\"]:.4f} Acc={test_result[\"acc\"]:.4f}')"
   ]
  },
  {
   "cell_type": "code",
   "execution_count": 48,
   "id": "b60d4208",
   "metadata": {},
   "outputs": [
    {
     "ename": "NameError",
     "evalue": "name 'test_result' is not defined",
     "output_type": "error",
     "traceback": [
      "\u001b[0;31m-----------------------------------------\u001b[0m",
      "\u001b[0;31mNameError\u001b[0mTraceback (most recent call last)",
      "\u001b[0;32m<ipython-input-48-d29cf9959caf>\u001b[0m in \u001b[0;36m<module>\u001b[0;34m\u001b[0m\n\u001b[0;32m----> 1\u001b[0;31m \u001b[0mpr\u001b[0m\u001b[0;34m(\u001b[0m\u001b[0mtest_result\u001b[0m\u001b[0;34m[\u001b[0m\u001b[0;34m'predictions'\u001b[0m\u001b[0;34m]\u001b[0m\u001b[0;34m)\u001b[0m\u001b[0;34m\u001b[0m\u001b[0;34m\u001b[0m\u001b[0m\n\u001b[0m",
      "\u001b[0;31mNameError\u001b[0m: name 'test_result' is not defined"
     ]
    }
   ],
   "source": [
    "pr(test_result['predictions'])"
   ]
  },
  {
   "cell_type": "code",
   "execution_count": 30,
   "id": "ba65aa7c",
   "metadata": {},
   "outputs": [],
   "source": [
    "female_X, male_y = dataset_adult[:]\n",
    "female_Z = encoder_model.main_encoder.encode_project(female_X.to('cpu'))"
   ]
  },
  {
   "cell_type": "code",
   "execution_count": 31,
   "id": "45585e26",
   "metadata": {},
   "outputs": [
    {
     "data": {
      "text/plain": [
       "tensor(1.0477, grad_fn=<DivBackward0>)"
      ]
     },
     "execution_count": 31,
     "metadata": {},
     "output_type": "execute_result"
    }
   ],
   "source": [
    "sng_dis(female_Z)"
   ]
  },
  {
   "cell_type": "code",
   "execution_count": 32,
   "id": "1c3daa15",
   "metadata": {},
   "outputs": [
    {
     "data": {
      "text/plain": [
       "tensor(1.0303, grad_fn=<MeanBackward0>)"
      ]
     },
     "execution_count": 32,
     "metadata": {},
     "output_type": "execute_result"
    }
   ],
   "source": [
    "dua_dis(male_Z, female_Z)#1.0254"
   ]
  },
  {
   "cell_type": "markdown",
   "id": "4052273d",
   "metadata": {},
   "source": [
    "# conditional"
   ]
  },
  {
   "cell_type": "code",
   "execution_count": 47,
   "id": "077a5da8",
   "metadata": {},
   "outputs": [],
   "source": [
    "dataset_adult = Adult('./datasets/adult')\n",
    "dataloader = DataLoader(dataset_adult, batch_size=2048*6, shuffle=True, num_workers=1)"
   ]
  },
  {
   "cell_type": "code",
   "execution_count": 48,
   "id": "200dc7f4",
   "metadata": {},
   "outputs": [
    {
     "data": {
      "text/plain": [
       "tensor([7189.])"
      ]
     },
     "execution_count": 48,
     "metadata": {},
     "output_type": "execute_result"
    }
   ],
   "source": [
    "sum(dataset_adult[:][0][:, 40:41])"
   ]
  },
  {
   "cell_type": "code",
   "execution_count": 49,
   "id": "f3145910",
   "metadata": {},
   "outputs": [],
   "source": [
    "mlp_adult = MLP(57, 120)\n",
    "aug = FeatureDrop(drop_prob=0.2)\n",
    "encoder_model = Encoder(encoder = mlp_adult, augmentor = aug)"
   ]
  },
  {
   "cell_type": "code",
   "execution_count": 50,
   "id": "f809d4b2",
   "metadata": {},
   "outputs": [],
   "source": [
    "contrast_model = DualBranchContrast(loss=L.InfoNCE(tau=0.1), mode='G2G').to(device)\n",
    "optim = Adam(encoder_model.parameters(), lr=0.01)"
   ]
  },
  {
   "cell_type": "code",
   "execution_count": 51,
   "id": "ca14ee6f",
   "metadata": {},
   "outputs": [
    {
     "name": "stderr",
     "output_type": "stream",
     "text": [
      "(T): 100%|██████████| 200/200 [04:09<00:00,  1.25s/it, loss=6.73]\n"
     ]
    }
   ],
   "source": [
    "epoch = 200\n",
    "with tqdm(total=epoch, desc='(T)') as pbar:\n",
    "    for epoch in range(1, epoch+1):\n",
    "        loss = train(encoder_model = encoder_model, contrast_model=contrast_model, dataloader=dataloader, optimizer = optim, conditional=True)\n",
    "        pbar.set_postfix({'loss': loss})\n",
    "        pbar.update()"
   ]
  },
  {
   "cell_type": "code",
   "execution_count": 52,
   "id": "ed9052a9",
   "metadata": {
    "scrolled": true
   },
   "outputs": [
    {
     "name": "stdout",
     "output_type": "stream",
     "text": [
      "torch.Size([21707, 120])\n",
      "torch.Size([21707])\n",
      "fit new classifier...\n"
     ]
    },
    {
     "name": "stderr",
     "output_type": "stream",
     "text": [
      "/home/grads/q/qf31/anaconda3/envs/graph/lib/python3.7/site-packages/sklearn/svm/_base.py:986: ConvergenceWarning: Liblinear failed to converge, increase the number of iterations.\n",
      "  \"the number of iterations.\", ConvergenceWarning)\n",
      "/home/grads/q/qf31/anaconda3/envs/graph/lib/python3.7/site-packages/sklearn/svm/_base.py:986: ConvergenceWarning: Liblinear failed to converge, increase the number of iterations.\n",
      "  \"the number of iterations.\", ConvergenceWarning)\n",
      "/home/grads/q/qf31/anaconda3/envs/graph/lib/python3.7/site-packages/sklearn/svm/_base.py:986: ConvergenceWarning: Liblinear failed to converge, increase the number of iterations.\n",
      "  \"the number of iterations.\", ConvergenceWarning)\n",
      "/home/grads/q/qf31/anaconda3/envs/graph/lib/python3.7/site-packages/sklearn/svm/_base.py:986: ConvergenceWarning: Liblinear failed to converge, increase the number of iterations.\n",
      "  \"the number of iterations.\", ConvergenceWarning)\n",
      "/home/grads/q/qf31/anaconda3/envs/graph/lib/python3.7/site-packages/sklearn/svm/_base.py:986: ConvergenceWarning: Liblinear failed to converge, increase the number of iterations.\n",
      "  \"the number of iterations.\", ConvergenceWarning)\n"
     ]
    },
    {
     "name": "stdout",
     "output_type": "stream",
     "text": [
      "(E): Best test F1Mi=0.8430, F1Ma=0.7639 Acc=0.8430\n"
     ]
    },
    {
     "name": "stderr",
     "output_type": "stream",
     "text": [
      "/home/grads/q/qf31/anaconda3/envs/graph/lib/python3.7/site-packages/sklearn/svm/_base.py:986: ConvergenceWarning: Liblinear failed to converge, increase the number of iterations.\n",
      "  \"the number of iterations.\", ConvergenceWarning)\n"
     ]
    }
   ],
   "source": [
    "encoder_model.to('cuda')\n",
    "test_result, _evaluator = test(encoder_model, dataloader)\n",
    "print(f'(E): Best test F1Mi={test_result[\"micro_f1\"]:.4f}, F1Ma={test_result[\"macro_f1\"]:.4f} Acc={test_result[\"acc\"]:.4f}')"
   ]
  },
  {
   "cell_type": "code",
   "execution_count": 53,
   "id": "c9de14a2",
   "metadata": {},
   "outputs": [
    {
     "data": {
      "text/plain": [
       "0.1781767955801105"
      ]
     },
     "execution_count": 53,
     "metadata": {},
     "output_type": "execute_result"
    }
   ],
   "source": [
    "pr(test_result['predictions'])"
   ]
  },
  {
   "cell_type": "markdown",
   "id": "0ba6bde0",
   "metadata": {},
   "source": [
    "tSNE"
   ]
  },
  {
   "cell_type": "code",
   "execution_count": 74,
   "id": "64b37cef",
   "metadata": {
    "scrolled": true
   },
   "outputs": [],
   "source": [
    "from sklearn.manifold import TSNE\n",
    "from matplotlib import pyplot as plt\n",
    "encoder_model.to('cpu')\n",
    "dataset_adult = Adult('./datasets/adult')\n",
    "X, y = dataset_adult[:]\n",
    "gender = X[:, 40:41].T\n",
    "gender = gender.reshape(-1).clone().detach()\n",
    "X[:, 40:41] = 0\n",
    "Z = encoder_model.encoder.encode_project(X.to('cpu'))\n",
    "#Z_emb = TSNE(n_components=2).fit_transform(X)\n",
    "#plt.figure(figsize=(6, 5))\n",
    "#colors = ['r','g']\n",
    "#for i in range(2):\n",
    "#    plt.scatter(Z_emb[gender==i, 0], Z_emb[gender==i, 1], c=colors[i])"
   ]
  },
  {
   "cell_type": "code",
   "execution_count": 75,
   "id": "ceea30ce",
   "metadata": {},
   "outputs": [
    {
     "data": {
      "text/plain": [
       "tensor(1.0358, grad_fn=<DivBackward0>)"
      ]
     },
     "execution_count": 75,
     "metadata": {},
     "output_type": "execute_result"
    }
   ],
   "source": [
    "sng_dis(Z)"
   ]
  },
  {
   "cell_type": "markdown",
   "id": "26fe1ede",
   "metadata": {},
   "source": [
    "## male"
   ]
  },
  {
   "cell_type": "code",
   "execution_count": 56,
   "id": "23e1e52b",
   "metadata": {},
   "outputs": [],
   "source": [
    "gender_idx = np.where(X_train[:, 40:41] == 0)[0]\n",
    "dataset_adult.reset_data(X=X_train[gender_idx], y=y_train[gender_idx])\n",
    "dataloader = DataLoader(dataset_adult, batch_size=2048*6, shuffle=True, num_workers=4)"
   ]
  },
  {
   "cell_type": "code",
   "execution_count": 59,
   "id": "93815a32",
   "metadata": {},
   "outputs": [
    {
     "name": "stdout",
     "output_type": "stream",
     "text": [
      "torch.Size([14518, 120])\n",
      "torch.Size([14518])\n",
      "reuse classifier...\n",
      "(E): Best test F1Mi=0.8176, F1Ma=0.7687 Acc=0.8176\n"
     ]
    }
   ],
   "source": [
    "encoder_model.to('cuda')\n",
    "test_result, _ = test(encoder_model, dataloader, _evaluator)\n",
    "print(f'(E): Best test F1Mi={test_result[\"micro_f1\"]:.4f}, F1Ma={test_result[\"macro_f1\"]:.4f} Acc={test_result[\"acc\"]:.4f}')"
   ]
  },
  {
   "cell_type": "code",
   "execution_count": 60,
   "id": "901179e5",
   "metadata": {},
   "outputs": [
    {
     "data": {
      "text/plain": [
       "0.23881624225739848"
      ]
     },
     "execution_count": 60,
     "metadata": {},
     "output_type": "execute_result"
    }
   ],
   "source": [
    "sum(test_result['predictions'])/len(test_result['predictions'])"
   ]
  },
  {
   "cell_type": "code",
   "execution_count": 61,
   "id": "8c896e7e",
   "metadata": {
    "scrolled": true
   },
   "outputs": [],
   "source": [
    "encoder_model.to('cpu')\n",
    "male_X, male_y = dataset_adult[:]\n",
    "male_Z = encoder_model.encoder.encode_project(male_X.to('cpu'))"
   ]
  },
  {
   "cell_type": "code",
   "execution_count": 62,
   "id": "d7feab46",
   "metadata": {},
   "outputs": [
    {
     "data": {
      "text/plain": [
       "tensor(1.0543, grad_fn=<DivBackward0>)"
      ]
     },
     "execution_count": 62,
     "metadata": {},
     "output_type": "execute_result"
    }
   ],
   "source": [
    "sng_dis(male_Z)"
   ]
  },
  {
   "cell_type": "markdown",
   "id": "471db95e",
   "metadata": {},
   "source": [
    "## female"
   ]
  },
  {
   "cell_type": "code",
   "execution_count": 63,
   "id": "7e3ce102",
   "metadata": {},
   "outputs": [],
   "source": [
    "gender_idx = np.where(X_train[:, 40:41] == 1)[0]\n",
    "dataset_adult.reset_data(X=X_train[gender_idx], y=y_train[gender_idx])\n",
    "dataloader = DataLoader(dataset_adult, batch_size=2048*6, shuffle=True, num_workers=4)"
   ]
  },
  {
   "cell_type": "code",
   "execution_count": 65,
   "id": "56138830",
   "metadata": {},
   "outputs": [
    {
     "name": "stdout",
     "output_type": "stream",
     "text": [
      "torch.Size([7189, 120])\n",
      "torch.Size([7189])\n",
      "reuse classifier...\n",
      "(E): Best test F1Mi=0.9278, F1Ma=0.7706 Acc=0.9278\n"
     ]
    }
   ],
   "source": [
    "encoder_model.to('cuda')\n",
    "test_result, _ = test(encoder_model, dataloader, _evaluator)\n",
    "print(f'(E): Best test F1Mi={test_result[\"micro_f1\"]:.4f}, F1Ma={test_result[\"macro_f1\"]:.4f} Acc={test_result[\"acc\"]:.4f}')"
   ]
  },
  {
   "cell_type": "code",
   "execution_count": 66,
   "id": "65beabef",
   "metadata": {},
   "outputs": [
    {
     "data": {
      "text/plain": [
       "0.0625"
      ]
     },
     "execution_count": 66,
     "metadata": {},
     "output_type": "execute_result"
    }
   ],
   "source": [
    "sum(test_result['predictions'])/len(test_result['predictions'])"
   ]
  },
  {
   "cell_type": "code",
   "execution_count": 69,
   "id": "53cc4331",
   "metadata": {},
   "outputs": [],
   "source": [
    "encoder_model.to('cpu')\n",
    "female_X, male_y = dataset_adult[:]\n",
    "female_Z = encoder_model.encoder.encode_project(female_X.to('cpu'))"
   ]
  },
  {
   "cell_type": "code",
   "execution_count": 70,
   "id": "4f63bbe7",
   "metadata": {},
   "outputs": [
    {
     "data": {
      "text/plain": [
       "tensor(1.0515, grad_fn=<DivBackward0>)"
      ]
     },
     "execution_count": 70,
     "metadata": {},
     "output_type": "execute_result"
    }
   ],
   "source": [
    "sng_dis(female_Z)"
   ]
  },
  {
   "cell_type": "code",
   "execution_count": 72,
   "id": "603238af",
   "metadata": {},
   "outputs": [
    {
     "data": {
      "text/plain": [
       "tensor(1.0221, grad_fn=<MeanBackward0>)"
      ]
     },
     "execution_count": 72,
     "metadata": {},
     "output_type": "execute_result"
    }
   ],
   "source": [
    "dua_dis(male_Z, female_Z)"
   ]
  },
  {
   "cell_type": "markdown",
   "id": "275b9ac4",
   "metadata": {},
   "source": [
    "# resample"
   ]
  },
  {
   "cell_type": "code",
   "execution_count": 19,
   "id": "e3d579cc",
   "metadata": {},
   "outputs": [],
   "source": [
    "# resample\n",
    "idx_m = np.where(gender == 0)[0]\n",
    "idx_fm = np.where(gender == 1)[0]\n",
    "sample_m = idx_m[np.random.choice(idx_m.size, idx_fm.size, replace=False)]\n",
    "sample_fm = idx_fm[np.random.choice(idx_fm.size, idx_fm.size, replace=False)]"
   ]
  },
  {
   "cell_type": "code",
   "execution_count": 20,
   "id": "507179b5",
   "metadata": {},
   "outputs": [],
   "source": [
    "balance_Z = torch.cat((Z[sample_m],Z[sample_fm]),0)\n",
    "balance_gender = torch.cat((gender[sample_m],gender[sample_fm]),0)"
   ]
  },
  {
   "cell_type": "code",
   "execution_count": 21,
   "id": "0f1e4f9a",
   "metadata": {},
   "outputs": [
    {
     "data": {
      "image/png": "[encoded data removed]",
      "text/plain": [
       "<Figure size 432x288 with 1 Axes>"
      ]
     },
     "metadata": {
      "needs_background": "light"
     },
     "output_type": "display_data"
    },
    {
     "name": "stdout",
     "output_type": "stream",
     "text": [
      "tensor(0.)\n"
     ]
    }
   ],
   "source": [
    "import matplotlib.pyplot as plt\n",
    "idx=1\n",
    "\n",
    "a = dis_dist(balance_Z,  idx).detach().numpy()\n",
    "_ = plt.hist(a, bins='auto')  # arguments are passed to np.histogram\n",
    "plt.title(\"Histogram with 'auto' bins\")\n",
    "plt.show()\n",
    "print(gender[idx])"
   ]
  },
  {
   "cell_type": "code",
   "execution_count": 22,
   "id": "65e414ba",
   "metadata": {},
   "outputs": [],
   "source": [
    "#male_a = a[np.where(gender == 0)[0]]\n",
    "male_a = a[np.where(balance_gender == 0)[0]]"
   ]
  },
  {
   "cell_type": "code",
   "execution_count": 23,
   "id": "d30c1394",
   "metadata": {},
   "outputs": [
    {
     "data": {
      "image/png": "[encoded data removed]",
      "text/plain": [
       "<Figure size 432x288 with 1 Axes>"
      ]
     },
     "metadata": {
      "needs_background": "light"
     },
     "output_type": "display_data"
    }
   ],
   "source": [
    "_ = plt.hist(male_a, bins='auto')  # arguments are passed to np.histogram\n",
    "plt.title(\"Histogram with 'auto' bins\")\n",
    "plt.show()"
   ]
  },
  {
   "cell_type": "code",
   "execution_count": 24,
   "id": "7310da21",
   "metadata": {},
   "outputs": [],
   "source": [
    "#female_a = a[np.where(gender == 1)[0]]\n",
    "female_a = a[np.where(balance_gender == 1)[0]]"
   ]
  },
  {
   "cell_type": "code",
   "execution_count": 25,
   "id": "ecee44c7",
   "metadata": {},
   "outputs": [
    {
     "data": {
      "image/png": "[encoded data removed]",
      "text/plain": [
       "<Figure size 432x288 with 1 Axes>"
      ]
     },
     "metadata": {
      "needs_background": "light"
     },
     "output_type": "display_data"
    }
   ],
   "source": [
    "_ = plt.hist(female_a, bins='auto')  # arguments are passed to np.histogram\n",
    "plt.title(\"Histogram with 'auto' bins\")\n",
    "plt.show()"
   ]
  },
  {
   "cell_type": "code",
   "execution_count": 26,
   "id": "017e43e0",
   "metadata": {},
   "outputs": [
    {
     "data": {
      "image/png": "[encoded data removed]",
      "text/plain": [
       "<Figure size 432x288 with 1 Axes>"
      ]
     },
     "metadata": {
      "needs_background": "light"
     },
     "output_type": "display_data"
    }
   ],
   "source": [
    "#x = male_a[np.random.choice(male_a.size, female_a.size, replace=False)]\n",
    "x = male_a\n",
    "y = female_a\n",
    "\n",
    "bins = np.linspace(-1, 1, 100)\n",
    "\n",
    "plt.hist(x, bins, alpha=0.5, label='male')\n",
    "plt.hist(y, bins, alpha=0.5, label='female')\n",
    "plt.legend(loc='upper right')\n",
    "plt.show()"
   ]
  },
  {
   "cell_type": "code",
   "execution_count": 59,
   "id": "82b302b6",
   "metadata": {},
   "outputs": [
    {
     "data": {
      "image/png": "[encoded data removed]",
      "text/plain": [
       "<Figure size 432x288 with 1 Axes>"
      ]
     },
     "metadata": {
      "needs_background": "light"
     },
     "output_type": "display_data"
    }
   ],
   "source": [
    "#x = male_a[np.random.choice(male_a.size, female_a.size, replace=False)]\n",
    "x = male_a\n",
    "y = female_a\n",
    "\n",
    "bins = np.linspace(-1, 1, 100)\n",
    "\n",
    "plt.hist(x, bins, alpha=0.5, label='male')\n",
    "plt.hist(y, bins, alpha=0.5, label='female')\n",
    "plt.legend(loc='upper right')\n",
    "plt.show()"
   ]
  },
  {
   "cell_type": "code",
   "execution_count": 36,
   "id": "c5aed091",
   "metadata": {},
   "outputs": [
    {
     "data": {
      "image/png": "[encoded data removed]",
      "text/plain": [
       "<Figure size 432x288 with 1 Axes>"
      ]
     },
     "metadata": {
      "needs_background": "light"
     },
     "output_type": "display_data"
    }
   ],
   "source": [
    "#x = male_a[np.random.choice(male_a.size, female_a.size, replace=False)]\n",
    "x = male_a\n",
    "y = female_a\n",
    "\n",
    "bins = np.linspace(-1, 1, 100)\n",
    "\n",
    "plt.hist(x, bins, alpha=0.5, label='male')\n",
    "plt.hist(y, bins, alpha=0.5, label='female')\n",
    "plt.legend(loc='upper right')\n",
    "plt.show()"
   ]
  },
  {
   "cell_type": "code",
   "execution_count": 129,
   "id": "17bccee9",
   "metadata": {},
   "outputs": [
    {
     "data": {
      "text/plain": [
       "tensor([1., 0., 1.,  ..., 0., 0., 0.])"
      ]
     },
     "execution_count": 129,
     "metadata": {},
     "output_type": "execute_result"
    }
   ],
   "source": [
    "gender"
   ]
  },
  {
   "cell_type": "code",
   "execution_count": 59,
   "id": "13628073",
   "metadata": {},
   "outputs": [],
   "source": [
    "theta = 0.25"
   ]
  },
  {
   "cell_type": "code",
   "execution_count": 114,
   "id": "fd5d642b",
   "metadata": {},
   "outputs": [],
   "source": [
    "class MIP(nn.Module):\n",
    "    def __init__(self, input_dim, hidden_dim):\n",
    "        super(MIP, self).__init__()\n",
    "        self.layers = nn.Sequential(\n",
    "            make_conv(input_dim, hidden_dim),\n",
    "            nn.BatchNorm1d(hidden_dim),\n",
    "            make_conv(hidden_dim, hidden_dim),\n",
    "            nn.BatchNorm1d(hidden_dim)\n",
    "        )\n",
    "        \n",
    "        \n",
    "        self.project_head = nn.Sequential(\n",
    "            nn.Linear(hidden_dim, hidden_dim),\n",
    "            nn.ReLU(inplace=True),\n",
    "            nn.Linear(hidden_dim, hidden_dim),\n",
    "            nn.Tanh()\n",
    "        )\n",
    "        \n",
    "    def forward(self, x):\n",
    "        return self.layers(x)\n",
    "    \n",
    "    def project(self, z):\n",
    "        return self.project_head(z)\n",
    "        \n",
    "    def encode_project(self, x):\n",
    "        return self.project_head(self.layers(x))"
   ]
  },
  {
   "cell_type": "code",
   "execution_count": 115,
   "id": "2c4fac43",
   "metadata": {},
   "outputs": [],
   "source": [
    "phi = MIP(28,120)"
   ]
  },
  {
   "cell_type": "code",
   "execution_count": 118,
   "id": "cf88d97a",
   "metadata": {},
   "outputs": [],
   "source": [
    "dis_matrix = F.normalize(balance_Z )@ F.normalize(balance_Z).T"
   ]
  },
  {
   "cell_type": "code",
   "execution_count": 125,
   "id": "1bf0ef1d",
   "metadata": {},
   "outputs": [],
   "source": [
    "balance_X = torch.cat([X[sample_m],X[sample_fm]],0)"
   ]
  },
  {
   "cell_type": "code",
   "execution_count": 128,
   "id": "eb00c7c5",
   "metadata": {},
   "outputs": [],
   "source": [
    "matrix_X = torch.stack([balance_X] * balance_X.shape[0], dim=0)"
   ]
  },
  {
   "cell_type": "code",
   "execution_count": null,
   "id": "5582bc2c",
   "metadata": {},
   "outputs": [],
   "source": []
  }
 ],
 "metadata": {
  "interpreter": {
   "hash": "581cff410c649e3123de6f78b6d59996374b29e4c31d235b1d5702c2341175c9"
  },
  "kernelspec": {
   "display_name": "Python 3",
   "language": "python",
   "name": "python3"
  },
  "language_info": {
   "codemirror_mode": {
    "name": "ipython",
    "version": 3
   },
   "file_extension": ".py",
   "mimetype": "text/x-python",
   "name": "python",
   "nbconvert_exporter": "python",
   "pygments_lexer": "ipython3",
   "version": "3.6.13"
  }
 },
 "nbformat": 4,
 "nbformat_minor": 5
}
