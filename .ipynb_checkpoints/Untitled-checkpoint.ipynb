{
 "cells": [
  {
   "cell_type": "code",
   "execution_count": 1,
   "id": "81b03d23",
   "metadata": {},
   "outputs": [],
   "source": [
    "%load_ext autoreload\n",
    "%autoreload 2\n",
    "\n",
    "import torch \n",
    "import pickle\n",
    "from torch import nn\n",
    "import torch.nn.functional as F\n",
    "from torch.optim import Adam\n",
    "import numpy as np\n",
    "from torch.utils.data import Dataset, DataLoader\n",
    "from tqdm import tqdm\n",
    "import os\n",
    "os.environ[\"CUDA_DEVICE_ORDER\"]=\"PCI_BUS_ID\"   # see issue #152\n",
    "os.environ[\"CUDA_VISIBLE_DEVICES\"]=\"1\"\n",
    "\n",
    "\n",
    "device = 'cuda' if torch.cuda.is_available() else 'cpu'"
   ]
  },
  {
   "cell_type": "code",
   "execution_count": 2,
   "id": "c376252a",
   "metadata": {},
   "outputs": [],
   "source": [
    "import sys\n",
    "sys.path.append('./PyGCL')\n",
    "import GCL.losses as L\n",
    "from GCL.models import DualBranchContrast\n",
    "from GCL.eval import get_split, SVMEvaluator"
   ]
  },
  {
   "cell_type": "code",
   "execution_count": 3,
   "id": "37d40615",
   "metadata": {},
   "outputs": [],
   "source": [
    "with open('./datasets/adult/X_train', 'rb') as f:\n",
    "    X_train = pickle.load(f)\n",
    "    \n",
    "with open('./datasets/adult/y_train', 'rb') as f:\n",
    "    y_train = pickle.load(f)"
   ]
  },
  {
   "cell_type": "code",
   "execution_count": 4,
   "id": "6e1777a5",
   "metadata": {},
   "outputs": [],
   "source": [
    "# custom dataset\n",
    "\n",
    "class Adult(Dataset):\n",
    "    def __init__(self, file_path):\n",
    "        super(Adult, self).__init__()\n",
    "        with open(os.path.join(file_path, 'X_train'), 'rb') as f:\n",
    "            self.X_train = pickle.load(f)\n",
    "            self.X_train = np.array(X_train)\n",
    "        with open(os.path.join(file_path, 'y_train'), 'rb') as f:   \n",
    "            self.y_train = np.array(pickle.load(f))\n",
    "            \n",
    "    def __len__(self):\n",
    "        return self.X_train.shape[0]\n",
    "    \n",
    "    def __getitem__(self, idx):\n",
    "        return (torch.from_numpy(self.X_train[idx]), torch.tensor(self.y_train[idx]))\n",
    "    \n",
    "    def reset_data(self, X, y):\n",
    "        self.X_train = np.array(X)\n",
    "        self.y_train = np.array(y)\n",
    "        "
   ]
  },
  {
   "cell_type": "code",
   "execution_count": 5,
   "id": "6a4dd98b",
   "metadata": {},
   "outputs": [],
   "source": [
    "# from aug to embedd to project\n",
    "\n",
    "def make_conv(in_dim, out_dim):\n",
    "    return nn.Sequential(nn.Linear(in_dim, out_dim), nn.ReLU(), nn.Linear(out_dim, out_dim))\n",
    "\n",
    "# data augmented before feed in MLP\n",
    "class MLP(nn.Module):\n",
    "    def __init__(self, input_dim, hidden_dim):\n",
    "        super(MLP, self).__init__()\n",
    "        self.layers = nn.Sequential(\n",
    "            make_conv(input_dim, hidden_dim),\n",
    "            nn.BatchNorm1d(hidden_dim),\n",
    "            make_conv(hidden_dim, hidden_dim),\n",
    "            nn.BatchNorm1d(hidden_dim)\n",
    "        )\n",
    "        \n",
    "        \n",
    "        self.project_head = nn.Sequential(\n",
    "            nn.Linear(hidden_dim, hidden_dim),\n",
    "            nn.ReLU(inplace=True),\n",
    "            nn.Linear(hidden_dim, hidden_dim)\n",
    "        )\n",
    "        \n",
    "    def forward(self, x):\n",
    "        return self.layers(x)\n",
    "    \n",
    "    def project(self, z):\n",
    "        return self.project_head(z)\n",
    "        \n",
    "    def encode_project(self, x):\n",
    "        return self.project_head(self.layers(x))"
   ]
  },
  {
   "cell_type": "code",
   "execution_count": 6,
   "id": "142f4bbd",
   "metadata": {},
   "outputs": [],
   "source": [
    "# augment func\n",
    "def drop_feature(x: torch.Tensor, drop_prob: float) -> torch.Tensor:\n",
    "    return F.dropout(x, drop_prob) * (1 - drop_prob)\n",
    "\n",
    "class FeatureDrop(nn.Module):\n",
    "    def __init__(self, drop_prob):\n",
    "        super(FeatureDrop, self).__init__()\n",
    "        self.drop_prob = drop_prob\n",
    "    \n",
    "    def forward(self, x):\n",
    "        return drop_feature(x, self.drop_prob)\n",
    "    "
   ]
  },
  {
   "cell_type": "code",
   "execution_count": 7,
   "id": "58697778",
   "metadata": {},
   "outputs": [],
   "source": [
    "class Encoder(nn.Module):\n",
    "    def __init__(self, main_encoder, sub_encoder, augmentor):\n",
    "        super(Encoder, self).__init__()\n",
    "        self.main_encoder = main_encoder\n",
    "        self.sub_encoder = sub_encoder\n",
    "        self.augmentor = augmentor\n",
    "        \n",
    "    def forward(self, x):\n",
    "        x1 = self.augmentor(x)\n",
    "        x2 = self.augmentor(x)\n",
    "        g, g1, g2 = self.main_encoder.encode_project(x), self.main_encoder.encode_project(x1), self.main_encoder.encode_project(x2)\n",
    "        return (g, g1, g2)\n",
    "    \n",
    "    def sub_forward(self,u):       \n",
    "        return self.sub_encoder.encode_project(u)\n",
    "        \n",
    "        "
   ]
  },
  {
   "cell_type": "code",
   "execution_count": 8,
   "id": "05b04a0f",
   "metadata": {},
   "outputs": [],
   "source": [
    "def train(encoder_model, contrast_model, dataloader, optimizer, train=True, conditional=False, debias=False):\n",
    "    device = 'cuda' if torch.cuda.is_available() else 'cpu'\n",
    "    encoder_model.to(device)\n",
    "    encoder_model.train()\n",
    "    total_loss = 0.0\n",
    "    for batch_idx, data_batch in enumerate(dataloader):\n",
    "        #print('batch_idx: ', batch_idx)\n",
    "        data, label = data_batch\n",
    "        data = data.to(device)\n",
    "        optimizer.zero_grad()\n",
    "        g, g1, g2 = encoder_model(data)\n",
    "        \n",
    "        if not conditional:\n",
    "            \n",
    "            #optimizer.zero_grad()\n",
    "\n",
    "            #g, g1, g2 = encoder_model(data)\n",
    "            #print(g1.shape)\n",
    "            #print(g2.shape)\n",
    "\n",
    "            loss = contrast_model(g1=g1, g2=g2)\n",
    "        else:\n",
    "            \n",
    "            idx_0 = np.where(data[:, 40:41] == 0)[0]\n",
    "            idx_1 = np.where(data[:, 40:41] == 1)[0]\n",
    "            #data_0 = data[np.where(data[:, 40:41] == 0)[0]].to(device)\n",
    "            #data_0[:, 40:41] = 0 # remove sa\n",
    "            #data_1 = data[np.where(data[:, 40:41] == 1)[0]].to(device)\n",
    "            #data_1[:, 40:41] = 0 # remove sa\n",
    "            #print('data_0:', data_0.shape)\n",
    "            #print('data_1:', data_1.shape)\n",
    "            #ratio_0 = data_0.shape[0] / data.shape[0]\n",
    "            #ratio_1 = data_1.shape[0] / data.shape[0]\n",
    "            ratio_0 = len(idx_0) / (len(idx_0) + len(idx_1))\n",
    "            ratio_1 = 1 - ratio_0\n",
    "            \n",
    "            #optimizer.zero_grad()\n",
    "            #_, g1, g2 = encoder_model(data_0)\n",
    "            #loss = ratio_0 * contrast_model(g1=g1, g2=g2)\n",
    "            \n",
    "            #_, g1, g2 = encoder_model(data_1)\n",
    "            #loss += ratio_1 * contrast_model(g1=g1, g2=g2)\n",
    "            \n",
    "            #g, g1, g2 = encoder_model(data)\n",
    "            loss =  ratio_0 * contrast_model(g1=g1[idx_0], g2=g2[idx_0]) + ratio_1 * contrast_model(g1=g1[idx_1], g2=g2[idx_1])\n",
    "            \n",
    "        if debias:\n",
    "            beta = 1.0\n",
    "            fair_sim = torch.exp(L.infonce._similarity(g,g) * beta)\n",
    "            \n",
    "            num_nodes = data.size(0)\n",
    "            pos_mask = torch.eye(num_nodes, dtype=torch.float32, device=device)\n",
    "            neg_mask = 1. - pos_mask\n",
    "            pos_mask *= fair_sim\n",
    "            neg_mask *= fair_sim\n",
    "            pos_col = torch.sum(pos_mask, dim=1, keepdim = True)\n",
    "            extra_pos_mask = pos_mask/pos_col\n",
    "            extra_neg_mask = neg_mask/pos_col\n",
    "        \n",
    "            u = encoder_model.sub_forward(data[:, 40:41])\n",
    "            debias_loss = contrast_model(g1 = g, g2 = u, extra_pos_mask = extra_pos_mask, extra_neg_mask = extra_neg_mask)\n",
    "            print('debias loss\\n', debias_loss)\n",
    "            \n",
    "            \n",
    "        #print(loss)\n",
    "        loss.backward()\n",
    "        optimizer.step()\n",
    "        \n",
    "        total_loss += loss.item()\n",
    "    return total_loss\n",
    "        \n",
    "        "
   ]
  },
  {
   "cell_type": "code",
   "execution_count": 9,
   "id": "91a8a117",
   "metadata": {},
   "outputs": [
    {
     "data": {
      "text/plain": [
       "tensor(0., device='cuda:0')"
      ]
     },
     "execution_count": 9,
     "metadata": {},
     "output_type": "execute_result"
    }
   ],
   "source": [
    "torch.tensor(0.0).to(device)"
   ]
  },
  {
   "cell_type": "markdown",
   "id": "f8e2b3bf",
   "metadata": {},
   "source": [
    "max I(x,z|u) # u: gender"
   ]
  },
  {
   "cell_type": "code",
   "execution_count": 10,
   "id": "6d824d0d",
   "metadata": {},
   "outputs": [],
   "source": [
    "#evaluator = None\n",
    "def test(encoder_model, dataloader, evaluator=None):\n",
    "    encoder_model.eval()\n",
    "    x = []\n",
    "    y = []\n",
    "    for data_batch in dataloader:\n",
    "        data, label = data_batch\n",
    "        data = data.to(device)\n",
    "        label = label.to(device)\n",
    "        g = encoder_model.encoder(data)\n",
    "        x.append(g)\n",
    "        y.append(label)\n",
    "    x = torch.cat(x, dim=0)\n",
    "    y = torch.cat(y, dim=0)\n",
    "    print(x.shape)\n",
    "    print(y.shape)\n",
    "    split = get_split(num_samples=x.size()[0], train_ratio=0.8, test_ratio=0.1)\n",
    "    evaluator = SVMEvaluator(linear=True) if evaluator is None else evaluator\n",
    "    result = evaluator(x, y, split)\n",
    "    \n",
    "    return result, evaluator"
   ]
  },
  {
   "cell_type": "code",
   "execution_count": 11,
   "id": "c23a442e",
   "metadata": {},
   "outputs": [],
   "source": [
    "def pr(predictions):\n",
    "    return sum(predictions)/len(predictions) "
   ]
  },
  {
   "cell_type": "code",
   "execution_count": 12,
   "id": "c672b5d2",
   "metadata": {},
   "outputs": [],
   "source": [
    "import torch.nn.functional as F\n",
    "import torch\n",
    "def sng_dis(Z):\n",
    "    h = F.normalize(Z)\n",
    "    return torch.sum(torch.exp(h@h.T) * (1 - torch.eye(h.size(0), dtype=torch.float32, device=h.device)))/(h.size(0)*(h.size(0)-1))\n",
    "\n",
    "def dua_dis(z1, z2):\n",
    "    return torch.mean(torch.exp(F.normalize(z1) @ F.normalize(z2).T))\n",
    "\n",
    "def dis_dist(Z, n):\n",
    "    h = F.normalize(Z)\n",
    "    anchor = h[n,:]\n",
    "    dis = h @ anchor\n",
    "    return dis\n",
    "    \n",
    "    "
   ]
  },
  {
   "cell_type": "code",
   "execution_count": 13,
   "id": "ba9428e3",
   "metadata": {},
   "outputs": [],
   "source": [
    "dataset_adult = Adult('./datasets/adult')\n",
    "dataloader = DataLoader(dataset_adult, batch_size=2048*2, shuffle=True, num_workers=4)#2048*6"
   ]
  },
  {
   "cell_type": "code",
   "execution_count": 14,
   "id": "5c203ef2",
   "metadata": {},
   "outputs": [],
   "source": [
    "mlp_adult = MLP(57, 10)\n",
    "mlp_sens = MLP(1, 10)\n",
    "aug = FeatureDrop(drop_prob=0.2)\n",
    "encoder_model = Encoder(main_encoder = mlp_adult, sub_encoder = mlp_sens, augmentor = aug)"
   ]
  },
  {
   "cell_type": "code",
   "execution_count": 15,
   "id": "b3e07f33",
   "metadata": {},
   "outputs": [],
   "source": [
    "contrast_model = DualBranchContrast(loss=L.InfoNCE(tau=0.1), mode='G2G').to(device)\n",
    "optim = Adam(encoder_model.parameters(), lr=0.01)"
   ]
  },
  {
   "cell_type": "code",
   "execution_count": 16,
   "id": "7ebb0d16",
   "metadata": {
    "scrolled": true
   },
   "outputs": [
    {
     "name": "stderr",
     "output_type": "stream",
     "text": [
      "\r",
      "(T):   0%|          | 0/100 [00:00<?, ?it/s]"
     ]
    },
    {
     "name": "stdout",
     "output_type": "stream",
     "text": [
      "debias loss\n",
      " tensor(9.5077, device='cuda:0', grad_fn=<MulBackward0>)\n",
      "debias loss\n",
      " tensor(9.4850, device='cuda:0', grad_fn=<MulBackward0>)\n",
      "debias loss\n",
      " tensor(9.2111, device='cuda:0', grad_fn=<MulBackward0>)\n",
      "debias loss\n",
      " tensor(9.0474, device='cuda:0', grad_fn=<MulBackward0>)\n",
      "debias loss\n",
      " tensor(8.9851, device='cuda:0', grad_fn=<MulBackward0>)\n",
      "debias loss\n",
      " tensor(7.7514, device='cuda:0', grad_fn=<MulBackward0>)\n"
     ]
    },
    {
     "name": "stderr",
     "output_type": "stream",
     "text": [
      "(T):   1%|          | 1/100 [00:01<03:11,  1.93s/it, loss=45.8]"
     ]
    },
    {
     "name": "stdout",
     "output_type": "stream",
     "text": [
      "debias loss\n",
      " tensor(9.0008, device='cuda:0', grad_fn=<MulBackward0>)\n",
      "debias loss\n",
      " tensor(9.0338, device='cuda:0', grad_fn=<MulBackward0>)\n",
      "debias loss\n",
      " tensor(9.0674, device='cuda:0', grad_fn=<MulBackward0>)\n",
      "debias loss\n",
      " tensor(9.0986, device='cuda:0', grad_fn=<MulBackward0>)\n",
      "debias loss\n",
      " tensor(9.1508, device='cuda:0', grad_fn=<MulBackward0>)\n",
      "debias loss\n",
      " tensor(7.9704, device='cuda:0', grad_fn=<MulBackward0>)\n"
     ]
    },
    {
     "name": "stderr",
     "output_type": "stream",
     "text": [
      "(T):   2%|▏         | 2/100 [00:02<02:15,  1.38s/it, loss=41.2]"
     ]
    },
    {
     "name": "stdout",
     "output_type": "stream",
     "text": [
      "debias loss\n",
      " tensor(9.1371, device='cuda:0', grad_fn=<MulBackward0>)\n",
      "debias loss\n",
      " tensor(9.2348, device='cuda:0', grad_fn=<MulBackward0>)\n",
      "debias loss\n",
      " tensor(9.1923, device='cuda:0', grad_fn=<MulBackward0>)\n",
      "debias loss\n",
      " tensor(9.1895, device='cuda:0', grad_fn=<MulBackward0>)\n",
      "debias loss\n",
      " tensor(9.3058, device='cuda:0', grad_fn=<MulBackward0>)\n",
      "debias loss\n",
      " tensor(8.1165, device='cuda:0', grad_fn=<MulBackward0>)\n"
     ]
    },
    {
     "name": "stderr",
     "output_type": "stream",
     "text": [
      "(T):   3%|▎         | 3/100 [00:03<01:46,  1.10s/it, loss=38.5]"
     ]
    },
    {
     "name": "stdout",
     "output_type": "stream",
     "text": [
      "debias loss\n",
      " tensor(9.3255, device='cuda:0', grad_fn=<MulBackward0>)\n",
      "debias loss\n",
      " tensor(9.3548, device='cuda:0', grad_fn=<MulBackward0>)\n",
      "debias loss\n",
      " tensor(9.3119, device='cuda:0', grad_fn=<MulBackward0>)\n",
      "debias loss\n",
      " tensor(9.3334, device='cuda:0', grad_fn=<MulBackward0>)\n"
     ]
    },
    {
     "name": "stderr",
     "output_type": "stream",
     "text": [
      "(T):   4%|▍         | 4/100 [00:04<01:40,  1.04s/it, loss=36.9]"
     ]
    },
    {
     "name": "stdout",
     "output_type": "stream",
     "text": [
      "debias loss\n",
      " tensor(9.3324, device='cuda:0', grad_fn=<MulBackward0>)\n",
      "debias loss\n",
      " tensor(8.1881, device='cuda:0', grad_fn=<MulBackward0>)\n",
      "debias loss\n",
      " tensor(9.3144, device='cuda:0', grad_fn=<MulBackward0>)\n",
      "debias loss\n",
      " tensor(9.3530, device='cuda:0', grad_fn=<MulBackward0>)\n",
      "debias loss\n",
      " tensor(9.3565, device='cuda:0', grad_fn=<MulBackward0>)\n",
      "debias loss\n",
      " tensor(9.3804, device='cuda:0', grad_fn=<MulBackward0>)\n",
      "debias loss\n",
      " tensor(9.4372, device='cuda:0', grad_fn=<MulBackward0>)\n",
      "debias loss\n",
      " tensor(8.2664, device='cuda:0', grad_fn=<MulBackward0>)\n"
     ]
    },
    {
     "name": "stderr",
     "output_type": "stream",
     "text": [
      "(T):   5%|▌         | 5/100 [00:05<01:32,  1.02it/s, loss=35.8]"
     ]
    },
    {
     "name": "stdout",
     "output_type": "stream",
     "text": [
      "debias loss\n",
      " tensor(9.4676, device='cuda:0', grad_fn=<MulBackward0>)\n",
      "debias loss\n",
      " tensor(9.4202, device='cuda:0', grad_fn=<MulBackward0>)\n",
      "debias loss\n",
      " tensor(9.4223, device='cuda:0', grad_fn=<MulBackward0>)\n",
      "debias loss\n",
      " tensor(9.4421, device='cuda:0', grad_fn=<MulBackward0>)\n",
      "debias loss\n",
      " tensor(9.4463, device='cuda:0', grad_fn=<MulBackward0>)\n",
      "debias loss\n",
      " tensor(8.2007, device='cuda:0', grad_fn=<MulBackward0>)\n"
     ]
    },
    {
     "name": "stderr",
     "output_type": "stream",
     "text": [
      "(T):   6%|▌         | 6/100 [00:06<01:31,  1.03it/s, loss=35]  "
     ]
    },
    {
     "name": "stdout",
     "output_type": "stream",
     "text": [
      "debias loss\n",
      " tensor(9.4105, device='cuda:0', grad_fn=<MulBackward0>)\n",
      "debias loss\n",
      " tensor(9.4644, device='cuda:0', grad_fn=<MulBackward0>)\n",
      "debias loss\n",
      " tensor(9.4718, device='cuda:0', grad_fn=<MulBackward0>)\n",
      "debias loss\n",
      " tensor(9.4547, device='cuda:0', grad_fn=<MulBackward0>)\n",
      "debias loss\n",
      " tensor(9.4110, device='cuda:0', grad_fn=<MulBackward0>)\n",
      "debias loss\n",
      " tensor(8.2696, device='cuda:0', grad_fn=<MulBackward0>)\n"
     ]
    },
    {
     "name": "stderr",
     "output_type": "stream",
     "text": [
      "(T):   7%|▋         | 7/100 [00:07<01:22,  1.12it/s, loss=34.3]"
     ]
    },
    {
     "name": "stdout",
     "output_type": "stream",
     "text": [
      "debias loss\n",
      " tensor(9.4754, device='cuda:0', grad_fn=<MulBackward0>)\n",
      "debias loss\n",
      " tensor(9.3347, device='cuda:0', grad_fn=<MulBackward0>)\n",
      "debias loss\n",
      " tensor(9.3905, device='cuda:0', grad_fn=<MulBackward0>)\n",
      "debias loss\n",
      " tensor(9.3650, device='cuda:0', grad_fn=<MulBackward0>)\n",
      "debias loss\n",
      " tensor(9.3461, device='cuda:0', grad_fn=<MulBackward0>)\n"
     ]
    },
    {
     "name": "stderr",
     "output_type": "stream",
     "text": [
      "(T):   8%|▊         | 8/100 [00:08<01:21,  1.13it/s, loss=33.8]"
     ]
    },
    {
     "name": "stdout",
     "output_type": "stream",
     "text": [
      "debias loss\n",
      " tensor(8.2020, device='cuda:0', grad_fn=<MulBackward0>)\n",
      "debias loss\n",
      " tensor(9.4079, device='cuda:0', grad_fn=<MulBackward0>)\n",
      "debias loss\n",
      " tensor(9.3594, device='cuda:0', grad_fn=<MulBackward0>)\n",
      "debias loss\n",
      " tensor(9.3463, device='cuda:0', grad_fn=<MulBackward0>)\n",
      "debias loss\n",
      " tensor(9.3987, device='cuda:0', grad_fn=<MulBackward0>)\n",
      "debias loss\n",
      " tensor(9.2456, device='cuda:0', grad_fn=<MulBackward0>)\n",
      "debias loss\n",
      " tensor(8.0638, device='cuda:0', grad_fn=<MulBackward0>)\n"
     ]
    },
    {
     "name": "stderr",
     "output_type": "stream",
     "text": [
      "(T):   9%|▉         | 9/100 [00:08<01:17,  1.18it/s, loss=33.2]"
     ]
    },
    {
     "name": "stdout",
     "output_type": "stream",
     "text": [
      "debias loss\n",
      " tensor(9.2374, device='cuda:0', grad_fn=<MulBackward0>)\n",
      "debias loss\n",
      " tensor(9.2287, device='cuda:0', grad_fn=<MulBackward0>)\n",
      "debias loss\n",
      " tensor(9.2204, device='cuda:0', grad_fn=<MulBackward0>)\n",
      "debias loss\n",
      " tensor(9.2235, device='cuda:0', grad_fn=<MulBackward0>)\n",
      "debias loss\n",
      " tensor(9.1902, device='cuda:0', grad_fn=<MulBackward0>)\n",
      "debias loss\n",
      " tensor(7.9254, device='cuda:0', grad_fn=<MulBackward0>)\n"
     ]
    },
    {
     "name": "stderr",
     "output_type": "stream",
     "text": [
      "(T):  10%|█         | 10/100 [00:09<01:17,  1.16it/s, loss=32.9]"
     ]
    },
    {
     "name": "stdout",
     "output_type": "stream",
     "text": [
      "debias loss\n",
      " tensor(9.2575, device='cuda:0', grad_fn=<MulBackward0>)\n",
      "debias loss\n",
      " tensor(9.2231, device='cuda:0', grad_fn=<MulBackward0>)\n",
      "debias loss\n",
      " tensor(9.2413, device='cuda:0', grad_fn=<MulBackward0>)\n",
      "debias loss\n",
      " tensor(9.1720, device='cuda:0', grad_fn=<MulBackward0>)\n",
      "debias loss\n",
      " tensor(9.2170, device='cuda:0', grad_fn=<MulBackward0>)\n",
      "debias loss\n",
      " tensor(7.9564, device='cuda:0', grad_fn=<MulBackward0>)\n"
     ]
    },
    {
     "name": "stderr",
     "output_type": "stream",
     "text": [
      "(T):  11%|█         | 11/100 [00:10<01:20,  1.10it/s, loss=32.5]"
     ]
    },
    {
     "name": "stdout",
     "output_type": "stream",
     "text": [
      "debias loss\n",
      " tensor(9.2431, device='cuda:0', grad_fn=<MulBackward0>)\n",
      "debias loss\n",
      " tensor(9.2134, device='cuda:0', grad_fn=<MulBackward0>)\n",
      "debias loss\n",
      " tensor(9.3066, device='cuda:0', grad_fn=<MulBackward0>)\n",
      "debias loss\n",
      " tensor(9.2521, device='cuda:0', grad_fn=<MulBackward0>)\n",
      "debias loss\n",
      " tensor(9.2516, device='cuda:0', grad_fn=<MulBackward0>)\n",
      "debias loss\n",
      " tensor(8.1206, device='cuda:0', grad_fn=<MulBackward0>)\n"
     ]
    },
    {
     "name": "stderr",
     "output_type": "stream",
     "text": [
      "(T):  12%|█▏        | 12/100 [00:11<01:21,  1.08it/s, loss=32.1]"
     ]
    },
    {
     "name": "stdout",
     "output_type": "stream",
     "text": [
      "debias loss\n",
      " tensor(9.2845, device='cuda:0', grad_fn=<MulBackward0>)\n",
      "debias loss\n",
      " tensor(9.2218, device='cuda:0', grad_fn=<MulBackward0>)\n",
      "debias loss\n",
      " tensor(9.2278, device='cuda:0', grad_fn=<MulBackward0>)\n",
      "debias loss\n",
      " tensor(9.1689, device='cuda:0', grad_fn=<MulBackward0>)\n",
      "debias loss\n",
      " tensor(9.1687, device='cuda:0', grad_fn=<MulBackward0>)\n",
      "debias loss\n",
      " tensor(7.9913, device='cuda:0', grad_fn=<MulBackward0>)\n"
     ]
    },
    {
     "name": "stderr",
     "output_type": "stream",
     "text": [
      "(T):  13%|█▎        | 13/100 [00:12<01:20,  1.08it/s, loss=31.8]"
     ]
    },
    {
     "name": "stdout",
     "output_type": "stream",
     "text": [
      "debias loss\n",
      " tensor(9.1849, device='cuda:0', grad_fn=<MulBackward0>)\n",
      "debias loss\n",
      " tensor(9.1955, device='cuda:0', grad_fn=<MulBackward0>)\n",
      "debias loss\n",
      " tensor(9.2640, device='cuda:0', grad_fn=<MulBackward0>)\n",
      "debias loss\n",
      " tensor(9.1931, device='cuda:0', grad_fn=<MulBackward0>)\n",
      "debias loss\n",
      " tensor(9.3329, device='cuda:0', grad_fn=<MulBackward0>)\n",
      "debias loss\n",
      " tensor(8.0512, device='cuda:0', grad_fn=<MulBackward0>)\n"
     ]
    },
    {
     "name": "stderr",
     "output_type": "stream",
     "text": [
      "(T):  14%|█▍        | 14/100 [00:13<01:19,  1.08it/s, loss=31.8]"
     ]
    },
    {
     "name": "stdout",
     "output_type": "stream",
     "text": [
      "debias loss\n",
      " tensor(9.2335, device='cuda:0', grad_fn=<MulBackward0>)\n",
      "debias loss\n",
      " tensor(9.3383, device='cuda:0', grad_fn=<MulBackward0>)\n",
      "debias loss\n",
      " tensor(9.3039, device='cuda:0', grad_fn=<MulBackward0>)\n",
      "debias loss\n",
      " tensor(9.3636, device='cuda:0', grad_fn=<MulBackward0>)\n",
      "debias loss\n",
      " tensor(9.4015, device='cuda:0', grad_fn=<MulBackward0>)\n",
      "debias loss\n",
      " tensor(8.2047, device='cuda:0', grad_fn=<MulBackward0>)\n"
     ]
    },
    {
     "name": "stderr",
     "output_type": "stream",
     "text": [
      "(T):  15%|█▌        | 15/100 [00:14<01:18,  1.08it/s, loss=31.1]"
     ]
    },
    {
     "name": "stdout",
     "output_type": "stream",
     "text": [
      "debias loss\n",
      " tensor(9.3926, device='cuda:0', grad_fn=<MulBackward0>)\n",
      "debias loss\n",
      " tensor(9.4475, device='cuda:0', grad_fn=<MulBackward0>)\n",
      "debias loss\n",
      " tensor(9.3780, device='cuda:0', grad_fn=<MulBackward0>)\n",
      "debias loss\n",
      " tensor(9.3146, device='cuda:0', grad_fn=<MulBackward0>)\n"
     ]
    },
    {
     "name": "stderr",
     "output_type": "stream",
     "text": [
      "(T):  16%|█▌        | 16/100 [00:15<01:17,  1.09it/s, loss=30.9]"
     ]
    },
    {
     "name": "stdout",
     "output_type": "stream",
     "text": [
      "debias loss\n",
      " tensor(9.3176, device='cuda:0', grad_fn=<MulBackward0>)\n",
      "debias loss\n",
      " tensor(8.0616, device='cuda:0', grad_fn=<MulBackward0>)\n",
      "debias loss\n",
      " tensor(9.3856, device='cuda:0', grad_fn=<MulBackward0>)\n",
      "debias loss\n",
      " tensor(9.4943, device='cuda:0', grad_fn=<MulBackward0>)\n",
      "debias loss\n",
      " tensor(9.5448, device='cuda:0', grad_fn=<MulBackward0>)\n",
      "debias loss\n",
      " tensor(9.5707, device='cuda:0', grad_fn=<MulBackward0>)\n",
      "debias loss\n",
      " tensor(9.5200, device='cuda:0', grad_fn=<MulBackward0>)\n",
      "debias loss\n",
      " tensor(8.3360, device='cuda:0', grad_fn=<MulBackward0>)\n"
     ]
    },
    {
     "name": "stderr",
     "output_type": "stream",
     "text": [
      "(T):  17%|█▋        | 17/100 [00:16<01:16,  1.08it/s, loss=30.5]"
     ]
    },
    {
     "name": "stdout",
     "output_type": "stream",
     "text": [
      "debias loss\n",
      " tensor(9.5814, device='cuda:0', grad_fn=<MulBackward0>)\n",
      "debias loss\n",
      " tensor(9.5911, device='cuda:0', grad_fn=<MulBackward0>)\n",
      "debias loss\n",
      " tensor(9.6021, device='cuda:0', grad_fn=<MulBackward0>)\n",
      "debias loss\n",
      " tensor(9.5110, device='cuda:0', grad_fn=<MulBackward0>)\n"
     ]
    },
    {
     "name": "stderr",
     "output_type": "stream",
     "text": [
      "\r",
      "(T):  17%|█▋        | 17/100 [00:17<01:16,  1.08it/s, loss=30.3]"
     ]
    },
    {
     "name": "stdout",
     "output_type": "stream",
     "text": [
      "debias loss\n",
      " tensor(9.4307, device='cuda:0', grad_fn=<MulBackward0>)\n",
      "debias loss\n",
      " tensor(8.3027, device='cuda:0', grad_fn=<MulBackward0>)\n"
     ]
    },
    {
     "name": "stderr",
     "output_type": "stream",
     "text": [
      "\r",
      "(T):  18%|█▊        | 18/100 [00:17<01:16,  1.07it/s, loss=30.3]"
     ]
    },
    {
     "name": "stdout",
     "output_type": "stream",
     "text": [
      "debias loss\n",
      " tensor(9.5659, device='cuda:0', grad_fn=<MulBackward0>)\n",
      "debias loss\n",
      " tensor(9.5410, device='cuda:0', grad_fn=<MulBackward0>)\n",
      "debias loss\n",
      " tensor(9.7228, device='cuda:0', grad_fn=<MulBackward0>)\n",
      "debias loss\n",
      " tensor(9.6933, device='cuda:0', grad_fn=<MulBackward0>)\n",
      "debias loss\n",
      " tensor(9.5942, device='cuda:0', grad_fn=<MulBackward0>)\n",
      "debias loss\n",
      " tensor(8.5274, device='cuda:0', grad_fn=<MulBackward0>)\n"
     ]
    },
    {
     "name": "stderr",
     "output_type": "stream",
     "text": [
      "(T):  19%|█▉        | 19/100 [00:18<01:11,  1.13it/s, loss=30]  "
     ]
    },
    {
     "name": "stdout",
     "output_type": "stream",
     "text": [
      "debias loss\n",
      " tensor(9.6459, device='cuda:0', grad_fn=<MulBackward0>)\n",
      "debias loss\n",
      " tensor(9.7931, device='cuda:0', grad_fn=<MulBackward0>)\n",
      "debias loss\n",
      " tensor(9.7696, device='cuda:0', grad_fn=<MulBackward0>)\n",
      "debias loss\n",
      " tensor(9.8182, device='cuda:0', grad_fn=<MulBackward0>)\n",
      "debias loss\n",
      " tensor(9.7527, device='cuda:0', grad_fn=<MulBackward0>)\n",
      "debias loss\n",
      " tensor(8.6220, device='cuda:0', grad_fn=<MulBackward0>)\n"
     ]
    },
    {
     "name": "stderr",
     "output_type": "stream",
     "text": [
      "(T):  20%|██        | 20/100 [00:18<01:09,  1.16it/s, loss=29.7]"
     ]
    },
    {
     "name": "stdout",
     "output_type": "stream",
     "text": [
      "debias loss\n",
      " tensor(9.8134, device='cuda:0', grad_fn=<MulBackward0>)\n",
      "debias loss\n",
      " tensor(9.9332, device='cuda:0', grad_fn=<MulBackward0>)\n",
      "debias loss\n",
      " tensor(9.8921, device='cuda:0', grad_fn=<MulBackward0>)\n",
      "debias loss\n",
      " tensor(9.7967, device='cuda:0', grad_fn=<MulBackward0>)\n",
      "debias loss\n",
      " tensor(9.6474, device='cuda:0', grad_fn=<MulBackward0>)\n"
     ]
    },
    {
     "name": "stderr",
     "output_type": "stream",
     "text": [
      "(T):  21%|██        | 21/100 [00:19<01:09,  1.14it/s, loss=29.5]"
     ]
    },
    {
     "name": "stdout",
     "output_type": "stream",
     "text": [
      "debias loss\n",
      " tensor(8.5775, device='cuda:0', grad_fn=<MulBackward0>)\n",
      "debias loss\n",
      " tensor(9.7497, device='cuda:0', grad_fn=<MulBackward0>)\n",
      "debias loss\n",
      " tensor(9.8600, device='cuda:0', grad_fn=<MulBackward0>)\n",
      "debias loss\n",
      " tensor(9.8520, device='cuda:0', grad_fn=<MulBackward0>)\n",
      "debias loss\n",
      " tensor(9.8332, device='cuda:0', grad_fn=<MulBackward0>)\n",
      "debias loss\n",
      " tensor(9.8458, device='cuda:0', grad_fn=<MulBackward0>)\n",
      "debias loss\n",
      " tensor(8.5411, device='cuda:0', grad_fn=<MulBackward0>)\n"
     ]
    },
    {
     "name": "stderr",
     "output_type": "stream",
     "text": [
      "(T):  22%|██▏       | 22/100 [00:20<01:11,  1.10it/s, loss=29.2]"
     ]
    },
    {
     "name": "stdout",
     "output_type": "stream",
     "text": [
      "debias loss\n",
      " tensor(9.7995, device='cuda:0', grad_fn=<MulBackward0>)\n",
      "debias loss\n",
      " tensor(9.8044, device='cuda:0', grad_fn=<MulBackward0>)\n",
      "debias loss\n",
      " tensor(9.8707, device='cuda:0', grad_fn=<MulBackward0>)\n",
      "debias loss\n",
      " tensor(9.8205, device='cuda:0', grad_fn=<MulBackward0>)\n",
      "debias loss\n",
      " tensor(9.8335, device='cuda:0', grad_fn=<MulBackward0>)\n",
      "debias loss\n",
      " tensor(8.4516, device='cuda:0', grad_fn=<MulBackward0>)\n"
     ]
    },
    {
     "name": "stderr",
     "output_type": "stream",
     "text": [
      "(T):  23%|██▎       | 23/100 [00:21<01:07,  1.14it/s, loss=29]  "
     ]
    },
    {
     "name": "stdout",
     "output_type": "stream",
     "text": [
      "debias loss\n",
      " tensor(9.7431, device='cuda:0', grad_fn=<MulBackward0>)\n",
      "debias loss\n",
      " tensor(9.7096, device='cuda:0', grad_fn=<MulBackward0>)\n",
      "debias loss\n",
      " tensor(9.6972, device='cuda:0', grad_fn=<MulBackward0>)\n",
      "debias loss\n",
      " tensor(9.8730, device='cuda:0', grad_fn=<MulBackward0>)\n",
      "debias loss\n",
      " tensor(9.8174, device='cuda:0', grad_fn=<MulBackward0>)\n",
      "debias loss\n",
      " tensor(8.6319, device='cuda:0', grad_fn=<MulBackward0>)\n"
     ]
    },
    {
     "name": "stderr",
     "output_type": "stream",
     "text": [
      "(T):  24%|██▍       | 24/100 [00:22<01:05,  1.16it/s, loss=29]"
     ]
    },
    {
     "name": "stdout",
     "output_type": "stream",
     "text": [
      "debias loss\n",
      " tensor(9.8378, device='cuda:0', grad_fn=<MulBackward0>)\n",
      "debias loss\n",
      " tensor(9.8978, device='cuda:0', grad_fn=<MulBackward0>)\n",
      "debias loss\n",
      " tensor(9.8489, device='cuda:0', grad_fn=<MulBackward0>)\n",
      "debias loss\n",
      " tensor(9.7732, device='cuda:0', grad_fn=<MulBackward0>)\n",
      "debias loss\n",
      " tensor(9.7479, device='cuda:0', grad_fn=<MulBackward0>)\n",
      "debias loss\n",
      " tensor(8.5500, device='cuda:0', grad_fn=<MulBackward0>)\n"
     ]
    },
    {
     "name": "stderr",
     "output_type": "stream",
     "text": [
      "(T):  25%|██▌       | 25/100 [00:23<01:03,  1.18it/s, loss=28.8]"
     ]
    },
    {
     "name": "stdout",
     "output_type": "stream",
     "text": [
      "debias loss\n",
      " tensor(9.9219, device='cuda:0', grad_fn=<MulBackward0>)\n",
      "debias loss\n",
      " tensor(9.7777, device='cuda:0', grad_fn=<MulBackward0>)\n",
      "debias loss\n",
      " tensor(9.8331, device='cuda:0', grad_fn=<MulBackward0>)\n",
      "debias loss\n",
      " tensor(9.8368, device='cuda:0', grad_fn=<MulBackward0>)\n",
      "debias loss\n",
      " tensor(9.7382, device='cuda:0', grad_fn=<MulBackward0>)\n",
      "debias loss\n",
      " tensor(8.4981, device='cuda:0', grad_fn=<MulBackward0>)\n"
     ]
    },
    {
     "name": "stderr",
     "output_type": "stream",
     "text": [
      "(T):  26%|██▌       | 26/100 [00:23<01:01,  1.20it/s, loss=28.5]"
     ]
    },
    {
     "name": "stdout",
     "output_type": "stream",
     "text": [
      "debias loss\n",
      " tensor(9.7780, device='cuda:0', grad_fn=<MulBackward0>)\n",
      "debias loss\n",
      " tensor(9.8985, device='cuda:0', grad_fn=<MulBackward0>)\n",
      "debias loss\n",
      " tensor(9.9958, device='cuda:0', grad_fn=<MulBackward0>)\n",
      "debias loss\n",
      " tensor(9.8655, device='cuda:0', grad_fn=<MulBackward0>)\n"
     ]
    },
    {
     "name": "stderr",
     "output_type": "stream",
     "text": [
      "(T):  27%|██▋       | 27/100 [00:24<01:03,  1.16it/s, loss=28.5]"
     ]
    },
    {
     "name": "stdout",
     "output_type": "stream",
     "text": [
      "debias loss\n",
      " tensor(9.8074, device='cuda:0', grad_fn=<MulBackward0>)\n",
      "debias loss\n",
      " tensor(8.4750, device='cuda:0', grad_fn=<MulBackward0>)\n",
      "debias loss\n",
      " tensor(9.7291, device='cuda:0', grad_fn=<MulBackward0>)\n",
      "debias loss\n",
      " tensor(9.7439, device='cuda:0', grad_fn=<MulBackward0>)\n",
      "debias loss\n",
      " tensor(9.8645, device='cuda:0', grad_fn=<MulBackward0>)\n",
      "debias loss\n",
      " tensor(9.8921, device='cuda:0', grad_fn=<MulBackward0>)\n",
      "debias loss\n",
      " tensor(9.9022, device='cuda:0', grad_fn=<MulBackward0>)\n",
      "debias loss\n",
      " tensor(8.5548, device='cuda:0', grad_fn=<MulBackward0>)\n"
     ]
    },
    {
     "name": "stderr",
     "output_type": "stream",
     "text": [
      "(T):  28%|██▊       | 28/100 [00:25<01:01,  1.18it/s, loss=28.5]"
     ]
    },
    {
     "name": "stdout",
     "output_type": "stream",
     "text": [
      "debias loss\n",
      " tensor(9.8117, device='cuda:0', grad_fn=<MulBackward0>)\n",
      "debias loss\n",
      " tensor(9.8265, device='cuda:0', grad_fn=<MulBackward0>)\n",
      "debias loss\n",
      " tensor(9.9364, device='cuda:0', grad_fn=<MulBackward0>)\n",
      "debias loss\n",
      " tensor(9.9158, device='cuda:0', grad_fn=<MulBackward0>)\n",
      "debias loss\n",
      " tensor(9.9340, device='cuda:0', grad_fn=<MulBackward0>)\n"
     ]
    },
    {
     "name": "stderr",
     "output_type": "stream",
     "text": [
      "(T):  29%|██▉       | 29/100 [00:26<01:03,  1.12it/s, loss=28.2]"
     ]
    },
    {
     "name": "stdout",
     "output_type": "stream",
     "text": [
      "debias loss\n",
      " tensor(8.7467, device='cuda:0', grad_fn=<MulBackward0>)\n",
      "debias loss\n",
      " tensor(9.8970, device='cuda:0', grad_fn=<MulBackward0>)\n",
      "debias loss\n",
      " tensor(9.8800, device='cuda:0', grad_fn=<MulBackward0>)\n",
      "debias loss\n",
      " tensor(9.9134, device='cuda:0', grad_fn=<MulBackward0>)\n",
      "debias loss\n",
      " tensor(9.8596, device='cuda:0', grad_fn=<MulBackward0>)\n",
      "debias loss\n",
      " tensor(9.8430, device='cuda:0', grad_fn=<MulBackward0>)\n",
      "debias loss\n",
      " tensor(8.4206, device='cuda:0', grad_fn=<MulBackward0>)\n"
     ]
    },
    {
     "name": "stderr",
     "output_type": "stream",
     "text": [
      "(T):  30%|███       | 30/100 [00:27<00:58,  1.19it/s, loss=28.1]"
     ]
    },
    {
     "name": "stdout",
     "output_type": "stream",
     "text": [
      "debias loss\n",
      " tensor(9.9084, device='cuda:0', grad_fn=<MulBackward0>)\n",
      "debias loss\n",
      " tensor(9.8815, device='cuda:0', grad_fn=<MulBackward0>)\n",
      "debias loss\n",
      " tensor(9.8551, device='cuda:0', grad_fn=<MulBackward0>)\n",
      "debias loss\n",
      " tensor(9.7207, device='cuda:0', grad_fn=<MulBackward0>)\n",
      "debias loss\n",
      " tensor(9.6387, device='cuda:0', grad_fn=<MulBackward0>)\n",
      "debias loss\n",
      " tensor(8.5639, device='cuda:0', grad_fn=<MulBackward0>)\n"
     ]
    },
    {
     "name": "stderr",
     "output_type": "stream",
     "text": [
      "(T):  31%|███       | 31/100 [00:28<01:01,  1.12it/s, loss=28]  "
     ]
    },
    {
     "name": "stdout",
     "output_type": "stream",
     "text": [
      "debias loss\n",
      " tensor(9.7518, device='cuda:0', grad_fn=<MulBackward0>)\n",
      "debias loss\n",
      " tensor(9.7775, device='cuda:0', grad_fn=<MulBackward0>)\n",
      "debias loss\n",
      " tensor(9.8382, device='cuda:0', grad_fn=<MulBackward0>)\n",
      "debias loss\n",
      " tensor(9.8200, device='cuda:0', grad_fn=<MulBackward0>)\n",
      "debias loss\n",
      " tensor(9.8280, device='cuda:0', grad_fn=<MulBackward0>)\n",
      "debias loss\n",
      " tensor(8.6736, device='cuda:0', grad_fn=<MulBackward0>)\n"
     ]
    },
    {
     "name": "stderr",
     "output_type": "stream",
     "text": [
      "(T):  32%|███▏      | 32/100 [00:29<00:58,  1.17it/s, loss=27.9]"
     ]
    },
    {
     "name": "stdout",
     "output_type": "stream",
     "text": [
      "debias loss\n",
      " tensor(9.7971, device='cuda:0', grad_fn=<MulBackward0>)\n",
      "debias loss\n",
      " tensor(9.8599, device='cuda:0', grad_fn=<MulBackward0>)\n",
      "debias loss\n",
      " tensor(9.9781, device='cuda:0', grad_fn=<MulBackward0>)\n",
      "debias loss\n",
      " tensor(9.8710, device='cuda:0', grad_fn=<MulBackward0>)\n",
      "debias loss\n",
      " tensor(9.9169, device='cuda:0', grad_fn=<MulBackward0>)\n",
      "debias loss\n",
      " tensor(8.5689, device='cuda:0', grad_fn=<MulBackward0>)\n"
     ]
    },
    {
     "name": "stderr",
     "output_type": "stream",
     "text": [
      "(T):  33%|███▎      | 33/100 [00:30<00:59,  1.12it/s, loss=27.8]"
     ]
    },
    {
     "name": "stdout",
     "output_type": "stream",
     "text": [
      "debias loss\n",
      " tensor(9.8072, device='cuda:0', grad_fn=<MulBackward0>)\n",
      "debias loss\n",
      " tensor(9.7875, device='cuda:0', grad_fn=<MulBackward0>)\n",
      "debias loss\n",
      " tensor(9.7200, device='cuda:0', grad_fn=<MulBackward0>)\n",
      "debias loss\n",
      " tensor(9.7878, device='cuda:0', grad_fn=<MulBackward0>)\n",
      "debias loss\n",
      " tensor(9.8046, device='cuda:0', grad_fn=<MulBackward0>)\n",
      "debias loss\n",
      " tensor(8.5734, device='cuda:0', grad_fn=<MulBackward0>)\n"
     ]
    },
    {
     "name": "stderr",
     "output_type": "stream",
     "text": [
      "(T):  34%|███▍      | 34/100 [00:31<00:59,  1.11it/s, loss=27.9]"
     ]
    },
    {
     "name": "stdout",
     "output_type": "stream",
     "text": [
      "debias loss\n",
      " tensor(9.9264, device='cuda:0', grad_fn=<MulBackward0>)\n",
      "debias loss\n",
      " tensor(9.9889, device='cuda:0', grad_fn=<MulBackward0>)\n",
      "debias loss\n",
      " tensor(9.9765, device='cuda:0', grad_fn=<MulBackward0>)\n",
      "debias loss\n",
      " tensor(9.9204, device='cuda:0', grad_fn=<MulBackward0>)\n",
      "debias loss\n",
      " tensor(9.9103, device='cuda:0', grad_fn=<MulBackward0>)\n",
      "debias loss\n",
      " tensor(8.7800, device='cuda:0', grad_fn=<MulBackward0>)\n"
     ]
    },
    {
     "name": "stderr",
     "output_type": "stream",
     "text": [
      "(T):  35%|███▌      | 35/100 [00:32<01:01,  1.06it/s, loss=28]  "
     ]
    },
    {
     "name": "stdout",
     "output_type": "stream",
     "text": [
      "debias loss\n",
      " tensor(9.9862, device='cuda:0', grad_fn=<MulBackward0>)\n",
      "debias loss\n",
      " tensor(9.8040, device='cuda:0', grad_fn=<MulBackward0>)\n",
      "debias loss\n",
      " tensor(9.7575, device='cuda:0', grad_fn=<MulBackward0>)\n",
      "debias loss\n",
      " tensor(9.8079, device='cuda:0', grad_fn=<MulBackward0>)\n",
      "debias loss\n",
      " tensor(9.7850, device='cuda:0', grad_fn=<MulBackward0>)\n",
      "debias loss\n",
      " tensor(8.4865, device='cuda:0', grad_fn=<MulBackward0>)\n"
     ]
    },
    {
     "name": "stderr",
     "output_type": "stream",
     "text": [
      "(T):  36%|███▌      | 36/100 [00:33<01:00,  1.06it/s, loss=27.8]"
     ]
    },
    {
     "name": "stdout",
     "output_type": "stream",
     "text": [
      "debias loss\n",
      " tensor(9.8429, device='cuda:0', grad_fn=<MulBackward0>)\n",
      "debias loss\n",
      " tensor(9.7743, device='cuda:0', grad_fn=<MulBackward0>)\n",
      "debias loss\n",
      " tensor(9.8451, device='cuda:0', grad_fn=<MulBackward0>)\n",
      "debias loss\n",
      " tensor(9.9003, device='cuda:0', grad_fn=<MulBackward0>)\n"
     ]
    },
    {
     "name": "stderr",
     "output_type": "stream",
     "text": [
      "(T):  37%|███▋      | 37/100 [00:34<00:58,  1.08it/s, loss=27.5]"
     ]
    },
    {
     "name": "stdout",
     "output_type": "stream",
     "text": [
      "debias loss\n",
      " tensor(9.8850, device='cuda:0', grad_fn=<MulBackward0>)\n",
      "debias loss\n",
      " tensor(8.7373, device='cuda:0', grad_fn=<MulBackward0>)\n",
      "debias loss\n",
      " tensor(9.8807, device='cuda:0', grad_fn=<MulBackward0>)\n",
      "debias loss\n",
      " tensor(9.8640, device='cuda:0', grad_fn=<MulBackward0>)\n",
      "debias loss\n",
      " tensor(9.9369, device='cuda:0', grad_fn=<MulBackward0>)\n",
      "debias loss\n",
      " "
     ]
    },
    {
     "name": "stderr",
     "output_type": "stream",
     "text": [
      "(T):  38%|███▊      | 38/100 [00:34<00:57,  1.08it/s, loss=27.6]"
     ]
    },
    {
     "name": "stdout",
     "output_type": "stream",
     "text": [
      "tensor(9.9564, device='cuda:0', grad_fn=<MulBackward0>)\n",
      "debias loss\n",
      " tensor(9.8588, device='cuda:0', grad_fn=<MulBackward0>)\n",
      "debias loss\n",
      " tensor(8.7563, device='cuda:0', grad_fn=<MulBackward0>)\n",
      "debias loss\n",
      " tensor(9.7805, device='cuda:0', grad_fn=<MulBackward0>)\n",
      "debias loss\n",
      " tensor(9.7290, device='cuda:0', grad_fn=<MulBackward0>)\n",
      "debias loss\n",
      " tensor(9.6679, device='cuda:0', grad_fn=<MulBackward0>)\n",
      "debias loss\n",
      " tensor(9.7165, device='cuda:0', grad_fn=<MulBackward0>)\n",
      "debias loss\n",
      " tensor(9.8087, device='cuda:0', grad_fn=<MulBackward0>)\n",
      "debias loss\n",
      " tensor(8.8145, device='cuda:0', grad_fn=<MulBackward0>)\n"
     ]
    },
    {
     "name": "stderr",
     "output_type": "stream",
     "text": [
      "(T):  39%|███▉      | 39/100 [00:35<00:56,  1.08it/s, loss=27.5]"
     ]
    },
    {
     "name": "stdout",
     "output_type": "stream",
     "text": [
      "debias loss\n",
      " tensor(9.8906, device='cuda:0', grad_fn=<MulBackward0>)\n",
      "debias loss\n",
      " tensor(9.8961, device='cuda:0', grad_fn=<MulBackward0>)\n",
      "debias loss\n",
      " tensor(9.9251, device='cuda:0', grad_fn=<MulBackward0>)\n",
      "debias loss\n",
      " tensor(9.8732, device='cuda:0', grad_fn=<MulBackward0>)\n"
     ]
    },
    {
     "name": "stderr",
     "output_type": "stream",
     "text": [
      "(T):  40%|████      | 40/100 [00:36<00:55,  1.07it/s, loss=27.5]"
     ]
    },
    {
     "name": "stdout",
     "output_type": "stream",
     "text": [
      "debias loss\n",
      " tensor(9.7978, device='cuda:0', grad_fn=<MulBackward0>)\n",
      "debias loss\n",
      " tensor(8.6032, device='cuda:0', grad_fn=<MulBackward0>)\n",
      "debias loss\n",
      " tensor(9.6861, device='cuda:0', grad_fn=<MulBackward0>)\n",
      "debias loss\n",
      " tensor(9.6583, device='cuda:0', grad_fn=<MulBackward0>)\n",
      "debias loss\n",
      " tensor(9.6966, device='cuda:0', grad_fn=<MulBackward0>)\n",
      "debias loss\n",
      " tensor(9.7703, device='cuda:0', grad_fn=<MulBackward0>)\n",
      "debias loss\n",
      " tensor(9.7713, device='cuda:0', grad_fn=<MulBackward0>)\n",
      "debias loss\n",
      " tensor(8.6210, device='cuda:0', grad_fn=<MulBackward0>)\n"
     ]
    },
    {
     "name": "stderr",
     "output_type": "stream",
     "text": [
      "(T):  41%|████      | 41/100 [00:37<00:55,  1.06it/s, loss=27.5]"
     ]
    },
    {
     "name": "stdout",
     "output_type": "stream",
     "text": [
      "debias loss\n",
      " tensor(9.6857, device='cuda:0', grad_fn=<MulBackward0>)\n",
      "debias loss\n",
      " tensor(9.7483, device='cuda:0', grad_fn=<MulBackward0>)\n",
      "debias loss\n",
      " tensor(9.6919, device='cuda:0', grad_fn=<MulBackward0>)\n",
      "debias loss\n",
      " tensor(9.6397, device='cuda:0', grad_fn=<MulBackward0>)\n",
      "debias loss\n",
      " tensor(9.6558, device='cuda:0', grad_fn=<MulBackward0>)\n",
      "debias loss\n",
      " tensor(8.5270, device='cuda:0', grad_fn=<MulBackward0>)\n"
     ]
    },
    {
     "name": "stderr",
     "output_type": "stream",
     "text": [
      "(T):  42%|████▏     | 42/100 [00:38<00:51,  1.12it/s, loss=27.4]"
     ]
    },
    {
     "name": "stdout",
     "output_type": "stream",
     "text": [
      "debias loss\n",
      " tensor(9.7454, device='cuda:0', grad_fn=<MulBackward0>)\n",
      "debias loss\n",
      " tensor(9.8864, device='cuda:0', grad_fn=<MulBackward0>)\n",
      "debias loss\n",
      " tensor(9.8224, device='cuda:0', grad_fn=<MulBackward0>)\n",
      "debias loss\n",
      " tensor(9.7650, device='cuda:0', grad_fn=<MulBackward0>)\n",
      "debias loss\n",
      " "
     ]
    },
    {
     "name": "stderr",
     "output_type": "stream",
     "text": [
      "(T):  43%|████▎     | 43/100 [00:39<00:51,  1.11it/s, loss=27.5]"
     ]
    },
    {
     "name": "stdout",
     "output_type": "stream",
     "text": [
      "tensor(9.5780, device='cuda:0', grad_fn=<MulBackward0>)\n",
      "debias loss\n",
      " tensor(8.4066, device='cuda:0', grad_fn=<MulBackward0>)\n",
      "debias loss\n",
      " tensor(9.5579, device='cuda:0', grad_fn=<MulBackward0>)\n",
      "debias loss\n",
      " tensor(9.6619, device='cuda:0', grad_fn=<MulBackward0>)\n",
      "debias loss\n",
      " tensor(9.7523, device='cuda:0', grad_fn=<MulBackward0>)\n",
      "debias loss\n",
      " tensor(9.8146, device='cuda:0', grad_fn=<MulBackward0>)\n",
      "debias loss\n",
      " tensor(9.6930, device='cuda:0', grad_fn=<MulBackward0>)\n",
      "debias loss\n",
      " tensor(8.5096, device='cuda:0', grad_fn=<MulBackward0>)\n"
     ]
    },
    {
     "name": "stderr",
     "output_type": "stream",
     "text": [
      "(T):  44%|████▍     | 44/100 [00:40<00:51,  1.09it/s, loss=27.4]"
     ]
    },
    {
     "name": "stdout",
     "output_type": "stream",
     "text": [
      "debias loss\n",
      " tensor(9.5343, device='cuda:0', grad_fn=<MulBackward0>)\n",
      "debias loss\n",
      " tensor(9.6566, device='cuda:0', grad_fn=<MulBackward0>)\n",
      "debias loss\n",
      " tensor(9.6886, device='cuda:0', grad_fn=<MulBackward0>)\n",
      "debias loss\n",
      " tensor(9.8175, device='cuda:0', grad_fn=<MulBackward0>)\n",
      "debias loss\n",
      " tensor(9.7409, device='cuda:0', grad_fn=<MulBackward0>)\n",
      "debias loss\n",
      " tensor(8.4876, device='cuda:0', grad_fn=<MulBackward0>)\n"
     ]
    },
    {
     "name": "stderr",
     "output_type": "stream",
     "text": [
      "(T):  45%|████▌     | 45/100 [00:41<00:48,  1.13it/s, loss=27.5]"
     ]
    },
    {
     "name": "stdout",
     "output_type": "stream",
     "text": [
      "debias loss\n",
      " tensor(9.6245, device='cuda:0', grad_fn=<MulBackward0>)\n",
      "debias loss\n",
      " tensor(9.7226, device='cuda:0', grad_fn=<MulBackward0>)\n",
      "debias loss\n",
      " tensor(9.7457, device='cuda:0', grad_fn=<MulBackward0>)\n",
      "debias loss\n",
      " tensor(9.7308, device='cuda:0', grad_fn=<MulBackward0>)\n",
      "debias loss\n",
      " tensor(9.7914, device='cuda:0', grad_fn=<MulBackward0>)\n",
      "debias loss\n",
      " tensor(8.5058, device='cuda:0', grad_fn=<MulBackward0>)\n"
     ]
    },
    {
     "name": "stderr",
     "output_type": "stream",
     "text": [
      "(T):  46%|████▌     | 46/100 [00:42<00:47,  1.13it/s, loss=27.3]"
     ]
    },
    {
     "name": "stdout",
     "output_type": "stream",
     "text": [
      "debias loss\n",
      " tensor(9.8035, device='cuda:0', grad_fn=<MulBackward0>)\n",
      "debias loss\n",
      " tensor(9.7110, device='cuda:0', grad_fn=<MulBackward0>)\n",
      "debias loss\n",
      " tensor(9.6196, device='cuda:0', grad_fn=<MulBackward0>)\n",
      "debias loss\n",
      " tensor(9.6576, device='cuda:0', grad_fn=<MulBackward0>)\n",
      "debias loss\n",
      " tensor(9.6588, device='cuda:0', grad_fn=<MulBackward0>)\n",
      "debias loss\n",
      " tensor(8.5877, device='cuda:0', grad_fn=<MulBackward0>)\n"
     ]
    },
    {
     "name": "stderr",
     "output_type": "stream",
     "text": [
      "(T):  47%|████▋     | 47/100 [00:42<00:45,  1.16it/s, loss=27]  "
     ]
    },
    {
     "name": "stdout",
     "output_type": "stream",
     "text": [
      "debias loss\n",
      " tensor(9.7454, device='cuda:0', grad_fn=<MulBackward0>)\n",
      "debias loss\n",
      " tensor(9.6632, device='cuda:0', grad_fn=<MulBackward0>)\n",
      "debias loss\n",
      " tensor(9.6589, device='cuda:0', grad_fn=<MulBackward0>)\n",
      "debias loss\n",
      " tensor(9.6364, device='cuda:0', grad_fn=<MulBackward0>)\n",
      "debias loss\n",
      " tensor(9.6145, device='cuda:0', grad_fn=<MulBackward0>)\n"
     ]
    },
    {
     "name": "stderr",
     "output_type": "stream",
     "text": [
      "(T):  48%|████▊     | 48/100 [00:43<00:45,  1.14it/s, loss=27.1]"
     ]
    },
    {
     "name": "stdout",
     "output_type": "stream",
     "text": [
      "debias loss\n",
      " tensor(8.2817, device='cuda:0', grad_fn=<MulBackward0>)\n",
      "debias loss\n",
      " tensor(9.6524, device='cuda:0', grad_fn=<MulBackward0>)\n",
      "debias loss\n",
      " tensor(9.6929, device='cuda:0', grad_fn=<MulBackward0>)\n",
      "debias loss\n",
      " tensor(9.6927, device='cuda:0', grad_fn=<MulBackward0>)\n",
      "debias loss\n",
      " tensor(9.6393, device='cuda:0', grad_fn=<MulBackward0>)\n",
      "debias loss\n",
      " tensor(9.6093, device='cuda:0', grad_fn=<MulBackward0>)\n",
      "debias loss\n",
      " tensor(8.3731, device='cuda:0', grad_fn=<MulBackward0>)\n"
     ]
    },
    {
     "name": "stderr",
     "output_type": "stream",
     "text": [
      "(T):  49%|████▉     | 49/100 [00:44<00:42,  1.19it/s, loss=27.2]"
     ]
    },
    {
     "name": "stdout",
     "output_type": "stream",
     "text": [
      "debias loss\n",
      " tensor(9.5328, device='cuda:0', grad_fn=<MulBackward0>)\n",
      "debias loss\n",
      " tensor(9.5263, device='cuda:0', grad_fn=<MulBackward0>)\n",
      "debias loss\n",
      " tensor(9.5553, device='cuda:0', grad_fn=<MulBackward0>)\n",
      "debias loss\n",
      " tensor(9.5838, device='cuda:0', grad_fn=<MulBackward0>)\n",
      "debias loss\n",
      " tensor(9.6147, device='cuda:0', grad_fn=<MulBackward0>)\n",
      "debias loss\n",
      " tensor(8.4470, device='cuda:0', grad_fn=<MulBackward0>)\n"
     ]
    },
    {
     "name": "stderr",
     "output_type": "stream",
     "text": [
      "(T):  50%|█████     | 50/100 [00:45<00:44,  1.12it/s, loss=27]  "
     ]
    },
    {
     "name": "stdout",
     "output_type": "stream",
     "text": [
      "debias loss\n",
      " tensor(9.7179, device='cuda:0', grad_fn=<MulBackward0>)\n",
      "debias loss\n",
      " tensor(9.6362, device='cuda:0', grad_fn=<MulBackward0>)\n",
      "debias loss\n",
      " tensor(9.6673, device='cuda:0', grad_fn=<MulBackward0>)\n",
      "debias loss\n",
      " tensor(9.6616, device='cuda:0', grad_fn=<MulBackward0>)\n",
      "debias loss\n",
      " tensor(9.7066, device='cuda:0', grad_fn=<MulBackward0>)\n",
      "debias loss\n",
      " tensor(8.3617, device='cuda:0', grad_fn=<MulBackward0>)\n"
     ]
    },
    {
     "name": "stderr",
     "output_type": "stream",
     "text": [
      "(T):  51%|█████     | 51/100 [00:46<00:40,  1.20it/s, loss=27.1]"
     ]
    },
    {
     "name": "stdout",
     "output_type": "stream",
     "text": [
      "debias loss\n",
      " tensor(9.6898, device='cuda:0', grad_fn=<MulBackward0>)\n",
      "debias loss\n",
      " tensor(9.6045, device='cuda:0', grad_fn=<MulBackward0>)\n",
      "debias loss\n",
      " tensor(9.5338, device='cuda:0', grad_fn=<MulBackward0>)\n",
      "debias loss\n",
      " tensor(9.5183, device='cuda:0', grad_fn=<MulBackward0>)\n"
     ]
    },
    {
     "name": "stderr",
     "output_type": "stream",
     "text": [
      "(T):  52%|█████▏    | 52/100 [00:47<00:42,  1.12it/s, loss=26.9]"
     ]
    },
    {
     "name": "stdout",
     "output_type": "stream",
     "text": [
      "debias loss\n",
      " tensor(9.5204, device='cuda:0', grad_fn=<MulBackward0>)\n",
      "debias loss\n",
      " tensor(8.4997, device='cuda:0', grad_fn=<MulBackward0>)\n",
      "debias loss\n",
      " tensor(9.8077, device='cuda:0', grad_fn=<MulBackward0>)\n",
      "debias loss\n",
      " tensor(9.7357, device='cuda:0', grad_fn=<MulBackward0>)\n",
      "debias loss\n",
      " tensor(9.6161, device='cuda:0', grad_fn=<MulBackward0>)\n",
      "debias loss\n",
      " tensor(9.5970, device='cuda:0', grad_fn=<MulBackward0>)\n",
      "debias loss\n",
      " tensor(9.6476, device='cuda:0', grad_fn=<MulBackward0>)\n",
      "debias loss\n",
      " tensor(8.5391, device='cuda:0', grad_fn=<MulBackward0>)\n"
     ]
    },
    {
     "name": "stderr",
     "output_type": "stream",
     "text": [
      "(T):  53%|█████▎    | 53/100 [00:48<00:39,  1.19it/s, loss=27]  "
     ]
    },
    {
     "name": "stdout",
     "output_type": "stream",
     "text": [
      "debias loss\n",
      " tensor(9.8197, device='cuda:0', grad_fn=<MulBackward0>)\n",
      "debias loss\n",
      " tensor(9.7101, device='cuda:0', grad_fn=<MulBackward0>)\n",
      "debias loss\n",
      " tensor(9.7883, device='cuda:0', grad_fn=<MulBackward0>)\n",
      "debias loss\n",
      " tensor(9.7748, device='cuda:0', grad_fn=<MulBackward0>)\n",
      "debias loss\n",
      " tensor(9.7653, device='cuda:0', grad_fn=<MulBackward0>)\n",
      "debias loss\n",
      " "
     ]
    },
    {
     "name": "stderr",
     "output_type": "stream",
     "text": [
      "(T):  54%|█████▍    | 54/100 [00:48<00:39,  1.17it/s, loss=26.9]"
     ]
    },
    {
     "name": "stdout",
     "output_type": "stream",
     "text": [
      "tensor(8.6264, device='cuda:0', grad_fn=<MulBackward0>)\n",
      "debias loss\n",
      " tensor(9.7905, device='cuda:0', grad_fn=<MulBackward0>)\n",
      "debias loss\n",
      " tensor(9.8679, device='cuda:0', grad_fn=<MulBackward0>)\n",
      "debias loss\n",
      " tensor(9.9400, device='cuda:0', grad_fn=<MulBackward0>)\n",
      "debias loss\n",
      " tensor(9.8623, device='cuda:0', grad_fn=<MulBackward0>)\n",
      "debias loss\n",
      " tensor(9.6970, device='cuda:0', grad_fn=<MulBackward0>)\n",
      "debias loss\n",
      " tensor(8.4705, device='cuda:0', grad_fn=<MulBackward0>)\n"
     ]
    },
    {
     "name": "stderr",
     "output_type": "stream",
     "text": [
      "(T):  55%|█████▌    | 55/100 [00:49<00:36,  1.22it/s, loss=26.9]"
     ]
    },
    {
     "name": "stdout",
     "output_type": "stream",
     "text": [
      "debias loss\n",
      " tensor(9.7050, device='cuda:0', grad_fn=<MulBackward0>)\n",
      "debias loss\n",
      " tensor(9.8124, device='cuda:0', grad_fn=<MulBackward0>)\n",
      "debias loss\n",
      " tensor(9.8557, device='cuda:0', grad_fn=<MulBackward0>)\n",
      "debias loss\n",
      " tensor(9.9807, device='cuda:0', grad_fn=<MulBackward0>)\n",
      "debias loss\n",
      " tensor(9.8575, device='cuda:0', grad_fn=<MulBackward0>)\n",
      "debias loss\n",
      " tensor(8.5443, device='cuda:0', grad_fn=<MulBackward0>)\n"
     ]
    },
    {
     "name": "stderr",
     "output_type": "stream",
     "text": [
      "(T):  56%|█████▌    | 56/100 [00:50<00:38,  1.15it/s, loss=26.8]"
     ]
    },
    {
     "name": "stdout",
     "output_type": "stream",
     "text": [
      "debias loss\n",
      " tensor(9.7652, device='cuda:0', grad_fn=<MulBackward0>)\n",
      "debias loss\n",
      " tensor(9.6891, device='cuda:0', grad_fn=<MulBackward0>)\n",
      "debias loss\n",
      " tensor(9.7414, device='cuda:0', grad_fn=<MulBackward0>)\n",
      "debias loss\n",
      " tensor(9.8585, device='cuda:0', grad_fn=<MulBackward0>)\n"
     ]
    },
    {
     "name": "stderr",
     "output_type": "stream",
     "text": [
      "(T):  57%|█████▋    | 57/100 [00:51<00:38,  1.10it/s, loss=26.9]"
     ]
    },
    {
     "name": "stdout",
     "output_type": "stream",
     "text": [
      "debias loss\n",
      " tensor(9.7998, device='cuda:0', grad_fn=<MulBackward0>)\n",
      "debias loss\n",
      " tensor(8.5160, device='cuda:0', grad_fn=<MulBackward0>)\n",
      "debias loss\n",
      " tensor(9.7888, device='cuda:0', grad_fn=<MulBackward0>)\n",
      "debias loss\n",
      " tensor(9.7995, device='cuda:0', grad_fn=<MulBackward0>)\n",
      "debias loss\n",
      " tensor(9.7903, device='cuda:0', grad_fn=<MulBackward0>)\n",
      "debias loss\n",
      " tensor(9.8583, device='cuda:0', grad_fn=<MulBackward0>)\n",
      "debias loss\n",
      " tensor(9.7850, device='cuda:0', grad_fn=<MulBackward0>)\n",
      "debias loss\n",
      " tensor(8.5792, device='cuda:0', grad_fn=<MulBackward0>)\n"
     ]
    },
    {
     "name": "stderr",
     "output_type": "stream",
     "text": [
      "(T):  58%|█████▊    | 58/100 [00:52<00:38,  1.09it/s, loss=26.8]"
     ]
    },
    {
     "name": "stdout",
     "output_type": "stream",
     "text": [
      "debias loss\n",
      " tensor(9.7363, device='cuda:0', grad_fn=<MulBackward0>)\n",
      "debias loss\n",
      " tensor(9.7644, device='cuda:0', grad_fn=<MulBackward0>)\n",
      "debias loss\n",
      " tensor(9.7814, device='cuda:0', grad_fn=<MulBackward0>)\n",
      "debias loss\n",
      " tensor(9.8613, device='cuda:0', grad_fn=<MulBackward0>)\n"
     ]
    },
    {
     "name": "stderr",
     "output_type": "stream",
     "text": [
      "(T):  59%|█████▉    | 59/100 [00:53<00:37,  1.10it/s, loss=26.6]"
     ]
    },
    {
     "name": "stdout",
     "output_type": "stream",
     "text": [
      "debias loss\n",
      " tensor(9.8273, device='cuda:0', grad_fn=<MulBackward0>)\n",
      "debias loss\n",
      " tensor(8.7029, device='cuda:0', grad_fn=<MulBackward0>)\n",
      "debias loss\n",
      " tensor(9.8977, device='cuda:0', grad_fn=<MulBackward0>)\n",
      "debias loss\n",
      " tensor(9.9039, device='cuda:0', grad_fn=<MulBackward0>)\n",
      "debias loss\n",
      " tensor(9.9085, device='cuda:0', grad_fn=<MulBackward0>)\n",
      "debias loss\n",
      " tensor(9.9244, device='cuda:0', grad_fn=<MulBackward0>)\n",
      "debias loss\n",
      " tensor(9.8515, device='cuda:0', grad_fn=<MulBackward0>)\n",
      "debias loss\n",
      " tensor(8.5151, device='cuda:0', grad_fn=<MulBackward0>)\n"
     ]
    },
    {
     "name": "stderr",
     "output_type": "stream",
     "text": [
      "(T):  60%|██████    | 60/100 [00:54<00:37,  1.07it/s, loss=26.6]"
     ]
    },
    {
     "name": "stdout",
     "output_type": "stream",
     "text": [
      "debias loss\n",
      " tensor(9.8072, device='cuda:0', grad_fn=<MulBackward0>)\n",
      "debias loss\n",
      " tensor(9.7484, device='cuda:0', grad_fn=<MulBackward0>)\n",
      "debias loss\n",
      " tensor(9.7974, device='cuda:0', grad_fn=<MulBackward0>)\n",
      "debias loss\n",
      " tensor(9.8642, device='cuda:0', grad_fn=<MulBackward0>)\n",
      "debias loss\n",
      " tensor(9.9115, device='cuda:0', grad_fn=<MulBackward0>)\n",
      "debias loss\n",
      " tensor(8.6498, device='cuda:0', grad_fn=<MulBackward0>)\n"
     ]
    },
    {
     "name": "stderr",
     "output_type": "stream",
     "text": [
      "(T):  61%|██████    | 61/100 [00:55<00:36,  1.05it/s, loss=26.6]"
     ]
    },
    {
     "name": "stdout",
     "output_type": "stream",
     "text": [
      "debias loss\n",
      " tensor(9.8523, device='cuda:0', grad_fn=<MulBackward0>)\n",
      "debias loss\n",
      " tensor(9.8268, device='cuda:0', grad_fn=<MulBackward0>)\n",
      "debias loss\n",
      " tensor(9.8653, device='cuda:0', grad_fn=<MulBackward0>)\n",
      "debias loss\n",
      " tensor(9.8380, device='cuda:0', grad_fn=<MulBackward0>)\n",
      "debias loss\n",
      " tensor(9.8342, device='cuda:0', grad_fn=<MulBackward0>)\n",
      "debias loss\n",
      " tensor(8.6233, device='cuda:0', grad_fn=<MulBackward0>)\n"
     ]
    },
    {
     "name": "stderr",
     "output_type": "stream",
     "text": [
      "(T):  62%|██████▏   | 62/100 [00:56<00:36,  1.04it/s, loss=26.6]"
     ]
    },
    {
     "name": "stdout",
     "output_type": "stream",
     "text": [
      "debias loss\n",
      " tensor(9.8545, device='cuda:0', grad_fn=<MulBackward0>)\n",
      "debias loss\n",
      " tensor(9.8125, device='cuda:0', grad_fn=<MulBackward0>)\n",
      "debias loss\n",
      " tensor(9.8460, device='cuda:0', grad_fn=<MulBackward0>)\n",
      "debias loss\n",
      " tensor(9.8290, device='cuda:0', grad_fn=<MulBackward0>)\n"
     ]
    },
    {
     "name": "stderr",
     "output_type": "stream",
     "text": [
      "(T):  63%|██████▎   | 63/100 [00:57<00:35,  1.05it/s, loss=26.6]"
     ]
    },
    {
     "name": "stdout",
     "output_type": "stream",
     "text": [
      "debias loss\n",
      " tensor(9.8009, device='cuda:0', grad_fn=<MulBackward0>)\n",
      "debias loss\n",
      " tensor(8.5009, device='cuda:0', grad_fn=<MulBackward0>)\n",
      "debias loss\n",
      " tensor(9.8296, device='cuda:0', grad_fn=<MulBackward0>)\n",
      "debias loss\n",
      " tensor(9.7737, device='cuda:0', grad_fn=<MulBackward0>)\n",
      "debias loss\n",
      " tensor(9.7344, device='cuda:0', grad_fn=<MulBackward0>)\n",
      "debias loss\n",
      " "
     ]
    },
    {
     "name": "stderr",
     "output_type": "stream",
     "text": [
      "(T):  64%|██████▍   | 64/100 [00:58<00:34,  1.04it/s, loss=26.6]"
     ]
    },
    {
     "name": "stdout",
     "output_type": "stream",
     "text": [
      "tensor(9.7039, device='cuda:0', grad_fn=<MulBackward0>)\n",
      "debias loss\n",
      " tensor(9.6715, device='cuda:0', grad_fn=<MulBackward0>)\n",
      "debias loss\n",
      " tensor(8.5679, device='cuda:0', grad_fn=<MulBackward0>)\n",
      "debias loss\n",
      " tensor(9.8376, device='cuda:0', grad_fn=<MulBackward0>)\n",
      "debias loss\n",
      " tensor(9.8791, device='cuda:0', grad_fn=<MulBackward0>)\n",
      "debias loss\n",
      " tensor(9.8161, device='cuda:0', grad_fn=<MulBackward0>)\n",
      "debias loss\n",
      " tensor(9.9345, device='cuda:0', grad_fn=<MulBackward0>)\n",
      "debias loss\n",
      " tensor(9.8400, device='cuda:0', grad_fn=<MulBackward0>)\n",
      "debias loss\n",
      " tensor(8.6025, device='cuda:0', grad_fn=<MulBackward0>)\n"
     ]
    },
    {
     "name": "stderr",
     "output_type": "stream",
     "text": [
      "(T):  65%|██████▌   | 65/100 [00:59<00:31,  1.12it/s, loss=26.6]"
     ]
    },
    {
     "name": "stdout",
     "output_type": "stream",
     "text": [
      "debias loss\n",
      " tensor(9.8182, device='cuda:0', grad_fn=<MulBackward0>)\n",
      "debias loss\n",
      " tensor(9.7412, device='cuda:0', grad_fn=<MulBackward0>)\n",
      "debias loss\n",
      " tensor(9.7545, device='cuda:0', grad_fn=<MulBackward0>)\n",
      "debias loss\n",
      " tensor(9.8251, device='cuda:0', grad_fn=<MulBackward0>)\n",
      "debias loss\n",
      " "
     ]
    },
    {
     "name": "stderr",
     "output_type": "stream",
     "text": [
      "(T):  66%|██████▌   | 66/100 [00:59<00:30,  1.12it/s, loss=26.6]"
     ]
    },
    {
     "name": "stdout",
     "output_type": "stream",
     "text": [
      "tensor(9.8506, device='cuda:0', grad_fn=<MulBackward0>)\n",
      "debias loss\n",
      " tensor(8.6705, device='cuda:0', grad_fn=<MulBackward0>)\n",
      "debias loss\n",
      " tensor(9.8009, device='cuda:0', grad_fn=<MulBackward0>)\n",
      "debias loss\n",
      " tensor(9.7289, device='cuda:0', grad_fn=<MulBackward0>)\n",
      "debias loss\n",
      " tensor(9.7976, device='cuda:0', grad_fn=<MulBackward0>)\n",
      "debias loss\n",
      " tensor(9.8198, device='cuda:0', grad_fn=<MulBackward0>)\n",
      "debias loss\n",
      " tensor(9.7111, device='cuda:0', grad_fn=<MulBackward0>)\n",
      "debias loss\n",
      " tensor(8.5421, device='cuda:0', grad_fn=<MulBackward0>)\n"
     ]
    },
    {
     "name": "stderr",
     "output_type": "stream",
     "text": [
      "(T):  67%|██████▋   | 67/100 [01:00<00:30,  1.09it/s, loss=26.5]"
     ]
    },
    {
     "name": "stdout",
     "output_type": "stream",
     "text": [
      "debias loss\n",
      " tensor(9.8510, device='cuda:0', grad_fn=<MulBackward0>)\n",
      "debias loss\n",
      " tensor(9.7859, device='cuda:0', grad_fn=<MulBackward0>)\n",
      "debias loss\n",
      " tensor(9.8020, device='cuda:0', grad_fn=<MulBackward0>)\n",
      "debias loss\n",
      " tensor(9.7972, device='cuda:0', grad_fn=<MulBackward0>)\n",
      "debias loss\n",
      " "
     ]
    },
    {
     "name": "stderr",
     "output_type": "stream",
     "text": [
      "(T):  68%|██████▊   | 68/100 [01:01<00:29,  1.09it/s, loss=26.4]"
     ]
    },
    {
     "name": "stdout",
     "output_type": "stream",
     "text": [
      "tensor(9.9143, device='cuda:0', grad_fn=<MulBackward0>)\n",
      "debias loss\n",
      " tensor(8.6463, device='cuda:0', grad_fn=<MulBackward0>)\n",
      "debias loss\n",
      " tensor(9.9419, device='cuda:0', grad_fn=<MulBackward0>)\n",
      "debias loss\n",
      " tensor(9.8907, device='cuda:0', grad_fn=<MulBackward0>)\n",
      "debias loss\n",
      " tensor(9.8054, device='cuda:0', grad_fn=<MulBackward0>)\n",
      "debias loss\n",
      " tensor(9.7494, device='cuda:0', grad_fn=<MulBackward0>)\n",
      "debias loss\n",
      " tensor(9.7407, device='cuda:0', grad_fn=<MulBackward0>)\n",
      "debias loss\n",
      " tensor(8.5571, device='cuda:0', grad_fn=<MulBackward0>)\n"
     ]
    },
    {
     "name": "stderr",
     "output_type": "stream",
     "text": [
      "(T):  69%|██████▉   | 69/100 [01:02<00:26,  1.15it/s, loss=26.5]"
     ]
    },
    {
     "name": "stdout",
     "output_type": "stream",
     "text": [
      "debias loss\n",
      " tensor(9.6763, device='cuda:0', grad_fn=<MulBackward0>)\n",
      "debias loss\n",
      " tensor(9.7829, device='cuda:0', grad_fn=<MulBackward0>)\n",
      "debias loss\n",
      " tensor(9.8080, device='cuda:0', grad_fn=<MulBackward0>)\n",
      "debias loss\n",
      " tensor(9.8886, device='cuda:0', grad_fn=<MulBackward0>)\n",
      "debias loss\n",
      " tensor(9.9259, device='cuda:0', grad_fn=<MulBackward0>)\n"
     ]
    },
    {
     "name": "stderr",
     "output_type": "stream",
     "text": [
      "(T):  70%|███████   | 70/100 [01:03<00:26,  1.14it/s, loss=26.6]"
     ]
    },
    {
     "name": "stdout",
     "output_type": "stream",
     "text": [
      "debias loss\n",
      " tensor(8.8032, device='cuda:0', grad_fn=<MulBackward0>)\n",
      "debias loss\n",
      " tensor(9.7434, device='cuda:0', grad_fn=<MulBackward0>)\n",
      "debias loss\n",
      " tensor(9.8419, device='cuda:0', grad_fn=<MulBackward0>)\n",
      "debias loss\n",
      " tensor(9.7844, device='cuda:0', grad_fn=<MulBackward0>)\n",
      "debias loss\n",
      " tensor(9.8051, device='cuda:0', grad_fn=<MulBackward0>)\n",
      "debias loss\n",
      " tensor(9.7895, device='cuda:0', grad_fn=<MulBackward0>)\n",
      "debias loss\n",
      " tensor(8.5850, device='cuda:0', grad_fn=<MulBackward0>)\n"
     ]
    },
    {
     "name": "stderr",
     "output_type": "stream",
     "text": [
      "(T):  71%|███████   | 71/100 [01:04<00:24,  1.17it/s, loss=26.3]"
     ]
    },
    {
     "name": "stdout",
     "output_type": "stream",
     "text": [
      "debias loss\n",
      " tensor(9.7932, device='cuda:0', grad_fn=<MulBackward0>)\n",
      "debias loss\n",
      " tensor(9.7299, device='cuda:0', grad_fn=<MulBackward0>)\n",
      "debias loss\n",
      " tensor(9.7769, device='cuda:0', grad_fn=<MulBackward0>)\n",
      "debias loss\n",
      " tensor(9.7660, device='cuda:0', grad_fn=<MulBackward0>)\n",
      "debias loss\n",
      " tensor(9.8707, device='cuda:0', grad_fn=<MulBackward0>)\n",
      "debias loss\n",
      " tensor(8.7751, device='cuda:0', grad_fn=<MulBackward0>)\n"
     ]
    },
    {
     "name": "stderr",
     "output_type": "stream",
     "text": [
      "(T):  72%|███████▏  | 72/100 [01:05<00:24,  1.15it/s, loss=26.4]"
     ]
    },
    {
     "name": "stdout",
     "output_type": "stream",
     "text": [
      "debias loss\n",
      " tensor(9.9368, device='cuda:0', grad_fn=<MulBackward0>)\n",
      "debias loss\n",
      " tensor(9.9427, device='cuda:0', grad_fn=<MulBackward0>)\n",
      "debias loss\n",
      " tensor(9.8958, device='cuda:0', grad_fn=<MulBackward0>)\n",
      "debias loss\n",
      " tensor(9.8799, device='cuda:0', grad_fn=<MulBackward0>)\n",
      "debias loss\n",
      " tensor(9.8192, device='cuda:0', grad_fn=<MulBackward0>)\n",
      "debias loss\n",
      " tensor(8.7264, device='cuda:0', grad_fn=<MulBackward0>)\n"
     ]
    },
    {
     "name": "stderr",
     "output_type": "stream",
     "text": [
      "(T):  73%|███████▎  | 73/100 [01:06<00:23,  1.17it/s, loss=26.5]"
     ]
    },
    {
     "name": "stdout",
     "output_type": "stream",
     "text": [
      "debias loss\n",
      " tensor(9.8341, device='cuda:0', grad_fn=<MulBackward0>)\n",
      "debias loss\n",
      " tensor(9.8367, device='cuda:0', grad_fn=<MulBackward0>)\n",
      "debias loss\n",
      " tensor(9.8372, device='cuda:0', grad_fn=<MulBackward0>)\n",
      "debias loss\n",
      " tensor(9.8704, device='cuda:0', grad_fn=<MulBackward0>)\n",
      "debias loss\n",
      " tensor(9.9105, device='cuda:0', grad_fn=<MulBackward0>)\n",
      "debias loss\n",
      " tensor(8.7135, device='cuda:0', grad_fn=<MulBackward0>)\n"
     ]
    },
    {
     "name": "stderr",
     "output_type": "stream",
     "text": [
      "(T):  74%|███████▍  | 74/100 [01:06<00:22,  1.15it/s, loss=26.4]"
     ]
    },
    {
     "name": "stdout",
     "output_type": "stream",
     "text": [
      "debias loss\n",
      " tensor(9.8768, device='cuda:0', grad_fn=<MulBackward0>)\n",
      "debias loss\n",
      " tensor(9.9202, device='cuda:0', grad_fn=<MulBackward0>)\n",
      "debias loss\n",
      " tensor(9.9174, device='cuda:0', grad_fn=<MulBackward0>)\n",
      "debias loss\n",
      " tensor(9.8192, device='cuda:0', grad_fn=<MulBackward0>)\n",
      "debias loss\n",
      " tensor(9.8269, device='cuda:0', grad_fn=<MulBackward0>)\n",
      "debias loss\n",
      " tensor(8.6477, device='cuda:0', grad_fn=<MulBackward0>)\n"
     ]
    },
    {
     "name": "stderr",
     "output_type": "stream",
     "text": [
      "(T):  75%|███████▌  | 75/100 [01:07<00:20,  1.20it/s, loss=26.5]"
     ]
    },
    {
     "name": "stdout",
     "output_type": "stream",
     "text": [
      "debias loss\n",
      " tensor(9.7620, device='cuda:0', grad_fn=<MulBackward0>)\n",
      "debias loss\n",
      " tensor(9.8620, device='cuda:0', grad_fn=<MulBackward0>)\n",
      "debias loss\n",
      " tensor(9.8056, device='cuda:0', grad_fn=<MulBackward0>)\n",
      "debias loss\n",
      " tensor(9.8952, device='cuda:0', grad_fn=<MulBackward0>)\n",
      "debias loss\n",
      " tensor(9.8873, device='cuda:0', grad_fn=<MulBackward0>)\n",
      "debias loss\n",
      " tensor(8.7307, device='cuda:0', grad_fn=<MulBackward0>)\n"
     ]
    },
    {
     "name": "stderr",
     "output_type": "stream",
     "text": [
      "(T):  76%|███████▌  | 76/100 [01:08<00:20,  1.18it/s, loss=26.4]"
     ]
    },
    {
     "name": "stdout",
     "output_type": "stream",
     "text": [
      "debias loss\n",
      " tensor(9.8377, device='cuda:0', grad_fn=<MulBackward0>)\n",
      "debias loss\n",
      " tensor(9.8723, device='cuda:0', grad_fn=<MulBackward0>)\n",
      "debias loss\n",
      " tensor(9.7981, device='cuda:0', grad_fn=<MulBackward0>)\n",
      "debias loss\n",
      " tensor(9.7824, device='cuda:0', grad_fn=<MulBackward0>)\n",
      "debias loss\n",
      " tensor(9.7150, device='cuda:0', grad_fn=<MulBackward0>)\n"
     ]
    },
    {
     "name": "stderr",
     "output_type": "stream",
     "text": [
      "(T):  77%|███████▋  | 77/100 [01:09<00:19,  1.17it/s, loss=26.4]"
     ]
    },
    {
     "name": "stdout",
     "output_type": "stream",
     "text": [
      "debias loss\n",
      " tensor(8.6079, device='cuda:0', grad_fn=<MulBackward0>)\n",
      "debias loss\n",
      " tensor(9.9329, device='cuda:0', grad_fn=<MulBackward0>)\n",
      "debias loss\n",
      " tensor(10.0383, device='cuda:0', grad_fn=<MulBackward0>)\n",
      "debias loss\n",
      " tensor(9.9704, device='cuda:0', grad_fn=<MulBackward0>)\n",
      "debias loss\n",
      " tensor(9.9762, device='cuda:0', grad_fn=<MulBackward0>)\n",
      "debias loss\n",
      " tensor(9.8354, device='cuda:0', grad_fn=<MulBackward0>)\n",
      "debias loss\n",
      " tensor(8.5470, device='cuda:0', grad_fn=<MulBackward0>)\n"
     ]
    },
    {
     "name": "stderr",
     "output_type": "stream",
     "text": [
      "(T):  78%|███████▊  | 78/100 [01:10<00:18,  1.22it/s, loss=26.4]"
     ]
    },
    {
     "name": "stdout",
     "output_type": "stream",
     "text": [
      "debias loss\n",
      " tensor(9.9643, device='cuda:0', grad_fn=<MulBackward0>)\n",
      "debias loss\n",
      " tensor(9.9320, device='cuda:0', grad_fn=<MulBackward0>)\n",
      "debias loss\n",
      " tensor(9.9264, device='cuda:0', grad_fn=<MulBackward0>)\n",
      "debias loss\n",
      " tensor(9.9627, device='cuda:0', grad_fn=<MulBackward0>)\n",
      "debias loss\n",
      " tensor(9.9259, device='cuda:0', grad_fn=<MulBackward0>)\n",
      "debias loss\n",
      " tensor(8.7082, device='cuda:0', grad_fn=<MulBackward0>)\n"
     ]
    },
    {
     "name": "stderr",
     "output_type": "stream",
     "text": [
      "(T):  79%|███████▉  | 79/100 [01:11<00:18,  1.13it/s, loss=26.3]"
     ]
    },
    {
     "name": "stdout",
     "output_type": "stream",
     "text": [
      "debias loss\n",
      " tensor(9.8274, device='cuda:0', grad_fn=<MulBackward0>)\n",
      "debias loss\n",
      " tensor(9.8897, device='cuda:0', grad_fn=<MulBackward0>)\n",
      "debias loss\n",
      " tensor(9.9192, device='cuda:0', grad_fn=<MulBackward0>)\n",
      "debias loss\n",
      " tensor(9.9189, device='cuda:0', grad_fn=<MulBackward0>)\n",
      "debias loss\n",
      " tensor(9.9940, device='cuda:0', grad_fn=<MulBackward0>)\n",
      "debias loss\n",
      " tensor(8.7907, device='cuda:0', grad_fn=<MulBackward0>)\n"
     ]
    },
    {
     "name": "stderr",
     "output_type": "stream",
     "text": [
      "(T):  80%|████████  | 80/100 [01:12<00:17,  1.12it/s, loss=26.5]"
     ]
    },
    {
     "name": "stdout",
     "output_type": "stream",
     "text": [
      "debias loss\n",
      " tensor(9.9747, device='cuda:0', grad_fn=<MulBackward0>)\n",
      "debias loss\n",
      " tensor(9.9424, device='cuda:0', grad_fn=<MulBackward0>)\n",
      "debias loss\n",
      " tensor(9.9313, device='cuda:0', grad_fn=<MulBackward0>)\n",
      "debias loss\n",
      " tensor(9.7802, device='cuda:0', grad_fn=<MulBackward0>)\n"
     ]
    },
    {
     "name": "stderr",
     "output_type": "stream",
     "text": [
      "(T):  81%|████████  | 81/100 [01:13<00:17,  1.11it/s, loss=26.4]"
     ]
    },
    {
     "name": "stdout",
     "output_type": "stream",
     "text": [
      "debias loss\n",
      " tensor(9.8230, device='cuda:0', grad_fn=<MulBackward0>)\n",
      "debias loss\n",
      " tensor(8.7185, device='cuda:0', grad_fn=<MulBackward0>)\n",
      "debias loss\n",
      " tensor(9.8327, device='cuda:0', grad_fn=<MulBackward0>)\n",
      "debias loss\n",
      " tensor(9.7929, device='cuda:0', grad_fn=<MulBackward0>)\n",
      "debias loss\n",
      " tensor(9.8571, device='cuda:0', grad_fn=<MulBackward0>)\n",
      "debias loss\n",
      " tensor(9.9574, device='cuda:0', grad_fn=<MulBackward0>)\n",
      "debias loss\n",
      " tensor(9.8441, device='cuda:0', grad_fn=<MulBackward0>)\n",
      "debias loss\n",
      " tensor(8.6933, device='cuda:0', grad_fn=<MulBackward0>)\n"
     ]
    },
    {
     "name": "stderr",
     "output_type": "stream",
     "text": [
      "(T):  82%|████████▏ | 82/100 [01:14<00:16,  1.08it/s, loss=26.4]"
     ]
    },
    {
     "name": "stdout",
     "output_type": "stream",
     "text": [
      "debias loss\n",
      " tensor(9.8535, device='cuda:0', grad_fn=<MulBackward0>)\n",
      "debias loss\n",
      " tensor(9.7657, device='cuda:0', grad_fn=<MulBackward0>)\n",
      "debias loss\n",
      " tensor(9.7454, device='cuda:0', grad_fn=<MulBackward0>)\n",
      "debias loss\n",
      " tensor(9.7149, device='cuda:0', grad_fn=<MulBackward0>)\n",
      "debias loss\n",
      " tensor(9.7416, device='cuda:0', grad_fn=<MulBackward0>)\n",
      "debias loss\n",
      " tensor(8.6835, device='cuda:0', grad_fn=<MulBackward0>)\n"
     ]
    },
    {
     "name": "stderr",
     "output_type": "stream",
     "text": [
      "(T):  83%|████████▎ | 83/100 [01:15<00:16,  1.05it/s, loss=26.3]"
     ]
    },
    {
     "name": "stdout",
     "output_type": "stream",
     "text": [
      "debias loss\n",
      " tensor(9.8491, device='cuda:0', grad_fn=<MulBackward0>)\n",
      "debias loss\n",
      " tensor(9.9664, device='cuda:0', grad_fn=<MulBackward0>)\n",
      "debias loss\n",
      " tensor(9.9535, device='cuda:0', grad_fn=<MulBackward0>)\n",
      "debias loss\n",
      " tensor(10.0217, device='cuda:0', grad_fn=<MulBackward0>)\n",
      "debias loss\n",
      " tensor(9.9246, device='cuda:0', grad_fn=<MulBackward0>)\n",
      "debias loss\n",
      " tensor(8.6561, device='cuda:0', grad_fn=<MulBackward0>)\n"
     ]
    },
    {
     "name": "stderr",
     "output_type": "stream",
     "text": [
      "(T):  84%|████████▍ | 84/100 [01:16<00:15,  1.04it/s, loss=26.3]"
     ]
    },
    {
     "name": "stdout",
     "output_type": "stream",
     "text": [
      "debias loss\n",
      " tensor(9.9359, device='cuda:0', grad_fn=<MulBackward0>)\n",
      "debias loss\n",
      " tensor(9.8703, device='cuda:0', grad_fn=<MulBackward0>)\n",
      "debias loss\n",
      " tensor(9.8489, device='cuda:0', grad_fn=<MulBackward0>)\n",
      "debias loss\n",
      " tensor(9.9663, device='cuda:0', grad_fn=<MulBackward0>)\n",
      "debias loss\n",
      " tensor(9.9361, device='cuda:0', grad_fn=<MulBackward0>)\n",
      "debias loss\n",
      " tensor(8.6123, device='cuda:0', grad_fn=<MulBackward0>)\n"
     ]
    },
    {
     "name": "stderr",
     "output_type": "stream",
     "text": [
      "(T):  85%|████████▌ | 85/100 [01:16<00:14,  1.04it/s, loss=26.4]"
     ]
    },
    {
     "name": "stdout",
     "output_type": "stream",
     "text": [
      "debias loss\n",
      " tensor(9.8837, device='cuda:0', grad_fn=<MulBackward0>)\n",
      "debias loss\n",
      " tensor(9.8946, device='cuda:0', grad_fn=<MulBackward0>)\n",
      "debias loss\n",
      " tensor(9.9817, device='cuda:0', grad_fn=<MulBackward0>)\n",
      "debias loss\n",
      " tensor(9.8689, device='cuda:0', grad_fn=<MulBackward0>)\n",
      "debias loss\n",
      " tensor(9.9445, device='cuda:0', grad_fn=<MulBackward0>)\n",
      "debias loss\n",
      " tensor(8.7118, device='cuda:0', grad_fn=<MulBackward0>)\n"
     ]
    },
    {
     "name": "stderr",
     "output_type": "stream",
     "text": [
      "(T):  86%|████████▌ | 86/100 [01:17<00:13,  1.04it/s, loss=26.4]"
     ]
    },
    {
     "name": "stdout",
     "output_type": "stream",
     "text": [
      "debias loss\n",
      " tensor(9.9631, device='cuda:0', grad_fn=<MulBackward0>)\n",
      "debias loss\n",
      " tensor(9.9149, device='cuda:0', grad_fn=<MulBackward0>)\n",
      "debias loss\n",
      " tensor(9.8921, device='cuda:0', grad_fn=<MulBackward0>)\n",
      "debias loss\n",
      " tensor(9.8990, device='cuda:0', grad_fn=<MulBackward0>)\n",
      "debias loss\n",
      " tensor(9.8235, device='cuda:0', grad_fn=<MulBackward0>)\n",
      "debias loss\n",
      " tensor(8.6716, device='cuda:0', grad_fn=<MulBackward0>)\n"
     ]
    },
    {
     "name": "stderr",
     "output_type": "stream",
     "text": [
      "(T):  87%|████████▋ | 87/100 [01:18<00:11,  1.10it/s, loss=26.3]"
     ]
    },
    {
     "name": "stdout",
     "output_type": "stream",
     "text": [
      "debias loss\n",
      " tensor(9.8898, device='cuda:0', grad_fn=<MulBackward0>)\n",
      "debias loss\n",
      " tensor(9.9429, device='cuda:0', grad_fn=<MulBackward0>)\n",
      "debias loss\n",
      " tensor(9.9584, device='cuda:0', grad_fn=<MulBackward0>)\n",
      "debias loss\n",
      " tensor(9.9315, device='cuda:0', grad_fn=<MulBackward0>)\n"
     ]
    },
    {
     "name": "stderr",
     "output_type": "stream",
     "text": [
      "(T):  88%|████████▊ | 88/100 [01:19<00:11,  1.07it/s, loss=26.4]"
     ]
    },
    {
     "name": "stdout",
     "output_type": "stream",
     "text": [
      "debias loss\n",
      " tensor(9.9005, device='cuda:0', grad_fn=<MulBackward0>)\n",
      "debias loss\n",
      " tensor(8.5713, device='cuda:0', grad_fn=<MulBackward0>)\n",
      "debias loss\n",
      " tensor(9.8933, device='cuda:0', grad_fn=<MulBackward0>)\n",
      "debias loss\n",
      " tensor(9.9012, device='cuda:0', grad_fn=<MulBackward0>)\n",
      "debias loss\n",
      " tensor(9.9668, device='cuda:0', grad_fn=<MulBackward0>)\n",
      "debias loss\n",
      " tensor(9.9613, device='cuda:0', grad_fn=<MulBackward0>)\n",
      "debias loss\n",
      " tensor(9.9683, device='cuda:0', grad_fn=<MulBackward0>)\n"
     ]
    },
    {
     "name": "stderr",
     "output_type": "stream",
     "text": [
      "(T):  89%|████████▉ | 89/100 [01:20<00:10,  1.10it/s, loss=26.3]"
     ]
    },
    {
     "name": "stdout",
     "output_type": "stream",
     "text": [
      "debias loss\n",
      " tensor(8.7399, device='cuda:0', grad_fn=<MulBackward0>)\n",
      "debias loss\n",
      " tensor(9.8663, device='cuda:0', grad_fn=<MulBackward0>)\n",
      "debias loss\n",
      " tensor(9.8962, device='cuda:0', grad_fn=<MulBackward0>)\n",
      "debias loss\n",
      " tensor(9.9419, device='cuda:0', grad_fn=<MulBackward0>)\n",
      "debias loss\n",
      " tensor(9.8806, device='cuda:0', grad_fn=<MulBackward0>)\n",
      "debias loss\n",
      " tensor(9.9712, device='cuda:0', grad_fn=<MulBackward0>)\n",
      "debias loss\n",
      " "
     ]
    },
    {
     "name": "stderr",
     "output_type": "stream",
     "text": [
      "(T):  90%|█████████ | 90/100 [01:21<00:09,  1.10it/s, loss=26.3]"
     ]
    },
    {
     "name": "stdout",
     "output_type": "stream",
     "text": [
      "tensor(8.5462, device='cuda:0', grad_fn=<MulBackward0>)\n",
      "debias loss\n",
      " tensor(9.7744, device='cuda:0', grad_fn=<MulBackward0>)\n",
      "debias loss\n",
      " tensor(9.8262, device='cuda:0', grad_fn=<MulBackward0>)\n",
      "debias loss\n",
      " tensor(9.7626, device='cuda:0', grad_fn=<MulBackward0>)\n",
      "debias loss\n",
      " tensor(9.8701, device='cuda:0', grad_fn=<MulBackward0>)\n",
      "debias loss\n",
      " tensor(9.8780, device='cuda:0', grad_fn=<MulBackward0>)\n",
      "debias loss\n",
      " tensor(8.7409, device='cuda:0', grad_fn=<MulBackward0>)\n"
     ]
    },
    {
     "name": "stderr",
     "output_type": "stream",
     "text": [
      "(T):  91%|█████████ | 91/100 [01:22<00:07,  1.15it/s, loss=26.3]"
     ]
    },
    {
     "name": "stdout",
     "output_type": "stream",
     "text": [
      "debias loss\n",
      " tensor(9.9812, device='cuda:0', grad_fn=<MulBackward0>)\n",
      "debias loss\n",
      " tensor(10.0058, device='cuda:0', grad_fn=<MulBackward0>)\n",
      "debias loss\n",
      " tensor(9.9455, device='cuda:0', grad_fn=<MulBackward0>)\n",
      "debias loss\n",
      " tensor(9.8465, device='cuda:0', grad_fn=<MulBackward0>)\n",
      "debias loss\n",
      " tensor(9.7695, device='cuda:0', grad_fn=<MulBackward0>)\n",
      "debias loss\n",
      " tensor(8.6848, device='cuda:0', grad_fn=<MulBackward0>)\n"
     ]
    },
    {
     "name": "stderr",
     "output_type": "stream",
     "text": [
      "(T):  92%|█████████▏| 92/100 [01:22<00:06,  1.21it/s, loss=26.4]"
     ]
    },
    {
     "name": "stdout",
     "output_type": "stream",
     "text": [
      "debias loss\n",
      " tensor(9.8265, device='cuda:0', grad_fn=<MulBackward0>)\n",
      "debias loss\n",
      " tensor(9.8675, device='cuda:0', grad_fn=<MulBackward0>)\n",
      "debias loss\n",
      " tensor(9.9217, device='cuda:0', grad_fn=<MulBackward0>)\n",
      "debias loss\n",
      " tensor(9.9274, device='cuda:0', grad_fn=<MulBackward0>)\n",
      "debias loss\n",
      " tensor(9.8988, device='cuda:0', grad_fn=<MulBackward0>)\n",
      "debias loss\n",
      " tensor(8.6689, device='cuda:0', grad_fn=<MulBackward0>)\n"
     ]
    },
    {
     "name": "stderr",
     "output_type": "stream",
     "text": [
      "(T):  93%|█████████▎| 93/100 [01:23<00:05,  1.24it/s, loss=26.3]"
     ]
    },
    {
     "name": "stdout",
     "output_type": "stream",
     "text": [
      "debias loss\n",
      " tensor(9.8632, device='cuda:0', grad_fn=<MulBackward0>)\n",
      "debias loss\n",
      " tensor(9.7515, device='cuda:0', grad_fn=<MulBackward0>)\n",
      "debias loss\n",
      " tensor(9.8555, device='cuda:0', grad_fn=<MulBackward0>)\n",
      "debias loss\n",
      " tensor(9.8514, device='cuda:0', grad_fn=<MulBackward0>)\n",
      "debias loss\n",
      " tensor(9.9398, device='cuda:0', grad_fn=<MulBackward0>)\n",
      "debias loss\n",
      " tensor(8.7922, device='cuda:0', grad_fn=<MulBackward0>)\n"
     ]
    },
    {
     "name": "stderr",
     "output_type": "stream",
     "text": [
      "(T):  94%|█████████▍| 94/100 [01:24<00:04,  1.27it/s, loss=26.2]"
     ]
    },
    {
     "name": "stdout",
     "output_type": "stream",
     "text": [
      "debias loss\n",
      " tensor(9.9243, device='cuda:0', grad_fn=<MulBackward0>)\n",
      "debias loss\n",
      " tensor(9.8257, device='cuda:0', grad_fn=<MulBackward0>)\n",
      "debias loss\n",
      " tensor(9.7864, device='cuda:0', grad_fn=<MulBackward0>)\n",
      "debias loss\n",
      " tensor(9.7980, device='cuda:0', grad_fn=<MulBackward0>)\n",
      "debias loss\n",
      " tensor(9.8732, device='cuda:0', grad_fn=<MulBackward0>)\n"
     ]
    },
    {
     "name": "stderr",
     "output_type": "stream",
     "text": [
      "(T):  95%|█████████▌| 95/100 [01:25<00:04,  1.23it/s, loss=26.3]"
     ]
    },
    {
     "name": "stdout",
     "output_type": "stream",
     "text": [
      "debias loss\n",
      " tensor(8.5833, device='cuda:0', grad_fn=<MulBackward0>)\n",
      "debias loss\n",
      " tensor(9.9006, device='cuda:0', grad_fn=<MulBackward0>)\n",
      "debias loss\n",
      " tensor(9.8180, device='cuda:0', grad_fn=<MulBackward0>)\n",
      "debias loss\n",
      " tensor(9.8223, device='cuda:0', grad_fn=<MulBackward0>)\n",
      "debias loss\n",
      " tensor(9.7872, device='cuda:0', grad_fn=<MulBackward0>)\n",
      "debias loss\n",
      " tensor(9.7331, device='cuda:0', grad_fn=<MulBackward0>)\n",
      "debias loss\n",
      " tensor(8.5744, device='cuda:0', grad_fn=<MulBackward0>)\n"
     ]
    },
    {
     "name": "stderr",
     "output_type": "stream",
     "text": [
      "(T):  96%|█████████▌| 96/100 [01:26<00:03,  1.28it/s, loss=26.4]"
     ]
    },
    {
     "name": "stdout",
     "output_type": "stream",
     "text": [
      "debias loss\n",
      " tensor(9.8641, device='cuda:0', grad_fn=<MulBackward0>)\n",
      "debias loss\n",
      " tensor(9.9309, device='cuda:0', grad_fn=<MulBackward0>)\n",
      "debias loss\n",
      " tensor(9.9514, device='cuda:0', grad_fn=<MulBackward0>)\n",
      "debias loss\n",
      " tensor(9.8940, device='cuda:0', grad_fn=<MulBackward0>)\n",
      "debias loss\n",
      " "
     ]
    },
    {
     "name": "stderr",
     "output_type": "stream",
     "text": [
      "(T):  97%|█████████▋| 97/100 [01:27<00:02,  1.19it/s, loss=26.3]"
     ]
    },
    {
     "name": "stdout",
     "output_type": "stream",
     "text": [
      "tensor(9.8357, device='cuda:0', grad_fn=<MulBackward0>)\n",
      "debias loss\n",
      " tensor(8.6926, device='cuda:0', grad_fn=<MulBackward0>)\n",
      "debias loss\n",
      " tensor(9.8465, device='cuda:0', grad_fn=<MulBackward0>)\n",
      "debias loss\n",
      " tensor(9.8411, device='cuda:0', grad_fn=<MulBackward0>)\n",
      "debias loss\n",
      " tensor(9.8174, device='cuda:0', grad_fn=<MulBackward0>)\n",
      "debias loss\n",
      " tensor(9.9069, device='cuda:0', grad_fn=<MulBackward0>)\n",
      "debias loss\n",
      " tensor(9.8548, device='cuda:0', grad_fn=<MulBackward0>)\n",
      "debias loss\n",
      " tensor(8.5487, device='cuda:0', grad_fn=<MulBackward0>)\n"
     ]
    },
    {
     "name": "stderr",
     "output_type": "stream",
     "text": [
      "(T):  98%|█████████▊| 98/100 [01:27<00:01,  1.21it/s, loss=26.5]"
     ]
    },
    {
     "name": "stdout",
     "output_type": "stream",
     "text": [
      "debias loss\n",
      " tensor(9.7782, device='cuda:0', grad_fn=<MulBackward0>)\n",
      "debias loss\n",
      " tensor(9.8057, device='cuda:0', grad_fn=<MulBackward0>)\n",
      "debias loss\n",
      " tensor(9.8662, device='cuda:0', grad_fn=<MulBackward0>)\n",
      "debias loss\n",
      " tensor(9.9850, device='cuda:0', grad_fn=<MulBackward0>)\n",
      "debias loss\n",
      " tensor(9.8832, device='cuda:0', grad_fn=<MulBackward0>)\n"
     ]
    },
    {
     "name": "stderr",
     "output_type": "stream",
     "text": [
      "(T):  99%|█████████▉| 99/100 [01:28<00:00,  1.14it/s, loss=26.4]"
     ]
    },
    {
     "name": "stdout",
     "output_type": "stream",
     "text": [
      "debias loss\n",
      " tensor(8.8088, device='cuda:0', grad_fn=<MulBackward0>)\n",
      "debias loss\n",
      " tensor(9.8974, device='cuda:0', grad_fn=<MulBackward0>)\n",
      "debias loss\n",
      " tensor(9.9172, device='cuda:0', grad_fn=<MulBackward0>)\n",
      "debias loss\n",
      " tensor(9.9127, device='cuda:0', grad_fn=<MulBackward0>)\n",
      "debias loss\n",
      " tensor(9.9812, device='cuda:0', grad_fn=<MulBackward0>)\n",
      "debias loss\n",
      " tensor(9.9739, device='cuda:0', grad_fn=<MulBackward0>)\n",
      "debias loss\n",
      " tensor(8.7662, device='cuda:0', grad_fn=<MulBackward0>)\n"
     ]
    },
    {
     "name": "stderr",
     "output_type": "stream",
     "text": [
      "(T): 100%|██████████| 100/100 [01:29<00:00,  1.12it/s, loss=26.4]\n"
     ]
    }
   ],
   "source": [
    "epoch = 100\n",
    "with tqdm(total=epoch, desc='(T)') as pbar:\n",
    "    for epoch in range(1, epoch+1):\n",
    "        loss = train(encoder_model = encoder_model, contrast_model=contrast_model, dataloader=dataloader, optimizer = optim, debias=True)\n",
    "        pbar.set_postfix({'loss': loss})\n",
    "        pbar.update()"
   ]
  },
  {
   "cell_type": "code",
   "execution_count": 62,
   "id": "21a8964a",
   "metadata": {},
   "outputs": [
    {
     "ename": "ModuleAttributeError",
     "evalue": "'Encoder' object has no attribute 'encoder'",
     "output_type": "error",
     "traceback": [
      "\u001b[0;31m-------------------------------------\u001b[0m",
      "\u001b[0;31mModuleAttributeError\u001b[0mTraceback (most recent call last)",
      "\u001b[0;32m<ipython-input-62-bee1c21a69d5>\u001b[0m in \u001b[0;36m<module>\u001b[0;34m\u001b[0m\n\u001b[0;32m----> 1\u001b[0;31m \u001b[0mtest_result\u001b[0m\u001b[0;34m,\u001b[0m \u001b[0mtest_evaluator\u001b[0m \u001b[0;34m=\u001b[0m \u001b[0mtest\u001b[0m\u001b[0;34m(\u001b[0m\u001b[0mencoder_model\u001b[0m\u001b[0;34m,\u001b[0m \u001b[0mdataloader\u001b[0m\u001b[0;34m)\u001b[0m\u001b[0;34m\u001b[0m\u001b[0;34m\u001b[0m\u001b[0m\n\u001b[0m\u001b[1;32m      2\u001b[0m \u001b[0mprint\u001b[0m\u001b[0;34m(\u001b[0m\u001b[0;34mf'(E): Best test F1Mi={test_result[\"micro_f1\"]:.4f}, F1Ma={test_result[\"macro_f1\"]:.4f} Acc={test_result[\"acc\"]:.4f}'\u001b[0m\u001b[0;34m)\u001b[0m\u001b[0;34m\u001b[0m\u001b[0;34m\u001b[0m\u001b[0m\n",
      "\u001b[0;32m<ipython-input-55-06238939d9d9>\u001b[0m in \u001b[0;36mtest\u001b[0;34m(encoder_model, dataloader, evaluator)\u001b[0m\n\u001b[1;32m      8\u001b[0m         \u001b[0mdata\u001b[0m \u001b[0;34m=\u001b[0m \u001b[0mdata\u001b[0m\u001b[0;34m.\u001b[0m\u001b[0mto\u001b[0m\u001b[0;34m(\u001b[0m\u001b[0mdevice\u001b[0m\u001b[0;34m)\u001b[0m\u001b[0;34m\u001b[0m\u001b[0;34m\u001b[0m\u001b[0m\n\u001b[1;32m      9\u001b[0m         \u001b[0mlabel\u001b[0m \u001b[0;34m=\u001b[0m \u001b[0mlabel\u001b[0m\u001b[0;34m.\u001b[0m\u001b[0mto\u001b[0m\u001b[0;34m(\u001b[0m\u001b[0mdevice\u001b[0m\u001b[0;34m)\u001b[0m\u001b[0;34m\u001b[0m\u001b[0;34m\u001b[0m\u001b[0m\n\u001b[0;32m---> 10\u001b[0;31m         \u001b[0mg\u001b[0m \u001b[0;34m=\u001b[0m \u001b[0mencoder_model\u001b[0m\u001b[0;34m.\u001b[0m\u001b[0mencoder\u001b[0m\u001b[0;34m(\u001b[0m\u001b[0mdata\u001b[0m\u001b[0;34m)\u001b[0m\u001b[0;34m\u001b[0m\u001b[0;34m\u001b[0m\u001b[0m\n\u001b[0m\u001b[1;32m     11\u001b[0m         \u001b[0mx\u001b[0m\u001b[0;34m.\u001b[0m\u001b[0mappend\u001b[0m\u001b[0;34m(\u001b[0m\u001b[0mg\u001b[0m\u001b[0;34m)\u001b[0m\u001b[0;34m\u001b[0m\u001b[0;34m\u001b[0m\u001b[0m\n\u001b[1;32m     12\u001b[0m         \u001b[0my\u001b[0m\u001b[0;34m.\u001b[0m\u001b[0mappend\u001b[0m\u001b[0;34m(\u001b[0m\u001b[0mlabel\u001b[0m\u001b[0;34m)\u001b[0m\u001b[0;34m\u001b[0m\u001b[0;34m\u001b[0m\u001b[0m\n",
      "\u001b[0;32m~/anaconda3/envs/graph/lib/python3.7/site-packages/torch/nn/modules/module.py\u001b[0m in \u001b[0;36m__getattr__\u001b[0;34m(self, name)\u001b[0m\n\u001b[1;32m    777\u001b[0m                 \u001b[0;32mreturn\u001b[0m \u001b[0mmodules\u001b[0m\u001b[0;34m[\u001b[0m\u001b[0mname\u001b[0m\u001b[0;34m]\u001b[0m\u001b[0;34m\u001b[0m\u001b[0;34m\u001b[0m\u001b[0m\n\u001b[1;32m    778\u001b[0m         raise ModuleAttributeError(\"'{}' object has no attribute '{}'\".format(\n\u001b[0;32m--> 779\u001b[0;31m             type(self).__name__, name))\n\u001b[0m\u001b[1;32m    780\u001b[0m \u001b[0;34m\u001b[0m\u001b[0m\n\u001b[1;32m    781\u001b[0m     \u001b[0;32mdef\u001b[0m \u001b[0m__setattr__\u001b[0m\u001b[0;34m(\u001b[0m\u001b[0mself\u001b[0m\u001b[0;34m,\u001b[0m \u001b[0mname\u001b[0m\u001b[0;34m:\u001b[0m \u001b[0mstr\u001b[0m\u001b[0;34m,\u001b[0m \u001b[0mvalue\u001b[0m\u001b[0;34m:\u001b[0m \u001b[0mUnion\u001b[0m\u001b[0;34m[\u001b[0m\u001b[0mTensor\u001b[0m\u001b[0;34m,\u001b[0m \u001b[0;34m'Module'\u001b[0m\u001b[0;34m]\u001b[0m\u001b[0;34m)\u001b[0m \u001b[0;34m->\u001b[0m \u001b[0;32mNone\u001b[0m\u001b[0;34m:\u001b[0m\u001b[0;34m\u001b[0m\u001b[0;34m\u001b[0m\u001b[0m\n",
      "\u001b[0;31mModuleAttributeError\u001b[0m: 'Encoder' object has no attribute 'encoder'"
     ]
    }
   ],
   "source": [
    "test_result, test_evaluator = test(encoder_model, dataloader)\n",
    "print(f'(E): Best test F1Mi={test_result[\"micro_f1\"]:.4f}, F1Ma={test_result[\"macro_f1\"]:.4f} Acc={test_result[\"acc\"]:.4f}')"
   ]
  },
  {
   "cell_type": "code",
   "execution_count": 17,
   "id": "fb2707bd",
   "metadata": {},
   "outputs": [
    {
     "data": {
      "text/plain": [
       "0.17955801104972377"
      ]
     },
     "execution_count": 17,
     "metadata": {},
     "output_type": "execute_result"
    }
   ],
   "source": [
    "pr(test_result['predictions'])"
   ]
  },
  {
   "cell_type": "code",
   "execution_count": 18,
   "id": "8cfd2287",
   "metadata": {
    "scrolled": true
   },
   "outputs": [],
   "source": [
    "from sklearn.manifold import TSNE\n",
    "from matplotlib import pyplot as plt\n",
    "\n",
    "dataset_adult = Adult('./datasets/adult')\n",
    "X, y = dataset_adult[:]\n",
    "gender = X[:, 40:41].T\n",
    "gender = gender.reshape(-1).clone().detach()\n",
    "#X[:, 40:41] = 1\n",
    "encoder_model.to('cpu')\n",
    "Z = encoder_model.encoder.encode_project(X.to('cpu'))\n",
    "#Z_emb = TSNE(n_components=2).fit_transform(X)\n",
    "#plt.figure(figsize=(6, 5))\n",
    "#colors = ['r','g']\n",
    "#for i in range(2):\n",
    "#    plt.scatter(Z_emb[gender==i, 0], Z_emb[gender==i, 1], c=colors[i])"
   ]
  },
  {
   "cell_type": "code",
   "execution_count": 44,
   "id": "a2de45c7",
   "metadata": {},
   "outputs": [
    {
     "data": {
      "text/plain": [
       "tensor(1.0233, grad_fn=<DivBackward0>)"
      ]
     },
     "execution_count": 44,
     "metadata": {},
     "output_type": "execute_result"
    }
   ],
   "source": [
    "sng_dis(Z)"
   ]
  },
  {
   "cell_type": "markdown",
   "id": "7d612cbf",
   "metadata": {},
   "source": [
    "## Male"
   ]
  },
  {
   "cell_type": "code",
   "execution_count": 20,
   "id": "4b8d8412",
   "metadata": {},
   "outputs": [],
   "source": [
    "gender_idx = np.where(X_train[:, 40:41] == 0)[0]\n",
    "dataset_adult.reset_data(X=X_train[gender_idx], y=y_train[gender_idx])\n",
    "\n",
    "dataloader = DataLoader(dataset_adult, batch_size=2048*6, shuffle=True, num_workers=4)"
   ]
  },
  {
   "cell_type": "code",
   "execution_count": 22,
   "id": "7380e66c",
   "metadata": {
    "scrolled": true
   },
   "outputs": [
    {
     "name": "stdout",
     "output_type": "stream",
     "text": [
      "torch.Size([14518, 120])\n",
      "torch.Size([14518])\n",
      "reuse classifier...\n",
      "(E): Best test F1Mi=0.7963, F1Ma=0.7463 Acc=0.7963\n"
     ]
    }
   ],
   "source": [
    "encoder_model.to('cuda')\n",
    "test_result, _ = test(encoder_model, dataloader, evaluator=test_evaluator)\n",
    "print(f'(E): Best test F1Mi={test_result[\"micro_f1\"]:.4f}, F1Ma={test_result[\"macro_f1\"]:.4f} Acc={test_result[\"acc\"]:.4f}')"
   ]
  },
  {
   "cell_type": "code",
   "execution_count": 23,
   "id": "0c22ee50",
   "metadata": {},
   "outputs": [
    {
     "data": {
      "text/plain": [
       "0.24501032346868548"
      ]
     },
     "execution_count": 23,
     "metadata": {},
     "output_type": "execute_result"
    }
   ],
   "source": [
    "pr(test_result['predictions'])"
   ]
  },
  {
   "cell_type": "code",
   "execution_count": 25,
   "id": "875d67bb",
   "metadata": {},
   "outputs": [],
   "source": [
    "male_X, male_y = dataset_adult[:]\n",
    "encoder_model.to('cpu')\n",
    "male_Z = encoder_model.encoder.encode_project(male_X.to('cpu'))"
   ]
  },
  {
   "cell_type": "code",
   "execution_count": 34,
   "id": "268122f0",
   "metadata": {
    "scrolled": true
   },
   "outputs": [
    {
     "data": {
      "text/plain": [
       "tensor(1.0366, grad_fn=<DivBackward0>)"
      ]
     },
     "execution_count": 34,
     "metadata": {},
     "output_type": "execute_result"
    }
   ],
   "source": [
    "sng_dis(male_Z)"
   ]
  },
  {
   "cell_type": "markdown",
   "id": "4d9b91c2",
   "metadata": {},
   "source": [
    "## Female"
   ]
  },
  {
   "cell_type": "code",
   "execution_count": 27,
   "id": "f416c7c0",
   "metadata": {},
   "outputs": [],
   "source": [
    "gender_idx = np.where(X_train[:, 40:41] == 1)[0]\n",
    "dataset_adult.reset_data(X=X_train[gender_idx], y=y_train[gender_idx])\n",
    "dataloader = DataLoader(dataset_adult, batch_size=2048*6, shuffle=True, num_workers=4)"
   ]
  },
  {
   "cell_type": "code",
   "execution_count": 205,
   "id": "e35511f6",
   "metadata": {},
   "outputs": [
    {
     "name": "stdout",
     "output_type": "stream",
     "text": [
      "torch.Size([7189, 120])\n",
      "torch.Size([7189])\n",
      "reuse classifier...\n",
      "(E): Best test F1Mi=0.9236, F1Ma=0.7175 Acc=0.9236\n"
     ]
    }
   ],
   "source": [
    "test_result,_ = test(encoder_model, dataloader, evaluator=test_evaluator)\n",
    "print(f'(E): Best test F1Mi={test_result[\"micro_f1\"]:.4f}, F1Ma={test_result[\"macro_f1\"]:.4f} Acc={test_result[\"acc\"]:.4f}')"
   ]
  },
  {
   "cell_type": "code",
   "execution_count": null,
   "id": "b60d4208",
   "metadata": {},
   "outputs": [],
   "source": [
    "pr(test_result['predictions'])"
   ]
  },
  {
   "cell_type": "code",
   "execution_count": 28,
   "id": "ba65aa7c",
   "metadata": {},
   "outputs": [],
   "source": [
    "female_X, male_y = dataset_adult[:]\n",
    "female_Z = encoder_model.encoder.encode_project(female_X.to('cpu'))"
   ]
  },
  {
   "cell_type": "code",
   "execution_count": 29,
   "id": "45585e26",
   "metadata": {},
   "outputs": [
    {
     "data": {
      "text/plain": [
       "tensor(1.0671, grad_fn=<MeanBackward0>)"
      ]
     },
     "execution_count": 29,
     "metadata": {},
     "output_type": "execute_result"
    }
   ],
   "source": [
    "sng_dis(female_Z)"
   ]
  },
  {
   "cell_type": "code",
   "execution_count": 30,
   "id": "1c3daa15",
   "metadata": {},
   "outputs": [
    {
     "data": {
      "text/plain": [
       "tensor(0.9990, grad_fn=<MeanBackward0>)"
      ]
     },
     "execution_count": 30,
     "metadata": {},
     "output_type": "execute_result"
    }
   ],
   "source": [
    "dua_dis(male_Z, female_Z)"
   ]
  },
  {
   "cell_type": "markdown",
   "id": "4052273d",
   "metadata": {},
   "source": [
    "# conditional"
   ]
  },
  {
   "cell_type": "code",
   "execution_count": 47,
   "id": "077a5da8",
   "metadata": {},
   "outputs": [],
   "source": [
    "dataset_adult = Adult('./datasets/adult')\n",
    "dataloader = DataLoader(dataset_adult, batch_size=2048*6, shuffle=True, num_workers=1)"
   ]
  },
  {
   "cell_type": "code",
   "execution_count": 48,
   "id": "200dc7f4",
   "metadata": {},
   "outputs": [
    {
     "data": {
      "text/plain": [
       "tensor([7189.])"
      ]
     },
     "execution_count": 48,
     "metadata": {},
     "output_type": "execute_result"
    }
   ],
   "source": [
    "sum(dataset_adult[:][0][:, 40:41])"
   ]
  },
  {
   "cell_type": "code",
   "execution_count": 49,
   "id": "f3145910",
   "metadata": {},
   "outputs": [],
   "source": [
    "mlp_adult = MLP(57, 120)\n",
    "aug = FeatureDrop(drop_prob=0.2)\n",
    "encoder_model = Encoder(encoder = mlp_adult, augmentor = aug)"
   ]
  },
  {
   "cell_type": "code",
   "execution_count": 50,
   "id": "f809d4b2",
   "metadata": {},
   "outputs": [],
   "source": [
    "contrast_model = DualBranchContrast(loss=L.InfoNCE(tau=0.1), mode='G2G').to(device)\n",
    "optim = Adam(encoder_model.parameters(), lr=0.01)"
   ]
  },
  {
   "cell_type": "code",
   "execution_count": 51,
   "id": "ca14ee6f",
   "metadata": {},
   "outputs": [
    {
     "name": "stderr",
     "output_type": "stream",
     "text": [
      "(T): 100%|██████████| 200/200 [04:09<00:00,  1.25s/it, loss=6.73]\n"
     ]
    }
   ],
   "source": [
    "epoch = 200\n",
    "with tqdm(total=epoch, desc='(T)') as pbar:\n",
    "    for epoch in range(1, epoch+1):\n",
    "        loss = train(encoder_model = encoder_model, contrast_model=contrast_model, dataloader=dataloader, optimizer = optim, conditional=True)\n",
    "        pbar.set_postfix({'loss': loss})\n",
    "        pbar.update()"
   ]
  },
  {
   "cell_type": "code",
   "execution_count": 52,
   "id": "ed9052a9",
   "metadata": {
    "scrolled": true
   },
   "outputs": [
    {
     "name": "stdout",
     "output_type": "stream",
     "text": [
      "torch.Size([21707, 120])\n",
      "torch.Size([21707])\n",
      "fit new classifier...\n"
     ]
    },
    {
     "name": "stderr",
     "output_type": "stream",
     "text": [
      "/home/grads/q/qf31/anaconda3/envs/graph/lib/python3.7/site-packages/sklearn/svm/_base.py:986: ConvergenceWarning: Liblinear failed to converge, increase the number of iterations.\n",
      "  \"the number of iterations.\", ConvergenceWarning)\n",
      "/home/grads/q/qf31/anaconda3/envs/graph/lib/python3.7/site-packages/sklearn/svm/_base.py:986: ConvergenceWarning: Liblinear failed to converge, increase the number of iterations.\n",
      "  \"the number of iterations.\", ConvergenceWarning)\n",
      "/home/grads/q/qf31/anaconda3/envs/graph/lib/python3.7/site-packages/sklearn/svm/_base.py:986: ConvergenceWarning: Liblinear failed to converge, increase the number of iterations.\n",
      "  \"the number of iterations.\", ConvergenceWarning)\n",
      "/home/grads/q/qf31/anaconda3/envs/graph/lib/python3.7/site-packages/sklearn/svm/_base.py:986: ConvergenceWarning: Liblinear failed to converge, increase the number of iterations.\n",
      "  \"the number of iterations.\", ConvergenceWarning)\n",
      "/home/grads/q/qf31/anaconda3/envs/graph/lib/python3.7/site-packages/sklearn/svm/_base.py:986: ConvergenceWarning: Liblinear failed to converge, increase the number of iterations.\n",
      "  \"the number of iterations.\", ConvergenceWarning)\n"
     ]
    },
    {
     "name": "stdout",
     "output_type": "stream",
     "text": [
      "(E): Best test F1Mi=0.8430, F1Ma=0.7639 Acc=0.8430\n"
     ]
    },
    {
     "name": "stderr",
     "output_type": "stream",
     "text": [
      "/home/grads/q/qf31/anaconda3/envs/graph/lib/python3.7/site-packages/sklearn/svm/_base.py:986: ConvergenceWarning: Liblinear failed to converge, increase the number of iterations.\n",
      "  \"the number of iterations.\", ConvergenceWarning)\n"
     ]
    }
   ],
   "source": [
    "encoder_model.to('cuda')\n",
    "test_result, _evaluator = test(encoder_model, dataloader)\n",
    "print(f'(E): Best test F1Mi={test_result[\"micro_f1\"]:.4f}, F1Ma={test_result[\"macro_f1\"]:.4f} Acc={test_result[\"acc\"]:.4f}')"
   ]
  },
  {
   "cell_type": "code",
   "execution_count": 53,
   "id": "c9de14a2",
   "metadata": {},
   "outputs": [
    {
     "data": {
      "text/plain": [
       "0.1781767955801105"
      ]
     },
     "execution_count": 53,
     "metadata": {},
     "output_type": "execute_result"
    }
   ],
   "source": [
    "pr(test_result['predictions'])"
   ]
  },
  {
   "cell_type": "markdown",
   "id": "0ba6bde0",
   "metadata": {},
   "source": [
    "tSNE"
   ]
  },
  {
   "cell_type": "code",
   "execution_count": 74,
   "id": "64b37cef",
   "metadata": {
    "scrolled": true
   },
   "outputs": [],
   "source": [
    "from sklearn.manifold import TSNE\n",
    "from matplotlib import pyplot as plt\n",
    "encoder_model.to('cpu')\n",
    "dataset_adult = Adult('./datasets/adult')\n",
    "X, y = dataset_adult[:]\n",
    "gender = X[:, 40:41].T\n",
    "gender = gender.reshape(-1).clone().detach()\n",
    "X[:, 40:41] = 0\n",
    "Z = encoder_model.encoder.encode_project(X.to('cpu'))\n",
    "#Z_emb = TSNE(n_components=2).fit_transform(X)\n",
    "#plt.figure(figsize=(6, 5))\n",
    "#colors = ['r','g']\n",
    "#for i in range(2):\n",
    "#    plt.scatter(Z_emb[gender==i, 0], Z_emb[gender==i, 1], c=colors[i])"
   ]
  },
  {
   "cell_type": "code",
   "execution_count": 75,
   "id": "ceea30ce",
   "metadata": {},
   "outputs": [
    {
     "data": {
      "text/plain": [
       "tensor(1.0358, grad_fn=<DivBackward0>)"
      ]
     },
     "execution_count": 75,
     "metadata": {},
     "output_type": "execute_result"
    }
   ],
   "source": [
    "sng_dis(Z)"
   ]
  },
  {
   "cell_type": "markdown",
   "id": "26fe1ede",
   "metadata": {},
   "source": [
    "## male"
   ]
  },
  {
   "cell_type": "code",
   "execution_count": 56,
   "id": "23e1e52b",
   "metadata": {},
   "outputs": [],
   "source": [
    "gender_idx = np.where(X_train[:, 40:41] == 0)[0]\n",
    "dataset_adult.reset_data(X=X_train[gender_idx], y=y_train[gender_idx])\n",
    "dataloader = DataLoader(dataset_adult, batch_size=2048*6, shuffle=True, num_workers=4)"
   ]
  },
  {
   "cell_type": "code",
   "execution_count": 59,
   "id": "93815a32",
   "metadata": {},
   "outputs": [
    {
     "name": "stdout",
     "output_type": "stream",
     "text": [
      "torch.Size([14518, 120])\n",
      "torch.Size([14518])\n",
      "reuse classifier...\n",
      "(E): Best test F1Mi=0.8176, F1Ma=0.7687 Acc=0.8176\n"
     ]
    }
   ],
   "source": [
    "encoder_model.to('cuda')\n",
    "test_result, _ = test(encoder_model, dataloader, _evaluator)\n",
    "print(f'(E): Best test F1Mi={test_result[\"micro_f1\"]:.4f}, F1Ma={test_result[\"macro_f1\"]:.4f} Acc={test_result[\"acc\"]:.4f}')"
   ]
  },
  {
   "cell_type": "code",
   "execution_count": 60,
   "id": "901179e5",
   "metadata": {},
   "outputs": [
    {
     "data": {
      "text/plain": [
       "0.23881624225739848"
      ]
     },
     "execution_count": 60,
     "metadata": {},
     "output_type": "execute_result"
    }
   ],
   "source": [
    "sum(test_result['predictions'])/len(test_result['predictions'])"
   ]
  },
  {
   "cell_type": "code",
   "execution_count": 61,
   "id": "8c896e7e",
   "metadata": {
    "scrolled": true
   },
   "outputs": [],
   "source": [
    "encoder_model.to('cpu')\n",
    "male_X, male_y = dataset_adult[:]\n",
    "male_Z = encoder_model.encoder.encode_project(male_X.to('cpu'))"
   ]
  },
  {
   "cell_type": "code",
   "execution_count": 62,
   "id": "d7feab46",
   "metadata": {},
   "outputs": [
    {
     "data": {
      "text/plain": [
       "tensor(1.0543, grad_fn=<DivBackward0>)"
      ]
     },
     "execution_count": 62,
     "metadata": {},
     "output_type": "execute_result"
    }
   ],
   "source": [
    "sng_dis(male_Z)"
   ]
  },
  {
   "cell_type": "markdown",
   "id": "471db95e",
   "metadata": {},
   "source": [
    "## female"
   ]
  },
  {
   "cell_type": "code",
   "execution_count": 63,
   "id": "7e3ce102",
   "metadata": {},
   "outputs": [],
   "source": [
    "gender_idx = np.where(X_train[:, 40:41] == 1)[0]\n",
    "dataset_adult.reset_data(X=X_train[gender_idx], y=y_train[gender_idx])\n",
    "dataloader = DataLoader(dataset_adult, batch_size=2048*6, shuffle=True, num_workers=4)"
   ]
  },
  {
   "cell_type": "code",
   "execution_count": 65,
   "id": "56138830",
   "metadata": {},
   "outputs": [
    {
     "name": "stdout",
     "output_type": "stream",
     "text": [
      "torch.Size([7189, 120])\n",
      "torch.Size([7189])\n",
      "reuse classifier...\n",
      "(E): Best test F1Mi=0.9278, F1Ma=0.7706 Acc=0.9278\n"
     ]
    }
   ],
   "source": [
    "encoder_model.to('cuda')\n",
    "test_result, _ = test(encoder_model, dataloader, _evaluator)\n",
    "print(f'(E): Best test F1Mi={test_result[\"micro_f1\"]:.4f}, F1Ma={test_result[\"macro_f1\"]:.4f} Acc={test_result[\"acc\"]:.4f}')"
   ]
  },
  {
   "cell_type": "code",
   "execution_count": 66,
   "id": "65beabef",
   "metadata": {},
   "outputs": [
    {
     "data": {
      "text/plain": [
       "0.0625"
      ]
     },
     "execution_count": 66,
     "metadata": {},
     "output_type": "execute_result"
    }
   ],
   "source": [
    "sum(test_result['predictions'])/len(test_result['predictions'])"
   ]
  },
  {
   "cell_type": "code",
   "execution_count": 69,
   "id": "53cc4331",
   "metadata": {},
   "outputs": [],
   "source": [
    "encoder_model.to('cpu')\n",
    "female_X, male_y = dataset_adult[:]\n",
    "female_Z = encoder_model.encoder.encode_project(female_X.to('cpu'))"
   ]
  },
  {
   "cell_type": "code",
   "execution_count": 70,
   "id": "4f63bbe7",
   "metadata": {},
   "outputs": [
    {
     "data": {
      "text/plain": [
       "tensor(1.0515, grad_fn=<DivBackward0>)"
      ]
     },
     "execution_count": 70,
     "metadata": {},
     "output_type": "execute_result"
    }
   ],
   "source": [
    "sng_dis(female_Z)"
   ]
  },
  {
   "cell_type": "code",
   "execution_count": 72,
   "id": "603238af",
   "metadata": {},
   "outputs": [
    {
     "data": {
      "text/plain": [
       "tensor(1.0221, grad_fn=<MeanBackward0>)"
      ]
     },
     "execution_count": 72,
     "metadata": {},
     "output_type": "execute_result"
    }
   ],
   "source": [
    "dua_dis(male_Z, female_Z)"
   ]
  },
  {
   "cell_type": "code",
   "execution_count": 143,
   "id": "e3d579cc",
   "metadata": {},
   "outputs": [],
   "source": [
    "# resample\n",
    "idx_m = np.where(gender == 0)[0]\n",
    "idx_fm = np.where(gender == 1)[0]\n",
    "sample_m = idx_m[np.random.choice(idx_m.size, idx_fm.size, replace=False)]\n",
    "sample_fm = idx_fm[np.random.choice(idx_fm.size, idx_fm.size, replace=False)]"
   ]
  },
  {
   "cell_type": "code",
   "execution_count": 144,
   "id": "507179b5",
   "metadata": {},
   "outputs": [],
   "source": [
    "balance_Z = torch.cat((Z[sample_m],Z[sample_fm]),0)\n",
    "balance_gender = torch.cat((gender[sample_m],gender[sample_fm]),0)"
   ]
  },
  {
   "cell_type": "code",
   "execution_count": 185,
   "id": "0f1e4f9a",
   "metadata": {},
   "outputs": [
    {
     "data": {
      "image/png": "[encoded data removed]",
      "text/plain": [
       "<Figure size 432x288 with 1 Axes>"
      ]
     },
     "metadata": {
      "needs_background": "light"
     },
     "output_type": "display_data"
    },
    {
     "name": "stdout",
     "output_type": "stream",
     "text": [
      "tensor(0.)\n"
     ]
    }
   ],
   "source": [
    "import matplotlib.pyplot as plt\n",
    "idx=-1\n",
    "\n",
    "a = dis_dist(balance_Z,  idx).detach().numpy()\n",
    "_ = plt.hist(a, bins='auto')  # arguments are passed to np.histogram\n",
    "plt.title(\"Histogram with 'auto' bins\")\n",
    "plt.show()\n",
    "print(gender[idx])"
   ]
  },
  {
   "cell_type": "code",
   "execution_count": 186,
   "id": "65e414ba",
   "metadata": {},
   "outputs": [],
   "source": [
    "#male_a = a[np.where(gender == 0)[0]]\n",
    "male_a = a[np.where(balance_gender == 0)[0]]"
   ]
  },
  {
   "cell_type": "code",
   "execution_count": 187,
   "id": "d30c1394",
   "metadata": {},
   "outputs": [
    {
     "data": {
      "image/png": "[encoded data removed]",
      "text/plain": [
       "<Figure size 432x288 with 1 Axes>"
      ]
     },
     "metadata": {
      "needs_background": "light"
     },
     "output_type": "display_data"
    }
   ],
   "source": [
    "_ = plt.hist(male_a, bins='auto')  # arguments are passed to np.histogram\n",
    "plt.title(\"Histogram with 'auto' bins\")\n",
    "plt.show()"
   ]
  },
  {
   "cell_type": "code",
   "execution_count": 188,
   "id": "7310da21",
   "metadata": {},
   "outputs": [],
   "source": [
    "#female_a = a[np.where(gender == 1)[0]]\n",
    "female_a = a[np.where(balance_gender == 1)[0]]"
   ]
  },
  {
   "cell_type": "code",
   "execution_count": 189,
   "id": "ecee44c7",
   "metadata": {},
   "outputs": [
    {
     "data": {
      "image/png": "[encoded data removed]",
      "text/plain": [
       "<Figure size 432x288 with 1 Axes>"
      ]
     },
     "metadata": {
      "needs_background": "light"
     },
     "output_type": "display_data"
    }
   ],
   "source": [
    "_ = plt.hist(female_a, bins='auto')  # arguments are passed to np.histogram\n",
    "plt.title(\"Histogram with 'auto' bins\")\n",
    "plt.show()"
   ]
  },
  {
   "cell_type": "code",
   "execution_count": 190,
   "id": "82b302b6",
   "metadata": {},
   "outputs": [
    {
     "data": {
      "image/png": "[encoded data removed]",
      "text/plain": [
       "<Figure size 432x288 with 1 Axes>"
      ]
     },
     "metadata": {
      "needs_background": "light"
     },
     "output_type": "display_data"
    }
   ],
   "source": [
    "#x = male_a[np.random.choice(male_a.size, female_a.size, replace=False)]\n",
    "x = male_a\n",
    "y = female_a\n",
    "\n",
    "bins = np.linspace(-1, 1, 100)\n",
    "\n",
    "plt.hist(x, bins, alpha=0.5, label='male')\n",
    "plt.hist(y, bins, alpha=0.5, label='female')\n",
    "plt.legend(loc='upper right')\n",
    "plt.show()"
   ]
  },
  {
   "cell_type": "code",
   "execution_count": 112,
   "id": "c5aed091",
   "metadata": {},
   "outputs": [
    {
     "ename": "AttributeError",
     "evalue": "'numpy.ndarray' object has no attribute 'size0'",
     "output_type": "error",
     "traceback": [
      "\u001b[0;31m---------------------------------------------------------------------------\u001b[0m",
      "\u001b[0;31mAttributeError\u001b[0m                            Traceback (most recent call last)",
      "\u001b[0;32m<ipython-input-112-400ce951c4a8>\u001b[0m in \u001b[0;36m<module>\u001b[0;34m\u001b[0m\n\u001b[0;32m----> 1\u001b[0;31m \u001b[0mfemale_a\u001b[0m\u001b[0;34m.\u001b[0m\u001b[0msize0\u001b[0m\u001b[0;34m\u001b[0m\u001b[0;34m\u001b[0m\u001b[0m\n\u001b[0m",
      "\u001b[0;31mAttributeError\u001b[0m: 'numpy.ndarray' object has no attribute 'size0'"
     ]
    }
   ],
   "source": [
    "female_a.size0"
   ]
  },
  {
   "cell_type": "code",
   "execution_count": 129,
   "id": "17bccee9",
   "metadata": {},
   "outputs": [
    {
     "data": {
      "text/plain": [
       "tensor([1., 0., 1.,  ..., 0., 0., 0.])"
      ]
     },
     "execution_count": 129,
     "metadata": {},
     "output_type": "execute_result"
    }
   ],
   "source": [
    "gender"
   ]
  },
  {
   "cell_type": "code",
   "execution_count": 59,
   "id": "13628073",
   "metadata": {},
   "outputs": [],
   "source": [
    "theta = 0.25"
   ]
  },
  {
   "cell_type": "code",
   "execution_count": 114,
   "id": "fd5d642b",
   "metadata": {},
   "outputs": [],
   "source": [
    "class MIP(nn.Module):\n",
    "    def __init__(self, input_dim, hidden_dim):\n",
    "        super(MIP, self).__init__()\n",
    "        self.layers = nn.Sequential(\n",
    "            make_conv(input_dim, hidden_dim),\n",
    "            nn.BatchNorm1d(hidden_dim),\n",
    "            make_conv(hidden_dim, hidden_dim),\n",
    "            nn.BatchNorm1d(hidden_dim)\n",
    "        )\n",
    "        \n",
    "        \n",
    "        self.project_head = nn.Sequential(\n",
    "            nn.Linear(hidden_dim, hidden_dim),\n",
    "            nn.ReLU(inplace=True),\n",
    "            nn.Linear(hidden_dim, hidden_dim),\n",
    "            nn.Tanh()\n",
    "        )\n",
    "        \n",
    "    def forward(self, x):\n",
    "        return self.layers(x)\n",
    "    \n",
    "    def project(self, z):\n",
    "        return self.project_head(z)\n",
    "        \n",
    "    def encode_project(self, x):\n",
    "        return self.project_head(self.layers(x))"
   ]
  },
  {
   "cell_type": "code",
   "execution_count": 115,
   "id": "2c4fac43",
   "metadata": {},
   "outputs": [],
   "source": [
    "phi = MIP(28,120)"
   ]
  },
  {
   "cell_type": "code",
   "execution_count": 118,
   "id": "cf88d97a",
   "metadata": {},
   "outputs": [],
   "source": [
    "dis_matrix = F.normalize(balance_Z )@ F.normalize(balance_Z).T"
   ]
  },
  {
   "cell_type": "code",
   "execution_count": 125,
   "id": "1bf0ef1d",
   "metadata": {},
   "outputs": [],
   "source": [
    "balance_X = torch.cat([X[sample_m],X[sample_fm]],0)"
   ]
  },
  {
   "cell_type": "code",
   "execution_count": 128,
   "id": "eb00c7c5",
   "metadata": {},
   "outputs": [],
   "source": [
    "matrix_X = torch.stack([balance_X] * balance_X.shape[0], dim=0)"
   ]
  },
  {
   "cell_type": "code",
   "execution_count": null,
   "id": "5582bc2c",
   "metadata": {},
   "outputs": [],
   "source": []
  }
 ],
 "metadata": {
  "interpreter": {
   "hash": "91438d8f4a01555b9299b97aac0128b6577d442ff62949df0a9ad47e58fd79db"
  },
  "kernelspec": {
   "display_name": "Python 3",
   "language": "python",
   "name": "python3"
  },
  "language_info": {
   "codemirror_mode": {
    "name": "ipython",
    "version": 3
   },
   "file_extension": ".py",
   "mimetype": "text/x-python",
   "name": "python",
   "nbconvert_exporter": "python",
   "pygments_lexer": "ipython3",
   "version": "3.7.7"
  }
 },
 "nbformat": 4,
 "nbformat_minor": 5
}
