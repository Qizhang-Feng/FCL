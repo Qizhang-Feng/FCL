{
 "cells": [
  {
   "cell_type": "code",
   "execution_count": 1,
   "id": "f9d9c85d",
   "metadata": {},
   "outputs": [],
   "source": [
    "from data_util import *\n",
    "from metric_util import *\n",
    "from train_util import *\n",
    "from model import *"
   ]
  },
  {
   "cell_type": "code",
   "execution_count": 11,
   "id": "0dc3dec2",
   "metadata": {},
   "outputs": [],
   "source": [
    "dataset_adult = Adult('./datasets/adult')\n",
    "dataloader = DataLoader(dataset_adult, batch_size=2048*6, shuffle=True, num_workers=4)"
   ]
  },
  {
   "cell_type": "code",
   "execution_count": 3,
   "id": "f0084310",
   "metadata": {},
   "outputs": [],
   "source": [
    "mlp_adult = MLP(57, 120)\n",
    "aug = FeatureDrop(drop_prob=0.2)\n",
    "encoder_model = Encoder(encoder = mlp_adult, augmentor = aug)"
   ]
  },
  {
   "cell_type": "code",
   "execution_count": 4,
   "id": "aedba9f9",
   "metadata": {},
   "outputs": [
    {
     "name": "stderr",
     "output_type": "stream",
     "text": [
      "(T): 100%|██████████| 2/2 [00:03<00:00,  1.89s/it, loss=13]  \n"
     ]
    }
   ],
   "source": [
    "contrast_model = DualBranchContrast(loss=L.InfoNCE(tau=0.1), mode='G2G').to(device)\n",
    "optim = Adam(encoder_model.parameters(), lr=0.01)\n",
    "\n",
    "epoch = 2\n",
    "with tqdm(total=epoch, desc='(T)') as pbar:\n",
    "    for epoch in range(1, epoch+1):\n",
    "        loss = train(encoder_model = encoder_model, contrast_model=contrast_model, dataloader=dataloader, optimizer = optim)\n",
    "        pbar.set_postfix({'loss': loss})\n",
    "        pbar.update()"
   ]
  },
  {
   "cell_type": "code",
   "execution_count": 13,
   "id": "128d423d",
   "metadata": {},
   "outputs": [],
   "source": [
    "X, y = dataset_adult[:]\n",
    "\n",
    "encoder_model.to('cpu')\n",
    "Z = encoder_model.encoder.encode_project(X.to('cpu'))"
   ]
  },
  {
   "cell_type": "code",
   "execution_count": 14,
   "id": "28c7ead0",
   "metadata": {},
   "outputs": [
    {
     "data": {
      "text/plain": [
       "tensor(1.2272, grad_fn=<DivBackward0>)"
      ]
     },
     "execution_count": 14,
     "metadata": {},
     "output_type": "execute_result"
    }
   ],
   "source": [
    "sng_dis(Z)"
   ]
  },
  {
   "cell_type": "code",
   "execution_count": 15,
   "id": "59f7f873",
   "metadata": {},
   "outputs": [],
   "source": [
    "dataset_adult.mode = 'male'\n",
    "\n",
    "dataloader = DataLoader(dataset_adult, batch_size=2048*6, shuffle=True, num_workers=4)"
   ]
  },
  {
   "cell_type": "code",
   "execution_count": 16,
   "id": "05973ed3",
   "metadata": {},
   "outputs": [
    {
     "data": {
      "text/plain": [
       "tensor(1.2409, grad_fn=<DivBackward0>)"
      ]
     },
     "execution_count": 16,
     "metadata": {},
     "output_type": "execute_result"
    }
   ],
   "source": [
    "male_X, male_y = dataset_adult[:]\n",
    "male_Z = encoder_model.encoder.encode_project(male_X.to('cpu'))\n",
    "sng_dis(male_Z)"
   ]
  },
  {
   "cell_type": "code",
   "execution_count": 17,
   "id": "ed3ea34a",
   "metadata": {},
   "outputs": [],
   "source": [
    "dataset_adult.mode = 'female'\n",
    "dataloader = DataLoader(dataset_adult, batch_size=2048*6, shuffle=True, num_workers=4)"
   ]
  },
  {
   "cell_type": "code",
   "execution_count": 18,
   "id": "b05e1c60",
   "metadata": {},
   "outputs": [
    {
     "data": {
      "text/plain": [
       "tensor(1.2171, grad_fn=<DivBackward0>)"
      ]
     },
     "execution_count": 18,
     "metadata": {},
     "output_type": "execute_result"
    }
   ],
   "source": [
    "female_X, male_y = dataset_adult[:]\n",
    "female_Z = encoder_model.encoder.encode_project(female_X.to('cpu'))\n",
    "sng_dis(female_Z)"
   ]
  },
  {
   "cell_type": "code",
   "execution_count": 19,
   "id": "030dd47e",
   "metadata": {},
   "outputs": [
    {
     "data": {
      "text/plain": [
       "tensor(1.2166, grad_fn=<MeanBackward0>)"
      ]
     },
     "execution_count": 19,
     "metadata": {},
     "output_type": "execute_result"
    }
   ],
   "source": [
    "dua_dis(male_Z, female_Z)"
   ]
  },
  {
   "cell_type": "code",
   "execution_count": null,
   "id": "376bb8db",
   "metadata": {},
   "outputs": [],
   "source": []
  }
 ],
 "metadata": {
  "kernelspec": {
   "display_name": "Python 3",
   "language": "python",
   "name": "python3"
  },
  "language_info": {
   "codemirror_mode": {
    "name": "ipython",
    "version": 3
   },
   "file_extension": ".py",
   "mimetype": "text/x-python",
   "name": "python",
   "nbconvert_exporter": "python",
   "pygments_lexer": "ipython3",
   "version": "3.7.7"
  }
 },
 "nbformat": 4,
 "nbformat_minor": 5
}
