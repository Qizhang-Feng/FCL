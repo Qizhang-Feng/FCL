{
 "cells": [
  {
   "cell_type": "code",
   "execution_count": 1,
   "id": "93d46dae",
   "metadata": {},
   "outputs": [],
   "source": [
    "%load_ext autoreload\n",
    "%autoreload 2\n",
    "from data_util import *\n",
    "from metric_util import *\n",
    "from train_util import *\n",
    "from model import *"
   ]
  },
  {
   "cell_type": "code",
   "execution_count": 2,
   "id": "38f86122",
   "metadata": {},
   "outputs": [],
   "source": [
    "import torch \n",
    "import pickle\n",
    "from torch import nn\n",
    "import torch.nn.functional as F\n",
    "from torch.optim import Adam\n",
    "import numpy as np\n",
    "from torch.utils.data import Dataset, DataLoader\n",
    "from tqdm import tqdm\n",
    "import os\n",
    "#os.environ[\"CUDA_DEVICE_ORDER\"]=\"PCI_BUS_ID\"   # see issue #152\n",
    "#os.environ[\"CUDA_VISIBLE_DEVICES\"]=\"0\"\n",
    "import sys\n",
    "sys.path.append('./PyGCL')\n",
    "import GCL.losses as L\n",
    "from GCL.models import DualBranchContrast\n",
    "from GCL.eval import get_split, SVMEvaluator, LREvaluator\n",
    "\n",
    "\n",
    "device = 'cuda:0' if torch.cuda.is_available() else 'cpu'"
   ]
  },
  {
   "cell_type": "code",
   "execution_count": 3,
   "id": "331dd03d",
   "metadata": {},
   "outputs": [],
   "source": [
    "dataset_adult = Adult('./datasets/adult')\n",
    "dataloader = DataLoader(dataset_adult, batch_size=2048*2, shuffle=True, num_workers=4)\n",
    "#dataloader = DataLoader(dataset_adult, batch_size=8, shuffle=True, num_workers=4)"
   ]
  },
  {
   "cell_type": "code",
   "execution_count": 4,
   "id": "5cc6ea13",
   "metadata": {},
   "outputs": [],
   "source": [
    "mlp_adult = MLP(57, 120)\n",
    "mlp_sens = MLP(1,120)\n",
    "aug = FeatureDrop(drop_prob=0.2)\n",
    "encoder_model = Encoder(main_encoder = mlp_adult, augmentor = aug, sens_encoder = mlp_sens)\n",
    "encoder_model = encoder_model.to(device)"
   ]
  },
  {
   "cell_type": "code",
   "execution_count": 5,
   "id": "a989a03a",
   "metadata": {},
   "outputs": [
    {
     "name": "stderr",
     "output_type": "stream",
     "text": [
      "(T):  81%|████████  | 8087/10000 [1:53:04<26:44,  1.19it/s, loss=4.02, conditional_loss=3.88, debias_loss=0.147]  \n"
     ]
    },
    {
     "ename": "KeyboardInterrupt",
     "evalue": "",
     "output_type": "error",
     "traceback": [
      "\u001b[0;31m---------------------------------------------------------------------------\u001b[0m",
      "\u001b[0;31mKeyboardInterrupt\u001b[0m                         Traceback (most recent call last)",
      "\u001b[0;32m<ipython-input-5-288f0126ba9f>\u001b[0m in \u001b[0;36m<module>\u001b[0;34m\u001b[0m\n\u001b[1;32m      5\u001b[0m \u001b[0;32mwith\u001b[0m \u001b[0mtqdm\u001b[0m\u001b[0;34m(\u001b[0m\u001b[0mtotal\u001b[0m\u001b[0;34m=\u001b[0m\u001b[0mepoch\u001b[0m\u001b[0;34m,\u001b[0m \u001b[0mdesc\u001b[0m\u001b[0;34m=\u001b[0m\u001b[0;34m'(T)'\u001b[0m\u001b[0;34m)\u001b[0m \u001b[0;32mas\u001b[0m \u001b[0mpbar\u001b[0m\u001b[0;34m:\u001b[0m\u001b[0;34m\u001b[0m\u001b[0;34m\u001b[0m\u001b[0m\n\u001b[1;32m      6\u001b[0m     \u001b[0;32mfor\u001b[0m \u001b[0mepoch\u001b[0m \u001b[0;32min\u001b[0m \u001b[0mrange\u001b[0m\u001b[0;34m(\u001b[0m\u001b[0;36m1\u001b[0m\u001b[0;34m,\u001b[0m \u001b[0mepoch\u001b[0m\u001b[0;34m+\u001b[0m\u001b[0;36m1\u001b[0m\u001b[0;34m)\u001b[0m\u001b[0;34m:\u001b[0m\u001b[0;34m\u001b[0m\u001b[0;34m\u001b[0m\u001b[0m\n\u001b[0;32m----> 7\u001b[0;31m         \u001b[0mloss\u001b[0m\u001b[0;34m,\u001b[0m\u001b[0mconditional_loss\u001b[0m\u001b[0;34m,\u001b[0m \u001b[0mdebias_loss\u001b[0m \u001b[0;34m=\u001b[0m \u001b[0mtrain\u001b[0m\u001b[0;34m(\u001b[0m\u001b[0mencoder_model\u001b[0m \u001b[0;34m=\u001b[0m \u001b[0mencoder_model\u001b[0m\u001b[0;34m,\u001b[0m \u001b[0mcontrast_model\u001b[0m\u001b[0;34m=\u001b[0m\u001b[0mcontrast_model\u001b[0m\u001b[0;34m,\u001b[0m \u001b[0mdataloader\u001b[0m\u001b[0;34m=\u001b[0m\u001b[0mdataloader\u001b[0m\u001b[0;34m,\u001b[0m \u001b[0moptimizer\u001b[0m \u001b[0;34m=\u001b[0m \u001b[0moptim\u001b[0m\u001b[0;34m,\u001b[0m \u001b[0mconditional\u001b[0m\u001b[0;34m=\u001b[0m\u001b[0;32mTrue\u001b[0m\u001b[0;34m,\u001b[0m\u001b[0mdebias\u001b[0m\u001b[0;34m=\u001b[0m\u001b[0;32mTrue\u001b[0m\u001b[0;34m)\u001b[0m\u001b[0;34m\u001b[0m\u001b[0;34m\u001b[0m\u001b[0m\n\u001b[0m\u001b[1;32m      8\u001b[0m         \u001b[0mpbar\u001b[0m\u001b[0;34m.\u001b[0m\u001b[0mset_postfix\u001b[0m\u001b[0;34m(\u001b[0m\u001b[0;34m{\u001b[0m\u001b[0;34m'loss'\u001b[0m\u001b[0;34m:\u001b[0m \u001b[0mloss\u001b[0m\u001b[0;34m,\u001b[0m \u001b[0;34m'conditional_loss'\u001b[0m\u001b[0;34m:\u001b[0m\u001b[0mconditional_loss\u001b[0m\u001b[0;34m,\u001b[0m \u001b[0;34m'debias_loss'\u001b[0m\u001b[0;34m:\u001b[0m \u001b[0mdebias_loss\u001b[0m\u001b[0;34m}\u001b[0m\u001b[0;34m)\u001b[0m\u001b[0;34m\u001b[0m\u001b[0;34m\u001b[0m\u001b[0m\n\u001b[1;32m      9\u001b[0m         \u001b[0mpbar\u001b[0m\u001b[0;34m.\u001b[0m\u001b[0mupdate\u001b[0m\u001b[0;34m(\u001b[0m\u001b[0;34m)\u001b[0m\u001b[0;34m\u001b[0m\u001b[0;34m\u001b[0m\u001b[0m\n",
      "\u001b[0;32m~/FCL/train_util.py\u001b[0m in \u001b[0;36mtrain\u001b[0;34m(encoder_model, contrast_model, dataloader, optimizer, train, conditional, debias, **kwargs)\u001b[0m\n\u001b[1;32m     94\u001b[0m         \u001b[0moptimizer\u001b[0m\u001b[0;34m.\u001b[0m\u001b[0mstep\u001b[0m\u001b[0;34m(\u001b[0m\u001b[0;34m)\u001b[0m\u001b[0;34m\u001b[0m\u001b[0;34m\u001b[0m\u001b[0m\n\u001b[1;32m     95\u001b[0m \u001b[0;34m\u001b[0m\u001b[0m\n\u001b[0;32m---> 96\u001b[0;31m         \u001b[0mtotal_loss\u001b[0m \u001b[0;34m+=\u001b[0m \u001b[0mloss\u001b[0m\u001b[0;34m.\u001b[0m\u001b[0mitem\u001b[0m\u001b[0;34m(\u001b[0m\u001b[0;34m)\u001b[0m\u001b[0;34m\u001b[0m\u001b[0;34m\u001b[0m\u001b[0m\n\u001b[0m\u001b[1;32m     97\u001b[0m         \u001b[0mtotal_conditional_loss\u001b[0m \u001b[0;34m+=\u001b[0m \u001b[0mconditional_loss\u001b[0m\u001b[0;34m.\u001b[0m\u001b[0mitem\u001b[0m\u001b[0;34m(\u001b[0m\u001b[0;34m)\u001b[0m\u001b[0;34m\u001b[0m\u001b[0;34m\u001b[0m\u001b[0m\n\u001b[1;32m     98\u001b[0m         \u001b[0mtotal_debias_loss\u001b[0m \u001b[0;34m+=\u001b[0m \u001b[0mdebias_loss\u001b[0m\u001b[0;34m.\u001b[0m\u001b[0mitem\u001b[0m\u001b[0;34m(\u001b[0m\u001b[0;34m)\u001b[0m\u001b[0;34m\u001b[0m\u001b[0;34m\u001b[0m\u001b[0m\n",
      "\u001b[0;31mKeyboardInterrupt\u001b[0m: "
     ]
    }
   ],
   "source": [
    "contrast_model = DualBranchContrast(loss=L.FairInfoNCE(tau=0.1), mode='G2G').to(device)\n",
    "optim = Adam(encoder_model.parameters(), lr=0.00001)\n",
    "\n",
    "epoch = 10000\n",
    "with tqdm(total=epoch, desc='(T)') as pbar:\n",
    "    for epoch in range(1, epoch+1):\n",
    "        loss,conditional_loss, debias_loss = train(encoder_model = encoder_model, contrast_model=contrast_model, dataloader=dataloader, optimizer = optim, conditional=True,debias=True)\n",
    "        pbar.set_postfix({'loss': loss, 'conditional_loss':conditional_loss, 'debias_loss': debias_loss})\n",
    "        pbar.update()"
   ]
  },
  {
   "cell_type": "code",
   "execution_count": 6,
   "id": "823514be",
   "metadata": {},
   "outputs": [
    {
     "name": "stderr",
     "output_type": "stream",
     "text": [
      "(LR): 100%|██████████| 500/500 [00:00<00:00, best test F1Mi=0.84, F1Ma=0.75]  \n"
     ]
    },
    {
     "data": {
      "text/plain": [
       "{'micro_f1': 0.8402394106813996,\n",
       " 'macro_f1': 0.8382488479262673,\n",
       " 'classifier': LogisticRegression(\n",
       "   (fc): Linear(in_features=100, out_features=2, bias=True)\n",
       " )}"
      ]
     },
     "execution_count": 6,
     "metadata": {},
     "output_type": "execute_result"
    }
   ],
   "source": [
    "result, evaluator = test(encoder_model, dataloader, evaluator=LREvaluator())\n",
    "result"
   ]
  },
  {
   "cell_type": "code",
   "execution_count": 7,
   "id": "aea257c9",
   "metadata": {},
   "outputs": [],
   "source": [
    "classifier = result['classifier']"
   ]
  },
  {
   "cell_type": "code",
   "execution_count": 8,
   "id": "3aaa8197",
   "metadata": {},
   "outputs": [],
   "source": [
    "# male data\n",
    "dataset_adult.mode = 'male'\n",
    "x_0 = dataset_adult[:][0]"
   ]
  },
  {
   "cell_type": "code",
   "execution_count": 9,
   "id": "eb02a739",
   "metadata": {},
   "outputs": [],
   "source": [
    "# female data\n",
    "dataset_adult.mode = 'female'\n",
    "x_1 = dataset_adult[:][0]"
   ]
  },
  {
   "cell_type": "code",
   "execution_count": 10,
   "id": "3787aa1f",
   "metadata": {},
   "outputs": [
    {
     "data": {
      "text/plain": [
       "(array([0, 0, 0, ..., 0, 0, 0]),\n",
       " array([1, 0, 0, ..., 0, 1, 0]),\n",
       " 0.13865707184433307)"
      ]
     },
     "execution_count": 10,
     "metadata": {},
     "output_type": "execute_result"
    }
   ],
   "source": [
    "cls_dp(x_0, x_1, encoder_model, classifier)"
   ]
  },
  {
   "cell_type": "code",
   "execution_count": null,
   "id": "9704082d",
   "metadata": {},
   "outputs": [],
   "source": []
  }
 ],
 "metadata": {
  "kernelspec": {
   "display_name": "Python 3",
   "language": "python",
   "name": "python3"
  },
  "language_info": {
   "codemirror_mode": {
    "name": "ipython",
    "version": 3
   },
   "file_extension": ".py",
   "mimetype": "text/x-python",
   "name": "python",
   "nbconvert_exporter": "python",
   "pygments_lexer": "ipython3",
   "version": "3.7.7"
  }
 },
 "nbformat": 4,
 "nbformat_minor": 5
}
